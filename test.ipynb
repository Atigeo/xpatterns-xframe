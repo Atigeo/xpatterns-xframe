{
 "metadata": {
  "name": "",
  "signature": "sha256:f7e7ec69d4067f8f86c02c5628d85f0adbff5c1b0269988b7b7cc2b656a1b73f"
 },
 "nbformat": 3,
 "nbformat_minor": 0,
 "worksheets": [
  {
   "cells": [
    {
     "cell_type": "code",
     "collapsed": false,
     "input": [
      "import graphlab as gl\n",
      "from pprint import pprint"
     ],
     "language": "python",
     "metadata": {},
     "outputs": [],
     "prompt_number": 7
    },
    {
     "cell_type": "code",
     "collapsed": false,
     "input": [
      "from xpatterns.xarray import XArray\n",
      "from xpatterns.xframe import XFrame"
     ],
     "language": "python",
     "metadata": {},
     "outputs": [],
     "prompt_number": 9
    },
    {
     "cell_type": "code",
     "collapsed": false,
     "input": [
      "from pyspark import SparkContext\n"
     ],
     "language": "python",
     "metadata": {},
     "outputs": [],
     "prompt_number": 31
    },
    {
     "cell_type": "code",
     "collapsed": false,
     "input": [
      "xf = XFrame()"
     ],
     "language": "python",
     "metadata": {},
     "outputs": [],
     "prompt_number": 10
    },
    {
     "cell_type": "code",
     "collapsed": false,
     "input": [
      "xa = XArray()"
     ],
     "language": "python",
     "metadata": {},
     "outputs": [],
     "prompt_number": 11
    },
    {
     "cell_type": "code",
     "collapsed": false,
     "input": [
      "xa"
     ],
     "language": "python",
     "metadata": {},
     "outputs": [
      {
       "metadata": {},
       "output_type": "pyout",
       "prompt_number": 12,
       "text": [
        "dtype: None\n",
        "Rows: 0\n",
        "[]"
       ]
      }
     ],
     "prompt_number": 12
    },
    {
     "cell_type": "code",
     "collapsed": false,
     "input": [
      "'a' > 'b'"
     ],
     "language": "python",
     "metadata": {},
     "outputs": [
      {
       "metadata": {},
       "output_type": "pyout",
       "prompt_number": 13,
       "text": [
        "False"
       ]
      }
     ],
     "prompt_number": 13
    },
    {
     "cell_type": "code",
     "collapsed": false,
     "input": [
      "x = [1, 2, 3, 4]\n",
      "x"
     ],
     "language": "python",
     "metadata": {},
     "outputs": [
      {
       "metadata": {},
       "output_type": "pyout",
       "prompt_number": 1,
       "text": [
        "[1, 2, 3, 4]"
       ]
      }
     ],
     "prompt_number": 1
    },
    {
     "cell_type": "code",
     "collapsed": false,
     "input": [
      "x.pop(1)\n"
     ],
     "language": "python",
     "metadata": {},
     "outputs": [
      {
       "metadata": {},
       "output_type": "pyout",
       "prompt_number": 2,
       "text": [
        "2"
       ]
      }
     ],
     "prompt_number": 2
    },
    {
     "cell_type": "code",
     "collapsed": false,
     "input": [
      "x"
     ],
     "language": "python",
     "metadata": {},
     "outputs": [
      {
       "metadata": {},
       "output_type": "pyout",
       "prompt_number": 3,
       "text": [
        "[1, 3, 4]"
       ]
      }
     ],
     "prompt_number": 3
    },
    {
     "cell_type": "code",
     "collapsed": false,
     "input": [
      "x = '[1, 2]'\n",
      "x"
     ],
     "language": "python",
     "metadata": {},
     "outputs": [
      {
       "metadata": {},
       "output_type": "pyout",
       "prompt_number": 4,
       "text": [
        "'[1, 2]'"
       ]
      }
     ],
     "prompt_number": 4
    },
    {
     "cell_type": "code",
     "collapsed": false,
     "input": [
      "list(x)"
     ],
     "language": "python",
     "metadata": {},
     "outputs": [
      {
       "metadata": {},
       "output_type": "pyout",
       "prompt_number": 5,
       "text": [
        "['[', '1', ',', ' ', '2', ']']"
       ]
      }
     ],
     "prompt_number": 5
    },
    {
     "cell_type": "code",
     "collapsed": false,
     "input": [
      "import ast\n",
      "ast.literal_eval(x)"
     ],
     "language": "python",
     "metadata": {},
     "outputs": [
      {
       "metadata": {},
       "output_type": "pyout",
       "prompt_number": 6,
       "text": [
        "[1, 2]"
       ]
      }
     ],
     "prompt_number": 6
    },
    {
     "cell_type": "code",
     "collapsed": false,
     "input": [
      "x = '__X2__'\n",
      "def extract_index(s):\n",
      "    if s.startswith('__X') and s.endswith('__'):\n",
      "        index = s[3:-2]\n",
      "        return int(index)\n",
      "    return None\n",
      "\n",
      "extract_index(x)"
     ],
     "language": "python",
     "metadata": {},
     "outputs": [
      {
       "metadata": {},
       "output_type": "pyout",
       "prompt_number": 11,
       "text": [
        "2"
       ]
      }
     ],
     "prompt_number": 11
    },
    {
     "cell_type": "code",
     "collapsed": false,
     "input": [
      "x = ''\n",
      "int(x)"
     ],
     "language": "python",
     "metadata": {},
     "outputs": [
      {
       "ename": "ValueError",
       "evalue": "invalid literal for int() with base 10: ''",
       "output_type": "pyerr",
       "traceback": [
        "\u001b[1;31m---------------------------------------------------------------------------\u001b[0m\n\u001b[1;31mValueError\u001b[0m                                Traceback (most recent call last)",
        "\u001b[1;32m<ipython-input-13-5d944bff07f1>\u001b[0m in \u001b[0;36m<module>\u001b[1;34m()\u001b[0m\n\u001b[0;32m      1\u001b[0m \u001b[0mx\u001b[0m \u001b[1;33m=\u001b[0m \u001b[1;34m''\u001b[0m\u001b[1;33m\u001b[0m\u001b[0m\n\u001b[1;32m----> 2\u001b[1;33m \u001b[0mint\u001b[0m\u001b[1;33m(\u001b[0m\u001b[0mx\u001b[0m\u001b[1;33m)\u001b[0m\u001b[1;33m\u001b[0m\u001b[0m\n\u001b[0m",
        "\u001b[1;31mValueError\u001b[0m: invalid literal for int() with base 10: ''"
       ]
      }
     ],
     "prompt_number": 13
    },
    {
     "cell_type": "code",
     "collapsed": false,
     "input": [
      "with open('data/SB179010.PROF.PAC.AUG13.D071514.T1431.csv.did.csv') as f:\n",
      "    print f.readline()"
     ],
     "language": "python",
     "metadata": {},
     "outputs": [
      {
       "output_type": "stream",
       "stream": "stdout",
       "text": [
        "CLMI-CLM-PRCS-RCRD-CD,CLMI-CLM-PRCS-TXCD,CLMI-CLM-STCD,CLMI-AGENCY-CODE,CLMI-INTNL-CTL-NO,CLMI-CLM-ICN-CHK-DIG,CLMI-CLM-TRN-SRT-1,CLMI-CLM-TRN-SRT-2,CLMI-CLM-SEQ-NO,FILLER,CLMI-NO-OF-LN-ITM,CLMI-CUR-LOC-STAS,CLMI-DT-ENTD-SUSP,CLMI-CLM-BLDT,CLMI-SPL-PRCS-FLG,CLMI-ERR-CD-STAS-1,CLMI-ERR-CD-1,CLMI-ERR-CD-LN-NO-1,CLMI-ERR-CD-STAS-2,CLMI-ERR-CD-2,CLMI-ERR-CD-LN-NO-2,CLMI-ERR-CD-STAS-3,CLMI-ERR-CD-3,CLMI-ERR-CD-LN-NO-3,CLMI-ERR-CD-STAS-4,CLMI-ERR-CD-4,CLMI-ERR-CD-LN-NO-4,CLMI-ERR-CD-STAS-5,CLMI-ERR-CD-5,CLMI-ERR-CD-LN-NO-5,CLMI-ERR-CD-STAS-6,CLMI-ERR-CD-6,CLMI-ERR-CD-LN-NO-6,CLMI-ERR-CD-STAS-7,CLMI-ERR-CD-7,CLMI-ERR-CD-LN-NO-7,CLMI-ERR-CD-STAS-8,CLMI-ERR-CD-8,CLMI-ERR-CD-LN-NO-8,CLMI-ERR-CD-STAS-9,CLMI-ERR-CD-9,CLMI-ERR-CD-LN-NO-9,CLMI-ERR-CD-STAS-10,CLMI-ERR-CD-10,CLMI-ERR-CD-LN-NO-10,CLMI-ALL-COMMIT-ERRS,CLMI-LOCATION-STAT-1,CLMI-LOC-STAT-DTE-YYYYMMDD-1,CLMI-LOCATION-STAT-2,CLMI-LOC-STAT-DTE-YYYYMMDD-2,CLMI-LOCATION-STAT-3,CLMI-LOC-STAT-DTE-YYYYMMDD-3,CLMI-LOCATION-STAT-4,CLMI-LOC-STAT-DTE-YYYYMMDD-4,CLMI-LOCATION-STAT-5,CLMI-LOC-STAT-DTE-YYYYMMDD-5,CLMI-LOCATION-STAT-6,CLMI-LOC-STAT-DTE-YYYYMMDD-6,CLMI-LOCATION-STAT-7,CLMI-LOC-STAT-DTE-YYYYMMDD-7,CLMI-LOCATION-STAT-8,CLMI-LOC-STAT-DTE-YYYYMMDD-8,CLMI-LOCATION-STAT-9,CLMI-LOC-STAT-DTE-YYYYMMDD-9,CLMI-LOCATION-STAT-10,CLMI-LOC-STAT-DTE-YYYYMMDD-10,CLMI-LOCATION-STAT-11,CLMI-LOC-STAT-DTE-YYYYMMDD-11,CLMI-LOCATION-STAT-12,CLMI-LOC-STAT-DTE-YYYYMMDD-12,CLMI-LOCATION-STAT-13,CLMI-LOC-STAT-DTE-YYYYMMDD-13,CLMI-LOCATION-STAT-14,CLMI-LOC-STAT-DTE-YYYYMMDD-14,CLMI-LOCATION-STAT-15,CLMI-LOC-STAT-DTE-YYYYMMDD-15,CLMI-LOCATION-STAT-16,CLMI-LOC-STAT-DTE-YYYYMMDD-16,CLMI-PRCR-CLK-NO,CLMI-DA-ENT-CLK-NO,CLMI-NO-OF-EDT-PRCS-CYC,CLMI-NO-ADJU-PRCS-CYC,CLMI-PRIOR-RL,CLMI-RECIP-CUR-PCN,CLMI-RECIP-ORIG-PCN,CLMI-RECIP-HEAD-HOUSE,CLMI-RECIP-CASE-NO,CLMI-RECIP-LST-NM,CLMI-RECIP-1ST-NM,CLMI-RECIP-MI,CLMI-RECIP-CNTY-CD,CLMI-RECIP-LEGAL-CNTY,CLMI-RECIP-AID-CAT,CLMI-RECIP-SXCD,CLMI-RECIP-RACE-CD,CLMI-RECIP-AUTH-LEVEL-CARE,CLMI-RECIP-AGE,CLMI-RECIP-BIRTHDATE,CLMI-RECIP-HIB-NO,CLMI-RECIP-ZPCD-P,CLMI-FED-MATCH-CODE,CLMI-HANDICAP-IND,CLMI-RECIP-MONY-PAY-IND,CLMI-RECIP-MED-RSRC-CD,CLMI-RECIP-TPL,CLMI-ACCIDENT-TYPE,CLMI-ACCIDENT-DATE-YYYYMMDD,CLMI-ACCIDENT-LOCATION,CLMI-ACC-REL-CD,CLMI-JOB-REL-CD,CLMI-TPTY-INS-CD,CLMI-MCARE-A-STATUS,CLMI-MCARE-B-STATUS,CLMI-MCARE-LTR-STATUS,CLMI-PCN-CHECK-DIGIT,CLMI-RECIP-LIVE-ARRANGE,CLMI-CLM-PA-FLAG,CLMI-VR-DATA,CLMI-PROV-NO,CLMI-PROV-LST-NM,CLMI-PROV-SPCD,CLMI-PROV-TYCD,CLMI-PROV-LOCD ,CLMI-PROV-ZIP-CODE,CLMI-PROV-PSRO,CLMI-PROV-PSRO-FLG,CLMI-PROV-GPRE-NO,CLMI-ATTD-PHYS,CLMI-REFER-PHYS,CLMI-TOT-CLM-CHG,CLMI-TOT-OTHER-INS,CLMI-TOT-PATIENT-LIAB ,CLMI-NET-CLM-CHG,CLMI-TOT-COPAY,CLMI-REMB-AMT-P,CLMI-REMB-PCT,CLMI-TOT-PATIENT-PAID,CLMI-ADDT,CLMI-ADJU-STAS,CLMI-CLM-PAY-DT-P,CLMI-CLM-PAY-CHK-NO-P,CLMI-REF-DT-PD-P,CLMI-CLM-NO-CR-P,CLMI-RFMT,CLMI-UB92-PTAR-2,CLMI-UB92-HH-MCARE-REV-DATE,CLMI-UB92-E-CODE-2-5,CLMI-REF-PRCS-TXCD,CLMI-EPSDT-SCREEN-RESULT,CLMI-PAPER-ELEC,CLMI-ADDT-YYYYMMDD ,CLMI-DT-ENTD-SUSP-YYYYMMDD,CLMI-UB92-PROCEDURE,CLMI-UB92-OTHER-PROVIDER-2,CLMI-PRIOR-AUTH-CTL-NO,CLMI-CAT-OF-SERV,CLMI-BILLERS-CONTROL-NUM,CLMI-DOCUMENT-NUM,CLMI-DGCD-1,CLMI-TPL-DIAG-IND-1,CLMI-FAM-PLAN-DIAG-IND-1,CLMI-DGCD-2,CLMI-TPL-DIAG-IND-2,CLMI-FAM-PLAN-DIAG-IND-2,CLMI-DGCD-3,CLMI-TPL-DIAG-IND-3,CLMI-FAM-PLAN-DIAG-IND-3,CLMI-DGCD-4,CLMI-TPL-DIAG-IND-4,CLMI-FAM-PLAN-DIAG-IND-4,CLMI-DGCD-5,CLMI-TPL-DIAG-IND-5,CLMI-FAM-PLAN-DIAG-IND-5,CLMI-DGCD-6,CLMI-TPL-DIAG-IND-6,CLMI-FAM-PLAN-DIAG-IND-6,CLMI-BFD,CLMI-BTD,CLMI-1ST-DA-OF-SERV,CLMI-LST-DA-OF-SERV,CLMI-AUTHORIZATION-START,CLMI-AUTHORIZATION-END,CLMI-COUNTY-SIGN,CLMI-PROVIDER-SIGN,CLMI-UB92-SURG-DATE-1,CLMI-UB92-SURG-DATE-2,CLMI-UB92-SURG-DATE-3,CLMI-UB92-ADMITTING-DIAG-CODE,CLMI-SCREEN-REASON-CODES-1,CLMI-SCREEN-REASON-CODES-2,CLMI-SCREEN-REASON-CODES-3,CLMI-SCREEN-REASON-CODES-4,CLMI-SCREEN-REASON-CODES-5,CLMI-SCREEN-REASON-CODES-6,CLMI-TRET-DUE-TO-SCR-CD,CLMI-PROF-DATA,CLMI-XTRA-DGCD-1,CLMI-XTRA-TPL-DIAG-IND-1,CLMI-XTRA-FPLAN-DIAG-IND-1,CLMI-XTRA-DGCD-2,CLMI-XTRA-TPL-DIAG-IND-2,CLMI-XTRA-FPLAN-DIAG-IND-2,CLMI-DATA,CLMI-HEADER-RELS-CD,CLMI-SPLIT-CLM-IND,CLMI-LN-ITEM-SEQ-IDX,CLMI-LN-ITM-IDCD,CLMI-LN-ITM-PRCS-CD,CLMI-1ST-PROC-SVDT,CLMI-LST-PROC-SVDT,CLMI-UNT-OF-SERV,CLMI-PL-OF-SERV,CLMI-DET-CAT-OF-SVC,CLMI-PRCG-IND,CLMI-DTL-MATCH-CODE,CLMI-DTL-PERFORM-PHYS,CLMI-FAM-PLNG-IND,CLMI-TY-SVCD,CLMI-PRCD,CLMI-MODIFIER,CLMI-TOOTH-NO,CLMI-SURFACE ,CLMI-DME-PURCHASE-AMT,CLMI-DET-DIAG,CLMI-DIAG-TRET-IND,CLMI-DTL-DIAG-PTR,FILLER,CLMI-DTL-PA-FLAG,CLMI-DTL-PA-USAGE,CLMI-DTL-PATIENT-PAID,FILLER,CLMI-PRICING-DATA,CLMI-SUBM-CHG,CLMI-ALW-CHG,CLMI-COPAY,CLMI-OTHER-INS-AMT,CLMI-PATIENT-LIAB-AMT,CLMI-OTHER-CUTBACK,CLMI-DETAIL-PAID-AMT,CLMI-DETAIL-REFUND-AMT,CLMI-LVL1-CUST-MED-CHG,CLMI-LVL2-PRVL-CHG,CLMI-LVL3-ALW-CHG,CLMI-RELS-CD\n",
        "\n"
       ]
      }
     ],
     "prompt_number": 14
    },
    {
     "cell_type": "code",
     "collapsed": false,
     "input": [],
     "language": "python",
     "metadata": {},
     "outputs": []
    }
   ],
   "metadata": {}
  }
 ]
}