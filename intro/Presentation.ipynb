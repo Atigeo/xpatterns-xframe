{
 "cells": [
  {
   "cell_type": "markdown",
   "metadata": {},
   "source": [
    "# Introduction to xFrames"
   ]
  },
  {
   "cell_type": "code",
   "execution_count": 1,
   "metadata": {
    "collapsed": false
   },
   "outputs": [
    {
     "data": {
      "text/html": [
       "<link href='http://fonts.googleapis.com/css?family=Alegreya+Sans:100,300,400,500,700,800,900,100italic,300italic,400italic,500italic,700italic,800italic,900italic' rel='stylesheet' type='text/css'>\n",
       "<link href='http://fonts.googleapis.com/css?family=Arvo:400,700,400italic' rel='stylesheet' type='text/css'>\n",
       "<link href='http://fonts.googleapis.com/css?family=PT+Mono' rel='stylesheet' type='text/css'>\n",
       "<link href='http://fonts.googleapis.com/css?family=Shadows+Into+Light' rel='stylesheet' type='text/css'>\n",
       "<link href='http://fonts.googleapis.com/css?family=Philosopher:400,700,400italic,700italic' rel='stylesheet' type='text/css'>\n",
       "<style>\n",
       "\n",
       "@font-face {\n",
       "    font-family: \"Computer Modern\";\n",
       "    src: url('http://mirrors.ctan.org/fonts/cm-unicode/fonts/otf/cmunss.otf');\n",
       "}\n",
       "\n",
       "#notebook_panel { /* main background */\n",
       "    background: #888;\n",
       "    color: #f6f6f6;\n",
       "}\n",
       "div.cell { /* set cell width to about 80 chars */\n",
       "    width: 800px;\n",
       "}\n",
       "div #notebook { /* centre the content */\n",
       "    background: #fff; /* white background for content */\n",
       "    width: 1000px;\n",
       "    margin: auto;\n",
       "    padding-left: 1em;\n",
       "}\n",
       "#notebook li { /* More space between bullet points */\n",
       "margin-top:0.8em;\n",
       "}\n",
       "/* draw border around running cells */\n",
       "div.cell.border-box-sizing.code_cell.running {\n",
       "    border: 3px solid #111;\n",
       "}\n",
       "/* Put a solid color box around each cell and its output, visually linking them together */\n",
       "div.cell.code_cell {\n",
       "    background-color: rgba(171,165,131,0.3); \n",
       "    border-radius: 10px; /* rounded borders */\n",
       "    padding: 1em;\n",
       "    margin-top: 1em;\n",
       "}\n",
       "div.text_cell_render{\n",
       "    font-family: 'Arvo' sans-serif;\n",
       "    line-height: 130%;\n",
       "    font-size: 115%;\n",
       "    widt:800px;\n",
       "    margin-left:auto;\n",
       "    margin-right:auto;\n",
       "}\n",
       "/* Formatting for header cells */\n",
       ".text_cell_render h1 {\n",
       "    font-family: 'Philosopher', sans-serif;\n",
       "    font-weight: 400;\n",
       "    font-size: 64pt;\n",
       "    line-height: 100%;\n",
       "    color: rgb(12,85,97);\n",
       "    margin-bottom: 0.1em;\n",
       "    margin-top: 0.1em;\n",
       "    display: block;\n",
       "}\n",
       ".text_cell_render h2 {\n",
       "    font-family: 'Philosopher', serif;\n",
       "    font-weight: 700;\n",
       "    font-size: 24pt;\n",
       "    line-height: 100%;\n",
       "    color: rgb(171,165,131);\n",
       "    margin-bottom: 0.1em;\n",
       "    margin-top: 0.1em;\n",
       "    display: block;\n",
       "}    \n",
       "\n",
       ".text_cell_render h3 {\n",
       "    font-family: 'Philosopher', serif;\n",
       "    margin-top:12px;\n",
       "    margin-bottom: 3px;\n",
       "    font-style: italic;\n",
       "    color: rgb(95,92,72);\n",
       "}\n",
       "\n",
       ".text_cell_render h4 {\n",
       "    font-family: 'Philosopher', serif;\n",
       "}\n",
       "\n",
       ".text_cell_render h5 {\n",
       "    font-family: 'Alegreya Sans', sans-serif;\n",
       "    font-weight: 300;\n",
       "    font-size: 16pt;\n",
       "    color: grey;\n",
       "    font-style: italic;\n",
       "    margin-bottom: .1em;\n",
       "    margin-top: 0.1em;\n",
       "    display: block;\n",
       "}\n",
       "\n",
       ".text_cell_render h6 {\n",
       "    font-family: 'PT Mono', sans-serif;\n",
       "    font-weight: 300;\n",
       "    font-size: 10pt;\n",
       "    color: grey;\n",
       "    margin-bottom: 1px;\n",
       "    margin-top: 1px;\n",
       "}\n",
       ".CodeMirror{\n",
       "        font-family: \"PT Mono\";\n",
       "        font-size: 100%;\n",
       "}\n",
       "</style>\n"
      ],
      "text/plain": [
       "<IPython.core.display.HTML object>"
      ]
     },
     "execution_count": 1,
     "metadata": {},
     "output_type": "execute_result"
    }
   ],
   "source": [
    "from IPython.core.display import HTML\n",
    "HTML(open('../custom.css',).read())"
   ]
  },
  {
   "cell_type": "code",
   "execution_count": 2,
   "metadata": {
    "collapsed": false
   },
   "outputs": [],
   "source": [
    "%load_ext autoreload\n",
    "%autoreload 2\n",
    "%matplotlib inline\n",
    "from xpatterns import XFrame, XArray, recommender\n",
    "from xpatterns.aggregate import COUNT, AVG, CONCAT\n",
    "XFrame.set_max_row_width(72)"
   ]
  },
  {
   "cell_type": "code",
   "execution_count": 3,
   "metadata": {
    "collapsed": false
   },
   "outputs": [
    {
     "name": "stdout",
     "output_type": "stream",
     "text": [
      "spark: 1.3.1\n",
      "xframe: 0.1.1\n"
     ]
    }
   ],
   "source": [
    "sc = XFrame.spark_context()\n",
    "print 'spark:', sc.version\n",
    "print 'xframe:', XFrame.version()"
   ]
  },
  {
   "cell_type": "markdown",
   "metadata": {},
   "source": [
    "## Overview"
   ]
  },
  {
   "cell_type": "markdown",
   "metadata": {},
   "source": [
    "The xFrames library makes it easy to read, explore, manipulate, and use data at scale, both interactively and for batch processing.  \n",
    "\n",
    "xFrames hides the complexity of learning Spark and other underlying technologies, so it is perfect for data scientists, data engineers and others without requiring extensive experience in cluster computing or database technology.  xFrames' goal is to make it quick and easy to get things done, and to take care of common tasks like handling missing data.  The idea is to be able to focus on the problem, not on the solution technology."
   ]
  },
  {
   "cell_type": "markdown",
   "metadata": {},
   "source": [
    "## xFrames Capabilities: Connect, Discover, Act"
   ]
  },
  {
   "cell_type": "markdown",
   "metadata": {},
   "source": [
    "### Connect"
   ]
  },
  {
   "cell_type": "markdown",
   "metadata": {},
   "source": [
    "Because xFrames is so simple to dive in and use given a background in python, one way to learn xFrames is by example.  We’ll describe a typical data scientist’s task-flow and see how brief it is to implement, and how simple it is to understand.   "
   ]
  },
  {
   "cell_type": "markdown",
   "metadata": {},
   "source": [
    "The first task that a data scientist faces is to ingest the data and put it into a form that can be used.  Because data comes in such a wide variety of formats, often custom processing is required.  xFrames natively accepts a wide variety of file formats and sources: CSV, Hive tables, Parquet; it can read from S3, HDFS, and local files.  You can use the xPatterns ingestion tool to acquire the files, or any other way that is convenient.  "
   ]
  },
  {
   "cell_type": "markdown",
   "metadata": {},
   "source": [
    "The first step is to read the data into an XFrame.  Using the XFrame constructor, you can read data from CSV or other delimited files, parquet files, hive-compatible HDFS files, as well as convert data in arrays, dictionaries, pandas or spark DataFrames, or spark RDDs.  In addition to the constructor, there are a few factory methods that allow greater control of the reading process.\n"
   ]
  },
  {
   "cell_type": "markdown",
   "metadata": {},
   "source": [
    "We will illustrate xFrames by reading some movie data from the [MovieLens](http://files.grouplens.org/datasets/movielens/ml-10m-README.html)  dataset.  This dataset contains movie ratings, and is commonly used to illustrating recommender systems.\n",
    "\n",
    "The data consists of three tables, describing the users, the movies, and the ratings.  The data is stored in three files, which contain pipe-separated values.\n",
    "\n",
    "Let's start by reading the users.  "
   ]
  },
  {
   "cell_type": "code",
   "execution_count": 4,
   "metadata": {
    "collapsed": false
   },
   "outputs": [],
   "source": [
    "users = XFrame.read_csv('movie-data/ml-100k/u.user', delimiter='|')"
   ]
  },
  {
   "cell_type": "markdown",
   "metadata": {},
   "source": [
    "We can take a quick look at what this file contains.  Printing a XFrame displays the initial portion of the file."
   ]
  },
  {
   "cell_type": "code",
   "execution_count": 5,
   "metadata": {
    "collapsed": false
   },
   "outputs": [
    {
     "name": "stdout",
     "output_type": "stream",
     "text": [
      "+---------+-----+--------+---------------+-------+\n",
      "| user_id | age | gender |   occupation  |  zip  |\n",
      "+---------+-----+--------+---------------+-------+\n",
      "|    1    |  24 |   M    |   technician  | 85711 |\n",
      "|    2    |  53 |   F    |     other     | 94043 |\n",
      "|    3    |  23 |   M    |     writer    | 32067 |\n",
      "|    4    |  24 |   M    |   technician  | 43537 |\n",
      "|    5    |  33 |   F    |     other     | 15213 |\n",
      "|    6    |  42 |   M    |   executive   | 98101 |\n",
      "|    7    |  57 |   M    | administrator | 91344 |\n",
      "|    8    |  36 |   M    | administrator | 05201 |\n",
      "|    9    |  29 |   M    |    student    | 01002 |\n",
      "|    10   |  53 |   M    |     lawyer    | 90703 |\n",
      "+---------+-----+--------+---------------+-------+\n",
      "[? rows x 5 columns]\n",
      "Note: Only the head of the XFrame is printed. This XFrame is lazily \n",
      "evaluated.  You can use len(xf) to force materialization.\n"
     ]
    }
   ],
   "source": [
    "print users"
   ]
  },
  {
   "cell_type": "markdown",
   "metadata": {},
   "source": [
    "### Discover"
   ]
  },
  {
   "cell_type": "markdown",
   "metadata": {},
   "source": [
    "We can immediately begin to explore the data in this table.  For instance, we can plot a histogram of the users' ages."
   ]
  },
  {
   "cell_type": "code",
   "execution_count": 6,
   "metadata": {
    "collapsed": false
   },
   "outputs": [
    {
     "data": {
      "image/png": "[encoded data removed]",
      "text/plain": [
       "<matplotlib.figure.Figure at 0x5bce290>"
      ]
     },
     "metadata": {},
     "output_type": "display_data"
    }
   ],
   "source": [
    "users.show().histogram('age', title='Distribution of user ages')"
   ]
  },
  {
   "cell_type": "markdown",
   "metadata": {},
   "source": [
    "Or we could find out about the gender distribution of the users."
   ]
  },
  {
   "cell_type": "code",
   "execution_count": 7,
   "metadata": {
    "collapsed": false
   },
   "outputs": [
    {
     "name": "stdout",
     "output_type": "stream",
     "text": [
      "+--------+-------+\n",
      "| gender | count |\n",
      "+--------+-------+\n",
      "|   M    |  670  |\n",
      "|   F    |  273  |\n",
      "+--------+-------+\n",
      "[? rows x 2 columns]\n",
      "Note: Only the head of the XFrame is printed. This XFrame is lazily \n",
      "evaluated.  You can use len(xf) to force materialization.\n"
     ]
    }
   ],
   "source": [
    "print users.groupby('gender', COUNT)"
   ]
  },
  {
   "cell_type": "markdown",
   "metadata": {},
   "source": [
    "Now we will read and take a peek at the other tables: the movies and ratings."
   ]
  },
  {
   "cell_type": "code",
   "execution_count": 8,
   "metadata": {
    "collapsed": false
   },
   "outputs": [
    {
     "name": "stdout",
     "output_type": "stream",
     "text": [
      "+----------+--------------------------------+--------------+\n",
      "| movie_id |              name              | release_date |\n",
      "+----------+--------------------------------+--------------+\n",
      "|    1     |        Toy Story (1995)        | 01-Jan-1995  |\n",
      "|    2     |        GoldenEye (1995)        | 01-Jan-1995  |\n",
      "|    3     |       Four Rooms (1995)        | 01-Jan-1995  |\n",
      "|    4     |       Get Shorty (1995)        | 01-Jan-1995  |\n",
      "|    5     |         Copycat (1995)         | 01-Jan-1995  |\n",
      "|    6     | Shanghai Triad (Yao a yao  ... | 01-Jan-1995  |\n",
      "|    7     |     Twelve Monkeys (1995)      | 01-Jan-1995  |\n",
      "|    8     |          Babe (1995)           | 01-Jan-1995  |\n",
      "|    9     |    Dead Man Walking (1995)     | 01-Jan-1995  |\n",
      "|    10    |       Richard III (1995)       | 22-Jan-1996  |\n",
      "+----------+--------------------------------+--------------+\n",
      "+--------------------+--------------------------------+---------+\n",
      "| video_release_date |            imdb_url            | unknown |\n",
      "+--------------------+--------------------------------+---------+\n",
      "|         0          | http://us.imdb.com/M/title ... |    0    |\n",
      "|         0          | http://us.imdb.com/M/title ... |    0    |\n",
      "|         0          | http://us.imdb.com/M/title ... |    0    |\n",
      "|         0          | http://us.imdb.com/M/title ... |    0    |\n",
      "|         0          | http://us.imdb.com/M/title ... |    0    |\n",
      "|         0          | http://us.imdb.com/Title?Y ... |    0    |\n",
      "|         0          | http://us.imdb.com/M/title ... |    0    |\n",
      "|         0          | http://us.imdb.com/M/title ... |    0    |\n",
      "|         0          | http://us.imdb.com/M/title ... |    0    |\n",
      "|         0          | http://us.imdb.com/M/title ... |    0    |\n",
      "+--------------------+--------------------------------+---------+\n",
      "+--------+-----------+-----------+------------+--------+-------+\n",
      "| Action | Adventure | Animation | Children's | Comedy | Crime |\n",
      "+--------+-----------+-----------+------------+--------+-------+\n",
      "|   0    |     0     |     1     |     1      |   1    |   0   |\n",
      "|   1    |     1     |     0     |     0      |   0    |   0   |\n",
      "|   0    |     0     |     0     |     0      |   0    |   0   |\n",
      "|   1    |     0     |     0     |     0      |   1    |   0   |\n",
      "|   0    |     0     |     0     |     0      |   0    |   1   |\n",
      "|   0    |     0     |     0     |     0      |   0    |   0   |\n",
      "|   0    |     0     |     0     |     0      |   0    |   0   |\n",
      "|   0    |     0     |     0     |     1      |   1    |   0   |\n",
      "|   0    |     0     |     0     |     0      |   0    |   0   |\n",
      "|   0    |     0     |     0     |     0      |   0    |   0   |\n",
      "+--------+-----------+-----------+------------+--------+-------+\n",
      "+-------------+-------+---------+-----------+--------+---------+\n",
      "| Documentary | Drama | Fantasy | Film-Noir | Horror | Musical |\n",
      "+-------------+-------+---------+-----------+--------+---------+\n",
      "|      0      |   0   |    0    |     0     |   0    |    0    |\n",
      "|      0      |   0   |    0    |     0     |   0    |    0    |\n",
      "|      0      |   0   |    0    |     0     |   0    |    0    |\n",
      "|      0      |   1   |    0    |     0     |   0    |    0    |\n",
      "|      0      |   1   |    0    |     0     |   0    |    0    |\n",
      "|      0      |   1   |    0    |     0     |   0    |    0    |\n",
      "|      0      |   1   |    0    |     0     |   0    |    0    |\n",
      "|      0      |   1   |    0    |     0     |   0    |    0    |\n",
      "|      0      |   1   |    0    |     0     |   0    |    0    |\n",
      "|      0      |   1   |    0    |     0     |   0    |    0    |\n",
      "+-------------+-------+---------+-----------+--------+---------+\n",
      "+---------+---------+-----+\n",
      "| Mystery | Romance | ... |\n",
      "+---------+---------+-----+\n",
      "|    0    |    0    | ... |\n",
      "|    0    |    0    | ... |\n",
      "|    0    |    0    | ... |\n",
      "|    0    |    0    | ... |\n",
      "|    0    |    0    | ... |\n",
      "|    0    |    0    | ... |\n",
      "|    0    |    0    | ... |\n",
      "|    0    |    0    | ... |\n",
      "|    0    |    0    | ... |\n",
      "|    0    |    0    | ... |\n",
      "+---------+---------+-----+\n",
      "[? rows x 24 columns]\n",
      "Note: Only the head of the XFrame is printed. This XFrame is lazily \n",
      "evaluated.  You can use len(xf) to force materialization.\n"
     ]
    }
   ],
   "source": [
    "movies = XFrame.read_csv('movie-data/ml-100k/u.item', delimiter='|')\n",
    "print movies"
   ]
  },
  {
   "cell_type": "markdown",
   "metadata": {},
   "source": [
    "We are going to separate out the movie names, for later use."
   ]
  },
  {
   "cell_type": "code",
   "execution_count": 9,
   "metadata": {
    "collapsed": false
   },
   "outputs": [],
   "source": [
    "movie_names = movies[['movie_id', 'name']]\n",
    "movie_names.movie_id = movie_names.movie_id.astype(int)"
   ]
  },
  {
   "cell_type": "markdown",
   "metadata": {},
   "source": [
    "The ratings are tab delimited."
   ]
  },
  {
   "cell_type": "code",
   "execution_count": 10,
   "metadata": {
    "collapsed": false
   },
   "outputs": [
    {
     "name": "stdout",
     "output_type": "stream",
     "text": [
      "+---------+---------+--------+-----------+\n",
      "| user_id | item_id | rating | timestamp |\n",
      "+---------+---------+--------+-----------+\n",
      "|   196   |   242   |   3    | 881250949 |\n",
      "|   186   |   302   |   3    | 891717742 |\n",
      "|    22   |   377   |   1    | 878887116 |\n",
      "|   244   |    51   |   2    | 880606923 |\n",
      "|   166   |   346   |   1    | 886397596 |\n",
      "|   298   |   474   |   4    | 884182806 |\n",
      "|   115   |   265   |   2    | 881171488 |\n",
      "|   253   |   465   |   5    | 891628467 |\n",
      "|   305   |   451   |   3    | 886324817 |\n",
      "|    6    |    86   |   3    | 883603013 |\n",
      "+---------+---------+--------+-----------+\n",
      "[? rows x 4 columns]\n",
      "Note: Only the head of the XFrame is printed. This XFrame is lazily \n",
      "evaluated.  You can use len(xf) to force materialization.\n"
     ]
    }
   ],
   "source": [
    "ratings = XFrame.read_csv('movie-data/ml-100k/u.data', delimiter='\\t')\n",
    "print ratings"
   ]
  },
  {
   "cell_type": "markdown",
   "metadata": {},
   "source": [
    "### Act"
   ]
  },
  {
   "cell_type": "markdown",
   "metadata": {},
   "source": [
    "Using the ratings, we can build a model to predict user scores."
   ]
  },
  {
   "cell_type": "code",
   "execution_count": 11,
   "metadata": {
    "collapsed": false
   },
   "outputs": [
    {
     "name": "stdout",
     "output_type": "stream",
     "text": [
      "<pyspark.mllib.recommendation.MatrixFactorizationModel object at 0x5bf06d0>\n",
      "user_col: user_id\n",
      "item_col: item_id\n",
      "rating_col: rating\n"
     ]
    }
   ],
   "source": [
    "model = recommender.create(ratings, 'user_id', 'item_id', 'rating')\n",
    "print model"
   ]
  },
  {
   "cell_type": "markdown",
   "metadata": {},
   "source": [
    "Using the model, we can predict the rating a given user would give a movie."
   ]
  },
  {
   "cell_type": "code",
   "execution_count": 12,
   "metadata": {
    "collapsed": false
   },
   "outputs": [
    {
     "name": "stdout",
     "output_type": "stream",
     "text": [
      "3.64020245088\n"
     ]
    }
   ],
   "source": [
    "user = 789\n",
    "movie = 123\n",
    "print model.predict(user, movie)"
   ]
  },
  {
   "cell_type": "code",
   "execution_count": 13,
   "metadata": {
    "collapsed": false
   },
   "outputs": [
    {
     "name": "stdout",
     "output_type": "stream",
     "text": [
      "+----+-----+\n",
      "| id | val |\n",
      "+----+-----+\n",
      "| 3  |  c  |\n",
      "| 2  |  b  |\n",
      "+----+-----+\n",
      "[? rows x 2 columns]\n",
      "Note: Only the head of the XFrame is printed. This XFrame is lazily \n",
      "evaluated.  You can use len(xf) to force materialization.\n"
     ]
    }
   ],
   "source": [
    "x = XFrame({'id': [1, 2, 3], 'val': ['a', 'b', 'c']})\n",
    "y = XArray([1])\n",
    "print x.filterby(y, 'id', exclude=True)"
   ]
  },
  {
   "cell_type": "markdown",
   "metadata": {},
   "source": [
    "We can also use the model to predict how that user would rate all the movies, and pick the ones that have the highest ratings."
   ]
  },
  {
   "cell_type": "code",
   "execution_count": 14,
   "metadata": {
    "collapsed": false,
    "scrolled": false
   },
   "outputs": [
    {
     "name": "stdout",
     "output_type": "stream",
     "text": [
      "topk k 10\n",
      "topk self +---------+---------+---------------+\n",
      "| user_id | item_id |     rating    |\n",
      "+---------+---------+---------------+\n",
      "|   789   |   337   | 2.40205093794 |\n",
      "|   789   |   1265  | 1.63048580388 |\n",
      "|   789   |   609   | 1.71365612472 |\n",
      "|   789   |   377   | 1.10678017034 |\n",
      "|   789   |    26   |  2.7142117781 |\n",
      "|   789   |   1209  | 1.55730807595 |\n",
      "|   789   |   261   | 2.19090206447 |\n",
      "|   789   |   205   |  3.9784717104 |\n",
      "|   789   |   870   | 2.18537268048 |\n",
      "|   789   |    59   | 3.36304772174 |\n",
      "+---------+---------+---------------+\n",
      "[? rows x 3 columns]\n",
      "Note: Only the head of the XFrame is printed. This XFrame is lazily \n",
      "evaluated.  You can use len(xf) to force materialization.\n",
      "[2.402050937941688, 1.630485803881133, 1.7136561247221516, 1.106780170341247, 2.714211778100736, 1.5573080759484292, 2.19090206446787, 3.9784717103995124, 2.1853726804842584, 3.363047721740105, 0.6023864922177132, 2.4019320202149856, 2.268189947988507, 4.723962645778909, 2.647597142891294, 2.8074548640831387, 1.7698986656489992, 3.616133160373682, 2.90701484922241, 2.5245303731072135, 3.8097693027238475, 1.995969217161696, 2.2693916702442762, 1.9679439895181035, 2.6060965538035696, 4.458973627338402, 0.9498776589647364, 2.6090419196021157, 0.9928720425867184, 1.7821697645390444, 0.0905217345229748, 3.854661509022585, 2.921613084197665, 0.09197622810530821, 3.244216259737994, 1.9050074164288364, 0.13824723144848206, 2.4443501757577906, -0.09516155805447546, 1.48070522244883, 1.4062346449237613, 2.863687778677453, 2.249625094893348, 4.431933600229346, 0.8053322551553379, 2.311631028392555, 1.6316423897683696, 4.427485032469118, 2.010696440852957, 2.0269724206042508, 2.0329971209707054, 3.6942430262199117, 3.325854755620724, 1.2298967280646647, 3.680466306992566, 1.590803195057893, 1.6348500313006287, 3.2501102096284327, 1.5932693415516401, 2.568337788485636, 0.5054423752452201, 2.0305159860268556, 1.4248165036399834, 1.4248165036399834, 2.2322320938568714, 4.449258180813999, 0.6142978105329913, 4.335332562248528, 1.1532171248001215, 3.814023468065971, 1.5182616432326648, 0.7051900643308634, 4.0105447269825, 5.412094350643202, 1.459218325749296, 1.4727731341866914, 4.2954758730628635, 2.0966217511816914, 2.917050514071863, 0.4774185930354564, 3.895105989266897, 3.6299693398423862, 0.09832338150341674, 3.1244495864540847, 4.7833244132935695, 2.1804804719054283, 1.068202492805887, 4.212252415867868, 1.8704732603241154, 1.4779166486851492, 4.7461358923418135, 3.658131684662692, 0.9157519075503997, 2.723671994873727, 2.5558493583791475, 2.9526966277816653, 2.7239145704241325, 3.901886352748446, 0.06042620242655389, 4.110977201463032, 4.1945339467530305, 3.920443282543599, 0.13824723144848206, 3.6996703551911763, 0.35944896587771924, 2.388210163777926, 4.6053162226642055, 1.8219206671346384, 3.6460638714557336, 0.8835837217410651, 2.1579845105716293, 0.4234353562134982, 1.0608101258738023, 2.4377556344915456, 0.45776526488024133, 4.2997459551383095, 0.09197622810530821, 3.02104750921203, 3.566822741455282, 2.584487685372461, 3.4159427958029713, 1.7549484292175355, 3.0713145709085157, 4.343527435291325, 4.119700828208312, 1.4603193029155672, -0.19688605788407776, 4.062319982814593, 4.061609668687981, 1.9471227396828341, 4.707939789443898, 4.479642695971521, 2.777547649366773, 4.815517811783858, 3.8386218315887604, 1.0811023068796586, 0.6059860249753942, 2.575103943601946, 4.420118547337002, 4.000912256833105, 2.5567587615254124, 3.299674225894619, 2.7782604789315495, 2.596220696175468, 3.2576752029129685, 3.6881926995564687, 3.8803500033596032, 3.562670978149025, 4.0032679558002675, 2.277906975190284, 3.7902327436164804, 0.19525181999511407, 2.231319476132148, 2.799468574053722, 2.2638887332764366, 0.23713783290096607, 0.3531630807221276, 4.6402994632592485, 0.4301451408566696, 3.5949475397929693, 0.769472843318607, 4.132133096586728, 2.2913993149046696, 1.9195565023461525, 4.073290796349156, 3.300530125930134, 3.880637064113531, 0.7236154978355224, 3.8529252566481094, 4.187494958584516, 1.7805017834713817, 2.014065873184505, 5.17241960706086, 1.9616618566638553, 3.78098881349409, 2.3246776776448552, 1.8639963763242184, 1.4216348514935782, 4.0469962829854245, 3.8460049794128834, 2.4875637285801564, 1.4248165036399834, 3.972887314117342, 2.1151889609789642, 2.6617576652646067, 3.0180243207925472, 2.6183687201191232, 2.849052008630571, 3.2871867372711594, 1.9566202241426025, 2.8447416903957885, 0.3531630807221276, 1.7632880557648523, 3.413693088512565, 2.036941079807653, 1.7276710587678603, 3.0850461046776263, 3.3069390456433827, 0.5340618537456365, 4.511755638824228, 2.7744351440410604, 0.5504659486575144, 3.6341053360361903, 1.766281302881346, 1.3251999740042446, 3.040639810607417, 3.2372402319756652, 2.0461558547973637, 3.9444455612881377, 1.5806694614381678, -0.021345761770800956, 2.153722749489634, 1.5422893947239884, 4.134045161625462, 3.1597472397376967, 2.3927160039349813, 2.9512901034744217, 1.1193535969882364, 3.1615444159409956, 2.3717098288819756, 3.0901388034306274, 2.889208010550499, 4.590488619132786, 1.9236791230678225, 0.9887866628233196, 2.881052627517907, 2.089526994703278, 3.94567155625202, 0.8932018048130883, 5.460322449038536, 0.4078748748580338, 2.3669154039704905, 2.8985888830983932, 3.2658117904637236, 1.1401810123123028, 3.8587485223709668, 0.30197413633471126, 0.6446775242577688, 2.8386758697694985, 1.8997553179294728, 2.685763300219381, 0.16225742313772684, 3.3417562725011267, 1.6167071248438536, 0.8381438035632809, 1.586007116937283, 2.3103540696020386, 3.4509481309137047, 3.2015596729576035, 1.9086259137224335, 2.2420991022148042, 3.1649467049838598, 2.832048584753576, 1.8157847497591812, 1.0370804019031854, 4.262711329867173, 2.044118687529628, 0.16559326799207902, 3.115557922183312, 3.5029759665160665, 2.039965970814342, 4.135913664886637, 2.8182930776861608, 1.8085134089032093, 3.573846466209826, 4.249696568448938, 4.965257998018863, 3.978066361662974, 0.8129863822270998, 2.942298372542774, 1.4954838162144375, 4.12874019698555, 3.7796262340157725, 2.894764029871152, 3.492649332676004, 1.046879796622354, 1.436345726064503, 2.0877747783904814, 1.12501179364638, 3.5163630502540455, 0.8458117519765058, 3.384520017153605, 2.8078086092424988, 3.0401349794960497, 1.8019432712040095, 2.7324061381943996, 1.3437337460602148, 2.6299296011393993, 3.335391237685934, 3.3550215422089975, 1.8847642469008212, 1.4567009483218154, 1.6285865134776074, 2.593938875961355, 2.913947264709039, 0.16357104494427754, 2.6848362620401676, 2.219706370633828, 0.9994760541066245, 0.6167753649665384, 1.9148776047106417, 3.6179495725638606, 0.47700740078529924, 2.386368207885744, 3.656833362605985, 1.9157372126150332, 2.4442879959779495, 1.8366915772792198, 2.287278893289628, 3.1230741623219873, 0.6338295687130896, 3.211957429056751, 2.1934773160593632, 5.077301878157327, 2.5476845343287544, 2.28152114884072, 0.2957398502435102, 1.6243567895686535, 4.385361874875606, 1.66334900032826, 4.321146022268624, 3.0954032322994975, 4.308944597873383, 2.9005899189570297, 3.5049302597831278, 2.7724192155483327, 3.4511115435583006, 1.3846518241786998, 2.36494039454376, 1.8989608650315777, 2.540237657036994, 0.8915614831485137, 1.321709933864101, 2.8902141022095225, 3.5985311814829277, 4.981031665333095, 3.6402024508790682, 3.132390015717851, 0.33790281443875403, 4.457348047405036, 3.5681845134053294, 3.845337631630791, 0.15599400502765912, 1.506075531877786, 2.6791098887000064, 1.758750190909117, 1.901569008128637, 0.09197622810530821, 1.2995877163757414, 4.51522364056971, 3.477659409443615, 0.5211749143306096, 2.024870202157293, 3.8563572747270625, 0.13824723144848206, 1.9684492643361384, 3.20073514666839, 4.170311192306896, 1.5637609679624447, 3.088037215443915, 2.876676621942466, 1.4574669164614784, 1.736071164872448, 2.924643798329292, 4.558787848949596, 2.55966777800842, 4.533005052104844, 2.3461718368481965, 1.0043616224205243, 3.473081275875574, 2.3383574925293957, 0.35381437336365634, -0.26251471124332915, 2.9739667398465772, 2.6733582341252133, 2.6427132256636616, 4.680881054250483, 0.13824723144848206, 0.3646446426044414, 1.8970432509573927, 0.386789082547892, 2.21516725972066, 2.6687739798810157, 3.672666213568487, 4.946553759319144, 1.3590883759076808, 1.7938555520264228, 2.6106240266407053, 3.548498916041675, 1.93316208073048, 3.9874126417397795, 0.7756688937838003, 1.143201141798728, 1.6806454846200785, 4.711862216105425, 2.1191216147203726, 3.8599852570195035, 2.3836401305919686, 1.0765111301250938, 3.4078594956090043, 4.119428268498677, 3.259863148859631, 2.387624553231757, 0.13824723144848206, 2.5065351679630563, 4.459050536321569, 2.280468416437218, 1.9710865949711815, 2.809127920301221, 1.4248165036399834, 4.373697055937937, 3.161562514998553, 2.324455668963619, 2.6125183718504763, 2.4907858504422236, 0.22680971198572766, 3.470275552820043, 4.202293212585557, 0.20217690207313022, 1.547309321070184, 3.211635377735684, 1.4429410994293226, 3.8017703331941775, 3.992611178932486, 0.6815340433050161, 0.4533566920384805, 4.4822823828787355, 4.523560988427732, 0.09197622810530821, 4.000155422684919, 4.69080534080984, 2.512225827223652, 3.561156687941743, 4.582630438640272, 1.8102724725984203, 1.7114414043423716, 2.322551851968468, 4.35805382551127, 0.6147289722907512, 3.702449207052414, 2.6286896252011256, 1.4681870024941546, 4.656702915284206, 2.2270055264561615, 1.060853929916965, 3.198910211312696, 2.0913244055046665, 4.249863867565277, 3.611629975809647, 1.8997553179294728, 1.426479696400167, 2.9617783017718287, 0.7418005966528028, 2.743591157781018, 3.8406369018808206, 1.7461430321122133, 4.304183898629484, 0.8157793602794912, 0.2232930755727119, 2.4795704259103046, 1.8997553179294728, 3.642014770661768, 3.407767347715489, 1.5723988948527563, 1.8590218045241476, 0.13824723144848206, 1.8451530080288574, 4.091272690780784, 1.7522035573169656, 2.2855215598857206, 0.07537460879647337, 3.7242156795319707, 2.9102764200747435, 1.9140569162626082, 3.396249521691253, 2.7233809747233666, 3.9786552521039633, 0.4710933976051215, 2.5197412046280325, 2.8578804636585518, 2.1591227330321012, 1.719851635761139, 1.2714755112594383, 1.7366840791251834, 1.7904323424194075, 0.9435057649271782, 2.279314056976232, 3.0464082046331975, 1.9341935988332453, 1.6706472184654992, 3.3702076260667195, 1.4170744203711685, 3.1760106740578316, 3.510271873600204, 1.3211259227256105, 3.036851852716066, 1.6327197735989183, 1.2386921329759484, 1.4447320999649327, 3.965029259414939, 4.18361045838675, 1.6294736525994415, 3.753578293296576, 0.35381437336365634, 2.84041724378891, 0.41397481203159825, 1.9644444970892327, 3.3805723143393673, 0.7700803882201603, 2.586231932285639, 3.332743240716384, 1.6685909825083467, 3.54635201675187, 1.8765727700234902, 2.8556232815241493, 3.7032173027870376, 3.452182657721322, 2.14845248672147, 3.2216033554160064, 3.426178108482404, 2.2291707469594098, 2.325829516670737, 4.104175565640494, 1.0787571113671273, 2.6888903635910344, 3.8131613102755266, 2.377530845726155, 2.4918123833861845, 4.022801505429661, 2.4255626102304824, 1.6506757829096406, 2.997229608367311, 3.4622047280803834, 0.6503180817040797, 1.4606152357384294, 1.154689041942405, 1.7039205664031023, 2.7961073292967393, 2.939441854267684, 0.827918610306225, 2.891825032468831, 3.918069438741318, 2.9861425397613703, 2.9511315944454255, 1.220652266020506, 0.7979346055625531, 2.783007000908643, 3.239900090805502, 3.3318111926255094, 0.8514552808066044, 1.3163850445309315, 2.1390620481123537, 0.21844010243010026, 1.8999694288482027, 0.9545395388020605, 3.006013468877045, 1.4248165036399834, 3.8300520374613445, 1.9077018016184926, 2.9645711766990237, 2.822763309252087, 3.066811074138694, 3.9937326152066244, 3.827404200023721, -0.19688605788407776, 1.2573551869887676, 4.543109985612905, 2.231552204741332, 1.8655389670137223, 1.3684116208628443, 0.09153173103689463, 2.860435293234946, 2.849322199742168, 3.3893757822866517, 3.28052949089845, 3.3524425670851206, 3.207093254577927, 2.2223373204328123, 0.13824723144848206, 1.5451589569188047, 0.6215597412413778, 2.3613653317437997, 3.504170341561454, 2.474752761622441, 3.940064395155912, 2.340568600163522, 2.437604313859366, 0.5576604162028108, 3.211361325844146, 3.1160303959228264, 3.3001780866259036, 2.521941329351968, 4.203464035714355, 0.09197622810530821, 3.1399818006314386, 1.4720486538935575, 4.192562120350547, 0.13824723144848206, 1.155652973050724, 4.646194592966702, 3.7341493389179456, 3.1927268586346136, 2.7913231168840613, 1.7928763109789745, 2.4731385064324214, 1.5788575199522448, 2.5122097813068955, 0.09197622810530821, 3.7097327997151965, 1.860167876372412, 0.3276601470406838, 2.876691302343354, 2.944092076329464, 2.0384809842976734, 3.7691506928606264, 2.582912437348183, 1.521922328935322, 2.4968004154651005, 4.1565267480193375, 3.5842565774854322, 4.150701427914864, 3.281231571062035, 4.63306995420463, 0.42827827896389004, 3.7060124374315766, 3.465599665419028, 1.933639663756523, 2.743284585193963, 3.0695154965538722, 1.127975745941543, 4.157079928218002, 1.073338570563969, 0.13824723144848206, 2.6103100988459764, 0.4756089908667592, 0.21428966173970143, 2.0641808621274067, 1.6405392329726647, 3.350721198924904, 1.2625176405394622, 1.2290580946113967, 2.3278620125966594, 3.513252352522865, 2.629546610865931, 1.289698605899298, 1.3891564979042819, 1.303595335735693, 0.5633848962172969, 3.71602544258206, 3.1954136158911335, 4.638323295321276, 2.2521017095121127, 2.739162128171574, 3.5517091722429317, 3.083337103010484, 1.2818755806362265, 2.5864329906275376, 3.6415116287362146, 1.3930620358650563, 2.201923370508965, 2.0797815828587, 1.7762184370292806, 3.8536095188306785, 1.381591106728743, 1.588865477172726, 0.26346736035622803, 1.2956942963594953, 0.7869012192795781, 3.036259075750772, 1.6774989592308505, 2.59383127589989, 4.066973877420422, 3.5217728362320897, 3.16501655835348, 0.09197622810530821, -0.19688605788407776, 1.8798455983169753, 2.0741621636851986, 0.09197622810530821, 0.09197622810530821, 3.694694433863953, 2.720282939973937, 1.691361259054668, 3.0248596276872277, 4.170981001472348, 2.326136888257876, 2.326879486080546, 2.997594365391499, 2.302513388034813, 0.07537460879647337, 1.624095381579815, 2.989666502778827, 2.082250615364851, 0.3847364216593035, 0.9950407306617278, 2.15998009434658, 3.2635068377322076, 3.3097904675290826, 1.5309575495631007, 4.877537491501562, 0.7792522578184167, 2.8765554394754402, 4.191109995357991, 2.571833634082883, 3.895156533495779, -0.3369411611750073, 3.373545576436194, 4.288363659941044, 1.5463036255132778, 5.462121413486583, 1.4498963906927615, 2.3826029332527447, 3.67198033089388, 3.5828914456298047, 3.030959505640096, 2.8397583137167164, 2.2880974596826302, 2.667797063451178, 0.2863471786514625, 0.46372170956263103, 0.09197622810530821, 0.10560229888569894, 2.505029653853205, 3.1212542491134654, -0.05139632244002218, 2.819759206616826, 1.069925517860463, 1.197686550226182, 4.173591919156094, 2.753271047792781, 2.190027133646206, 2.830517042359283, 4.377686434401962, 4.018135603826364, 1.294747650001278, 3.5464362893428825, 0.4210385318001193, 3.2248479556172223, 2.8890742779344514, 2.550664013382546, 1.898719941403618, 2.071059412748653, 2.8819883629157053, 3.280122019817409, 1.9108037433758034, 2.30037664993159, 2.515467407815434, 4.21169292468438, 2.441458510712716, 1.1262947121892772, 3.4476230874953777, 0.8194816096546386, 3.5763110010660926, 2.6704600996584618, 2.7997622755817546, 3.8183606851670575, 1.9588525368866896, 1.8395598267892876, 0.9777655099251241, 2.7997722472006417, 1.6041770358660803, 0.9665982674919875, 0.09197622810530821, 0.3014984351858935, 4.3947490460091485, 3.7924990078331673, 2.9362076884866184, 1.8104127803044647, 3.9689038962655823, 0.3276601470406838, 1.681950098668457, 0.5980965158055345, 1.8164608290013642, 3.6045911933064683, 1.7459905033703382, 0.5871250983993811, 1.6268378126778922, 3.679965995375264, 3.064811729008008, 1.9590221773930783, 3.8145430488888046, 3.7365087681511637, 3.3393931969940596, 1.806208796859572, 3.0454299028229417, 1.8448017988560474, 2.554740093014381, 3.192418169314202, 2.8447344666633128, 1.8568074315378102, 4.230645731212516, 2.3407621541633032, 3.0567274122909933, 2.818918010440871, 1.2044771294722207, 3.0829242865043165, 1.5458194877692706, 2.34191727975462, 1.39286994948615, 3.1139302848760195, 5.335568763827676, 2.575333939786574, 2.2617161461733577, 2.448069639020564, 4.489407084071787, 1.2159493564131678, 0.09197622810530821, 3.627269263919575, 2.85126055492798, 2.272337331324106, 1.0500705656046465, 0.7915989596470725, 1.4470303662874298, 0.5104289113100303, 0.09197622810530821, 2.054771960604957, 0.6999210861176495, 4.1687822258574805, 4.512744538813363, 3.7186016534456314, 4.768527898912684, 1.7482264590842436, 2.2334409955765033, 3.9575682810034962, 2.3860094900703155, 2.639988981654353, 0.2440331416574552, 0.5622190655503017, -0.05026940766578976, 3.567558761404513, 3.7788544112472517, 1.611490851429913, 2.818750481799686, 3.4406036475242288, 3.9354668848965364, 4.203857937394416, 1.3555275362443062, 3.6565038252870874, 1.0446046593493952, 3.204091864644214, 1.9210798097171278, 1.9658254464019096, 2.8044534808826396, 2.219726439805025, 5.532817336748027, 3.9059095987633743, 4.260314176806358, 0.6734468971170323, 2.418578957638093, 2.3251914800499076, 2.0984572048665644, 1.5939608673503638, 5.399148017760961, 0.22403149897919972, 1.8778607061234256, 3.9809831042075636, 0.9498776589647364, 0.3912533726453337, 2.3070557146960007, 1.2222569434945671, 0.6263540649426967, 4.197350943737236, 1.9468993505057306, 3.001695695148184, 2.2427756201815305, 3.6847275326382722, 0.4610298619647687, 3.281624337134416, 1.5848370204912496, 3.121372274388239, 3.799821002435813, 3.169935279731118, 3.3232632949242604, 0.22680971198572766, 4.149923774171859, 4.885301775154945, 3.4810356856576847, 3.347341677495592, 3.4027233180048255, 3.4308902829249646, 3.5666365070558297, 2.300170908188001, 2.5409353806082975, 5.457386223898563, 3.6242086127277355, 2.94349565940138, 0.7977523351477153, 1.8728258271980103, 0.6919488240715836, 2.531315235409232, 3.3770314373168473, 2.8719176474527903, 1.532285750156036, 0.9418018576992063, 1.4988469752676492, 2.486555966548091, 0.6017135290272722, 0.036024230664745666, 1.2727595477383205, 4.502778020034835, 2.4556871512208955, 0.13824723144848206, 0.9972255170013232, 4.08683676253993, 0.3276601470406838, 1.179606626064075, 1.454959174019353, 1.8374745827391117, 0.21775115078679053, 2.090331800730757, 3.5514612423062752, 3.783444888414854, 1.8766522848347804, 3.8245504848569434, 3.6805591018468, 1.8650124420079892, 2.123995113157237, 3.1196998869812775, 2.186393722150723, 3.707335160159581, 2.7127170172837594, 3.721992129062598, 4.410412805301186, 1.8941603409826957, 2.632292408592981, 3.2293647617204013, 1.8699875771411314, 3.5051025367261968, 3.0903073512242205, 2.646765719312527, 0.16226600305670794, 0.07537460879647337, 1.9707072862052701, 3.1205387649624665, 1.2535723263663643, 3.912896351495224, 1.392254749018828, 2.1730475714699997, 1.0373357328693364, 1.4248165036399834, 2.1296604216963524, 3.5538294474990426, 2.742648718437782, 1.3126182965562427, 3.515137034162715, 2.9121622461446, 3.477514838570941, 2.6232783696737454, 3.011971255558913, 4.324456024927856, 0.29458570140259044, 2.0857421872796715, 4.034933195385259, 0.7277673070303705, 2.3580794085362173, 1.1164654023904452, 1.4595026268391913, 0.8543011708588711, 2.2710020504807034, 0.7357913922589087, 1.6429357568281884, 1.7223022371379628, -0.19874094651783042, 1.7347513653450204, 1.2106681559384136, 0.9620115064314843, 0.8288632663471752, 3.823259639990433, 3.4485265232491775, 5.331421423748594, 3.3628593312053137, 3.7994290478953427, 4.2771904640047795, 4.154970079802054, 1.772735711716987, 3.9087237589294412, 4.842047080515818, 3.800363330872226, 2.7436546946523763, 5.152741727303118, 0.9623748421865289, 0.09197622810530821, 1.0741261780276457, 3.6793433588738433, 0.9083367993995155, 3.6359388630265705, 3.5524110973752876, 2.6898595887140244, 3.651955443595445, 5.026332052589743, 3.4613603257668104, 0.8591899974633015, 1.742092030168772, 0.6615157266236952, 0.35861521698899645, 0.07795944070953653, 0.3427899754138282, 2.266686967020374, 1.3529161104311767, 3.663837759293184, 4.091102546398469, 4.466290407707248, 0.09197622810530821, 0.7614335476658352, 1.4897545383944533, 1.3501530829312824, 3.4637396277466213, 1.86741420870853, 3.7530555437351674, 3.2265935789275364, 1.0660632792061904, 5.056265110496799, 4.561448353858529, 2.6421261608270377, 3.4367723147291236, 4.482301303873024, 2.5944706780408233, 2.709780043342267, 2.292576263635416, 2.2836776827605347, 1.8694181075863299, 4.006443167871592, 1.3089401760971695, 2.187950770367297, 4.5752070372269324, 2.902230923602353, 2.371047917352043, 3.5135828367123443, 3.087617864208, 2.890072412033961, 4.303841407932482, 3.6145512550057255, 2.7545131768680804, 2.695578218589784, 2.3551833842728676, 0.6806370293379713, 2.3775868055578093, 3.4556682100510963, 0.4034444811428371, 2.1147128786767238, 1.960779143290932, 2.0801848784086965, 3.2473517848550832, 3.314904128933416, 3.1829052768463977, 2.6486097426155433, 4.751194775004873, 2.89058389794755, 3.4091138122100206, 1.1482121203040134, 3.639332328595897, 3.277783644616189, 1.6653273495133174, 2.7490468223927627, 1.368532310981131, 0.07514332187325522, 2.6683569151734083, 3.482994511267471, 0.13824723144848206, 3.3256027336519423, 1.048437777759271, 3.2822983962600354, 3.514749790671691, 2.392560970232094, 4.1506525230949425, 3.0855986152105137, 0.9155789958226621, 0.545442045636456, 2.5020572642783403, 4.11350430474986, 2.690406306415343, 1.8492835717331968, 2.3880558125039357, 0.09197622810530821, 2.6102250168783767, 0.21816999035435652, 0.23374995040483504, 2.823447611843636, 4.3809805899276695, 4.712246471521105, -0.011888042577435337, 2.3887042125224798, 3.1514738470565526, 0.3311424485612483, 4.408962852415528, 3.2664163155032697, 3.917255427530184, 3.877857921144994, 2.408508120636781, 2.4589449317270105, 4.168256991963993, 1.73059551313086, 2.6122754495199225, 1.7748502997775226, 3.1975068052885134, 1.036892308504279, 2.597612972134944, 2.5770267100045228, 1.6362951027504906, 2.270615303807095, 2.3365677749201623, 1.76359573059893, 2.706451014642266, 2.0031429861562415, 0.8032392157103171, 2.4292767928138868, 3.2120825382428624, 3.573743570296765, 1.2491449951471822, 1.2854533660591816, 1.171510943606746, -0.5009432873933112, 3.7636242992528777, 1.1641625333381553, 2.633029269951886, 0.4727382901348179, 3.7531832087902774, 2.17609452674703, 3.6828287260847343, 3.561930203153505, 4.138174198584107, 2.8017639499244784, 1.8353490499688714, 1.2726387775436772, 3.031477470004884, 3.206658276039918, 3.2948832389754976, 1.6709730055824144, 1.6349196039340284, 5.124502280693292, 0.13485364511821782, 4.546740979208076, 2.2070317420476595, 2.6441418365858014, 4.054381957625774, 2.3401808256952576, 2.6157935550913693, 0.7129161562799198, 0.3582578991130682, 3.454631996212792, 3.33935943125591, 1.4342168784492915, 1.905497076100976, 3.326055634492739, 0.09197622810530821, 3.507899428134345, 3.2931316995199693, 3.851129371619724, 3.0769139604505655, 4.903984075113973, 0.2232930755727119, 4.3236485487554015, 0.7835930160703216, 1.3144074899613685, 2.8439865687519426, 1.2111712137068602, 4.769465259440995, 3.768546848392515, 3.1002239537986793, 3.918564693500319, 3.053767915923658, 2.903370221009196, 1.4978531723759572, 1.5181326212056248, 2.308445917621012, 2.0779617233771077, -0.0075135113614334115, 2.2440660497558294, 1.8502578127495721, 2.6503236628230913, 1.0458595710934655, 0.04408122397236669, 1.8369387217631492, 3.176130877314144, 1.6017582729982003, 2.763941622383732, 0.09197622810530821, 3.691648822889299, 0.32334127270350893, 0.13824723144848206, 0.24144396911428184, 0.09197622810530821, 3.697494538647964, 4.181047657404205, 4.001932624036375, 4.477593811961151, 3.6599878984176017, 2.070333554628824, 4.19287478115435, 1.7194218405920036, 2.3158872127340087, 2.704617392707825, 2.3511367576315285, 1.0609602851584343, 0.41796530729633485, 3.8861515160251647, 1.5083609741519608, 1.1928716072825267, 0.7982065470083806, 1.2951854434564152, 2.97009133620031, 5.215888012569207, 2.634338381008448, 4.549885964711767, 3.4389566998663255, 1.0421335979430344, 1.647347362205286, 1.4248165036399834, 3.464965817222995, 2.0149424102002795, 1.4248165036399834, 3.9542757854505592, 2.674403535181023, 2.0707407706039618, 1.4648364411522798, 0.09197622810530821, 2.4024954333015813, 2.0686721186899484, 3.6289215377344126, 3.2239696883810147, 2.918786843189675, 1.1353495661894182, 4.250668373857581, 3.126928215543381, 1.8562024147784064, 2.677814317354306, 3.4623446448538506, 3.3101527542314755, 3.839171959678609, 3.8093007249902384, 4.226023341538005, 2.2291360161364873, 2.2902698165182365, 0.41308869397789794, 0.09197622810530821, 5.618735834550981, 2.6311344350140558, 1.7946422331748217, 2.093204921118603, 1.823644984697341, 2.757921147157473, 3.417952409623808, 2.566241879762193, 3.255095996476366, 4.765110745283355, 0.5065009957193737, 2.818430104775845, 0.9136048087317871, 1.936272763202749, 1.7327086899247113, 1.4248165036399834, 1.0150293001264772, 2.380671397613327, -0.07847879565394811, 3.2102465112775462, 1.3613584070333093, 0.1307696781036401, 1.555592528384083, 0.897423913731754, 1.0492716980386219, 4.491875324615533, -0.20113949338197568, 1.6503683121501476, 3.8284055854874626, 3.1289912186891056, 0.4987632253535408, 3.5421124403068647, 1.63047902879004, 2.009419678514253, 3.4659365360614176, 0.8661601492764182, 2.9755098249260374, 2.6916500017906753, 5.556612515790072, 2.1581623062157655, 3.390549625540754, 0.6749410215936795, 2.0802429226408377, 2.244700583918534, 3.3070095961511967, 2.115055407755699, 0.7274576225225426, 3.6046381113866, 3.4834609043492857, 1.0757470866658003, 2.6322008889707575, 4.327395572988743, 2.403044456623764, 2.842130933421541, 2.8391086802504035, 4.086728664119872, 2.1141964201172887, 3.859000856414813, 1.7291475973338424, 2.351731855499721, 2.015598916607206, 2.432454443588008, 1.2657748801452526, 2.9050317854075005, 1.436979270689568, 1.7465634569981014, 2.5333230025483253, 4.471823206885122, 2.265767316826071, 1.1675754375055518, 0.5166348587766036, 2.988173859257399, 1.5920174438928125, 4.497049710837069, 4.077675306572801, 1.9761354746948618, 2.2167716569624254, 4.944316359655518, 1.5941801355108727, -0.13125735562166457, 3.334644760536566, 4.83330474626614, 1.501946330506628, 0.4343156115987022, 3.7667335952337986, 3.710116141179447, 2.5016329765046543, 2.168880609485888, 3.524737626446608, 4.089562254129322, 0.7788699967113409, 2.9119669839211357, 2.8270961690152885, 2.790121389993398, 3.01494836690794, 2.5396285774624237, 3.8911292040154537, 1.4248165036399834, 4.126617548798389, 3.018941198827555, 0.3014984351858935, 2.8951541315682885, 0.6042441442258351, 3.864848027834058, 2.9494809539091955, 2.4254792012916493, 3.824264819332536, 1.0350422353130897, 2.363764577342695, 3.7506693889487135, 2.5122170800177397, 1.7154202719967846, 1.9441421916785646, 4.627974436289153, 0.13824723144848206, 0.7314473661181835, 0.7392373742271686, 2.5489578007868148, 2.0489092075756044, 2.1830413826032053, 3.1831976870926937, 1.836372683675736, 3.9113981329571255, 2.968077354304687, 1.3223427065454119, 1.635034607524175, 3.0010631910541514, 1.0503615891989502, 0.8077180031836809, 2.0446208538251103, 1.4200959479024595, 0.9259969802628147, 0.3126077289308725, 4.190389715977215, 0.21844010243010026, 0.09197622810530821, 4.339408435293975, 3.129935805715605, 1.995638924402966, 3.490209251064604, 1.795246634959664, 4.203670360573526, 4.107163930233829, 3.234304444743965, 3.6403082836683778, 2.760169883431135, 3.3982444465848296, 4.0730604691006125, 0.6698792290939469, 1.9161152453980788, 3.430628309329091, 3.7693017587262503, 1.8240983949521496, 3.6224195255822584, 1.7046615479089455, 1.883789798159059, 0.4042000894490123, 2.690991941213609, 4.276436291537401, 3.190114386354754, 4.069417007096807, 1.7790931557680123, 0.09197622810530821, 1.9351450154736258, 3.3849470013809193, 0.5563175446345412, 2.4261407974079034, 1.1343332104454393, 3.000650388486505, 2.555153360807547, 3.664984243062959, 3.4971217819926173, 0.2671354763911324, 1.5957030409949258, 1.5249350908707064, 3.932395669426375, 1.153022775397319, 2.0439399611242766, 4.058902519680068, 3.4133010694728068, 0.09197622810530821, 3.578417381196323, 2.5300903046648275, 2.20861342746736, 1.5791835615545213, 2.7713216495371196, 2.5052987933824453, 5.108753424468914, -0.03601889390829216, 1.451607832415101, 0.8088570554779242, 0.3142462931218003, 1.2043380571519458, 1.409946883105549, 1.213040364301703, 3.0677290315359795, 2.1245787891912076, 2.5039815595953527, 3.3886798210035116, 3.6260780316723564, 2.12695074194719, 4.085140214131212, 3.507499917982555, 4.356721616898692, 3.9631111420263405, 3.4325054288423806, 3.5209306443858344, 0.14251303589634684, 2.82432258520253, 0.18127861065133902, 0.21844010243010026, 2.146402507299216, 3.438570522463647, 1.5638205887038885, 3.728576149616832, 0.13824723144848206, 0.8218724413084446, 2.146479934990126, 0.7496218575655963, 3.0210338845958304, 1.0562102352685976, 0.12364703243530062, 3.5516300896443815, 1.367936815242159, 3.4133099176251993, 2.3870635485293508, 0.5563175446345412, 2.6334184564527794, 0.8222281612458424, 1.8997553179294728, 1.539304617764326, 3.971142507244709, 3.430759098709958, 3.6448387917212606, 3.5750613747136466, 5.315021468192698, 3.9716413475060013, 2.1723157310330063, 2.4800205857663613, 3.756677202844122, 3.077830332047426, 0.9042360934029026, 3.6097411803642983, 1.5090918089432388, 1.53953612544572, 2.771694995808199, 0.6990139422003014, 1.9703402023507128, 1.4736077393139566, 1.408014149533276, 3.0659159230948463, -0.054861531882865355, 2.2014022490602883, 2.4940799698934804, 1.355343036100202, 1.807258789070381, 2.4731969483288054, 3.593515645396795, 1.4255859188922186, 4.078450342249994, 2.0232433540130677, 3.225308691282444, 3.484440852024349, 4.028019241763716, 2.763674455704363, 0.21844010243010026, 2.050776180324077, 3.252808774656212, 2.5088049938812533, 2.5796210154349533, -0.26251471124332915, 0.15028664374651043, 3.3304353002283102, 2.199793836439105, 1.828148408640425, 1.3380650363483602, 3.9449824412116428, 2.8189297320561577, 3.6858134971957357, 3.645426124930857, 1.3846956686578487, 4.630923683700333, 0.24079931496950385, 4.5802732387233425, 0.4382199836517163, 1.343125875983436, 2.473661681325297, 0.4725262544481751, 3.2738600267432845, 4.678411857004428, 2.545126844804898, 1.394015749243299, 0.35480041910089255, 2.8654679525911764, 2.2886125664223416, 3.6041916478992793, 0.018012115332372833, 2.1805321609898156, 0.09197622810530821, 5.02935946470486, 4.088739080930912, 3.246970535101526, 4.714017267613001, 1.8514063893119206, 1.724122551840314, 0.09197622810530821, 2.5172321635170403, 1.1025757957198796, 0.5858110252287734, 0.03964767038915429, 2.439547068136315, 2.865011930852586, 4.511332117227301, 1.5325464211000492, 3.1255456796619225, 1.2941931595665381, 2.7543103346080238, 0.09197622810530821, 3.2636116114597575, 2.9595204773167283, 0.40908152177792917, 3.1055492607093806, 2.962717210894418, 0.7978631309487244, 1.9989031547140295, 4.1796197583447725, 0.09490169851763297, 4.260653857146382, 3.2117079332072747, 1.6010574646142801, 5.25025423469875, 2.265755423390297, 4.432890104397886, 2.1596190364368955, 0.8952890189048635, 2.930552420767432, 1.8214452212642849, 2.911672202514197, 0.6923019668851985, 1.3448914418585787, 1.923253545874407, -0.13125735562166457, 1.4247596830682148, 4.764579940084945, 2.771766988247143, 1.992052579660872, 2.5002639203048242, 4.059028639485236, 3.8066135244180686, 0.7316639556528198, 2.6308835342296573, 2.85424430299942, 0.09197622810530821, 0.05403634415281269, 1.1150640773373777, 3.0479373941676315, 3.1773381187987924, 2.6209928281410058, 2.107673498405047, 4.419071670287135, 1.7915521126265508, 3.278453326210111, 2.1026422264820868, 1.4144731044313068, 3.4163320280355594, 2.0393109583624556, 2.1249099176131154, 2.4538660705923023, 3.6355953519488486, 3.059960038983542, 4.805253592616811, 1.3810504279737532, 2.4827792520247782, 1.1603672698213843, 3.229724032988787, 3.1893536538996927, 3.828443662310743, 0.5134518762850546, 4.88419391558753, 2.0052424106768236, 0.44531994952464254, 0.4920107925752909, 4.1335674092152335, 3.3852918552968045, 5.558224643751598, 1.1925767756466386, 0.07132218744684585, 0.5148711692904917, 3.8528525264942615, 3.5486956825341998, 3.2461754774157923, 3.0994881342038396, 3.4365687463403956, 0.9822354540854277, 1.712673551920374, 3.0610526087432115, 3.0179203462992876, 3.2962605317800713, 3.4602037139630415, 1.2236690513369082, 4.048843093765163, 3.8858967785402876, 2.2566886570502827, 4.292335621067602, 1.8730280541899689, 1.3623766224248832, 4.323921046486957, 1.4282949673746033, 1.5858502505707328, 1.5837688806029717, 2.093662927172047, 4.774539400726953, 1.6414753460173324, 0.7542815580410343]\n",
      "+---------+---------+---------------+\n",
      "| user_id | item_id |     rating    |\n",
      "+---------+---------+---------------+\n",
      "|   789   |   806   | 5.61873583455 |\n",
      "|   789   |   187   | 5.55822464375 |\n",
      "|   789   |   189   | 5.55661251579 |\n",
      "|   789   |   486   | 5.53281733675 |\n",
      "|   789   |    47   | 5.46212141349 |\n",
      "|   789   |   715   | 5.46032244904 |\n",
      "|   789   |    56   |  5.4573862239 |\n",
      "|   789   |   182   | 5.41209435064 |\n",
      "|   789   |   169   | 5.39914801776 |\n",
      "|   789   |   195   | 5.33556876383 |\n",
      "+---------+---------+---------------+\n",
      "[? rows x 3 columns]\n",
      "Note: Only the head of the XFrame is printed. This XFrame is lazily \n",
      "evaluated.  You can use len(xf) to force materialization.\n"
     ]
    }
   ],
   "source": [
    "recommendations = model.recommend_top_k(user)\n",
    "print recommendations"
   ]
  },
  {
   "cell_type": "markdown",
   "metadata": {},
   "source": [
    "What movies there these?"
   ]
  },
  {
   "cell_type": "code",
   "execution_count": 15,
   "metadata": {
    "collapsed": false
   },
   "outputs": [
    {
     "name": "stdout",
     "output_type": "stream",
     "text": [
      "+---------+---------+---------------+--------------------------------+\n",
      "| user_id | item_id |     rating    |              name              |\n",
      "+---------+---------+---------------+--------------------------------+\n",
      "|   789   |   806   | 5.61873583455 |    Menace II Society (1993)    |\n",
      "|   789   |   187   | 5.55822464375 | Godfather: Part II, The (1974) |\n",
      "|   789   |   189   | 5.55661251579 |    Grand Day Out, A (1992)     |\n",
      "|   789   |   486   | 5.53281733675 |         Sabrina (1954)         |\n",
      "|   789   |    47   | 5.46212141349 |         Ed Wood (1994)         |\n",
      "|   789   |   715   | 5.46032244904 |       To Die For (1995)        |\n",
      "|   789   |    56   |  5.4573862239 |      Pulp Fiction (1994)       |\n",
      "|   789   |   182   | 5.41209435064 |       GoodFellas (1990)        |\n",
      "|   789   |   169   | 5.39914801776 |   Wrong Trousers, The (1993)   |\n",
      "|   789   |   195   | 5.33556876383 |     Terminator, The (1984)     |\n",
      "+---------+---------+---------------+--------------------------------+\n",
      "[? rows x 4 columns]\n",
      "Note: Only the head of the XFrame is printed. This XFrame is lazily \n",
      "evaluated.  You can use len(xf) to force materialization.\n"
     ]
    }
   ],
   "source": [
    "print recommendations.join(movie_names, on={'item_id': 'movie_id'}) \\\n",
    "                                                       .sort('rating', ascending=False)"
   ]
  },
  {
   "cell_type": "markdown",
   "metadata": {},
   "source": [
    "What were some of the movies that this user rated most highly?"
   ]
  },
  {
   "cell_type": "code",
   "execution_count": 16,
   "metadata": {
    "collapsed": false
   },
   "outputs": [
    {
     "name": "stdout",
     "output_type": "stream",
     "text": [
      "+---------+---------+--------+-----------+\n",
      "| user_id | item_id | rating | timestamp |\n",
      "+---------+---------+--------+-----------+\n",
      "|   789   |    50   |   5    | 880332114 |\n",
      "|   789   |   129   |   5    | 880332063 |\n",
      "|   789   |   741   |   5    | 880332148 |\n",
      "|   789   |    9    |   5    | 880332114 |\n",
      "|   789   |   127   |   5    | 880332039 |\n",
      "|   789   |   276   |   5    | 880332063 |\n",
      "|   789   |   475   |   5    | 880332063 |\n",
      "|   789   |   100   |   5    | 880332089 |\n",
      "|   789   |   150   |   5    | 880332333 |\n",
      "|   789   |    93   |   4    | 880332063 |\n",
      "+---------+---------+--------+-----------+\n",
      "+--------------------------------+\n",
      "|              name              |\n",
      "+--------------------------------+\n",
      "|        Star Wars (1977)        |\n",
      "|          Bound (1996)          |\n",
      "|    Last Supper, The (1995)     |\n",
      "|    Dead Man Walking (1995)     |\n",
      "|     Godfather, The (1972)      |\n",
      "|    Leaving Las Vegas (1995)    |\n",
      "|      Trainspotting (1996)      |\n",
      "|          Fargo (1996)          |\n",
      "|        Swingers (1996)         |\n",
      "| Welcome to the Dollhouse ( ... |\n",
      "+--------------------------------+\n",
      "[? rows x 5 columns]\n",
      "Note: Only the head of the XFrame is printed. This XFrame is lazily \n",
      "evaluated.  You can use len(xf) to force materialization.\n"
     ]
    }
   ],
   "source": [
    "print ratings.filterby(789, 'user_id').join(movie_names, on={'item_id': 'movie_id'})   \\\n",
    "                    .sort('rating', ascending=False)"
   ]
  },
  {
   "cell_type": "markdown",
   "metadata": {},
   "source": [
    "Save the model for later use."
   ]
  },
  {
   "cell_type": "code",
   "execution_count": 17,
   "metadata": {
    "collapsed": false
   },
   "outputs": [],
   "source": [
    "model.save('models/recommender-model')"
   ]
  },
  {
   "cell_type": "markdown",
   "metadata": {},
   "source": [
    "## What is xFrames ?"
   ]
  },
  {
   "cell_type": "markdown",
   "metadata": {},
   "source": [
    "* A python library for handling tabular data\n",
    "* A better was to program in pySpark\n",
    "* A tool for exploring and manipulating large data sets\n",
    "* An abstraction layer that ties together several underlying technologies\n",
    "\n",
    "-----\n",
    "\n",
    "* A high level language for tabular data, embedded in python\n",
    "* Implemented by interpretation\n",
    "* Uses a virtual machine based on pySpark"
   ]
  },
  {
   "cell_type": "markdown",
   "metadata": {},
   "source": [
    "## xFrames Key Goals"
   ]
  },
  {
   "cell_type": "markdown",
   "metadata": {},
   "source": [
    "* Remove the need to learn new programming styles, such as map/reduce and RDDs\n",
    "* Anyone familiar with python can work with Big Data at scale\n",
    "* Simplify and speed development when working with tabular data\n",
    "* Work seamlessly with pySpark and other python-based technologies such as pandas and the DAL DataFramePlus\n",
    "* Make it easy to get started by using a container\n",
    "* Lightweight: pure python with minimal dependencies; easy to install"
   ]
  },
  {
   "cell_type": "markdown",
   "metadata": {},
   "source": [
    "# XFrame Fundamentals"
   ]
  },
  {
   "cell_type": "markdown",
   "metadata": {},
   "source": [
    "The key objects are XArray and XFrame, representing vectors and matrices."
   ]
  },
  {
   "cell_type": "markdown",
   "metadata": {},
   "source": [
    "## XArray"
   ]
  },
  {
   "cell_type": "markdown",
   "metadata": {},
   "source": [
    "* An XArray is a vector of values of a uniform type\n",
    "* Can be any type that is serializable by python: int, float, list, dict\n",
    "* An XArray is immutable\n",
    "* Each XArray instance contains a single spark RDD, which holds the actual data"
   ]
  },
  {
   "cell_type": "code",
   "execution_count": 18,
   "metadata": {
    "collapsed": false
   },
   "outputs": [
    {
     "name": "stdout",
     "output_type": "stream",
     "text": [
      "[1, 2, 3]\n"
     ]
    }
   ],
   "source": [
    "print XArray([1, 2, 3])"
   ]
  },
  {
   "cell_type": "code",
   "execution_count": 19,
   "metadata": {
    "collapsed": false
   },
   "outputs": [
    {
     "name": "stdout",
     "output_type": "stream",
     "text": [
      "['a', 'b', 'c']\n",
      "[[1, 2], [1, 3], [5, 6]]\n",
      "[{'score': 92, 'user': 'charlie'}, {'score': 95, 'user': 'joe'}]\n",
      "[0, 1, 2, 3, 4, 5, 6, 7, 8, 9]\n"
     ]
    }
   ],
   "source": [
    "print XArray(['a', 'b', 'c'])\n",
    "print XArray([[1, 2], [1, 3], [5, 6]])\n",
    "print XArray([{'user': 'charlie', 'score': 92}, {'user': 'joe', 'score': 95}])\n",
    "print XArray(range(10))"
   ]
  },
  {
   "cell_type": "markdown",
   "metadata": {},
   "source": [
    "## XFrame"
   ]
  },
  {
   "cell_type": "markdown",
   "metadata": {},
   "source": [
    "* A table of fixed width, where each column has a name and a type\n",
    "* The XFrame columns are immutable, but columns can be added or deleted from an XFrame \n",
    "* Each XFrame instance contains a single spark RDD, which holds the actual data"
   ]
  },
  {
   "cell_type": "code",
   "execution_count": 20,
   "metadata": {
    "collapsed": false
   },
   "outputs": [
    {
     "name": "stdout",
     "output_type": "stream",
     "text": [
      "+----+---------+----------+\n",
      "| id |   name  |  scores  |\n",
      "+----+---------+----------+\n",
      "| 1  | charlie | [90, 80] |\n",
      "| 2  |   joe   |   [80]   |\n",
      "| 3  |  jason  | [95, 99] |\n",
      "+----+---------+----------+\n",
      "[? rows x 3 columns]\n",
      "Note: Only the head of the XFrame is printed. This XFrame is lazily \n",
      "evaluated.  You can use len(xf) to force materialization.\n"
     ]
    }
   ],
   "source": [
    "print XFrame({'id': [1, 2, 3], 'name': ['charlie', 'joe', 'jason'], 'scores': [[90, 80], [80], [95, 99]]})"
   ]
  },
  {
   "cell_type": "markdown",
   "metadata": {},
   "source": [
    "## Reading Data"
   ]
  },
  {
   "cell_type": "markdown",
   "metadata": {},
   "source": [
    "* Data can be read from a file to create an XFrame\n",
    "* The file can be stored on S3, hdfs, or locally.\n",
    "* The file can be text (delimited), parquet, hive, various hdfs file types, or spark binary storage format\n",
    "* XFrame tries to guess storage format from the filename extension\n",
    "* XFrame takes column names and types from metadata or column headings if available; guesses column types from the firs portion of the data\n",
    "* Application can optionally supply file type, column names, or column types\n",
    "* Factory methods such as XFrame.read_csv allow greater control over delimiters, quoting, and other parameters\n"
   ]
  },
  {
   "cell_type": "code",
   "execution_count": 21,
   "metadata": {
    "collapsed": false
   },
   "outputs": [
    {
     "name": "stdout",
     "output_type": "stream",
     "text": [
      "+---------+---------+-------+\n",
      "| user_id |   name  | score |\n",
      "+---------+---------+-------+\n",
      "|    1    | charlie |   87  |\n",
      "|    1    | charlie |   92  |\n",
      "|    2    |   joe   |   90  |\n",
      "|    3    |  jason  |   95  |\n",
      "+---------+---------+-------+\n",
      "[? rows x 3 columns]\n",
      "Note: Only the head of the XFrame is printed. This XFrame is lazily \n",
      "evaluated.  You can use len(xf) to force materialization.\n"
     ]
    }
   ],
   "source": [
    "print XFrame('example.csv')"
   ]
  },
  {
   "cell_type": "markdown",
   "metadata": {},
   "source": [
    "## Loading Data"
   ]
  },
  {
   "cell_type": "markdown",
   "metadata": {},
   "source": [
    "Loading data refers to bringing data that is already in python into an XFrame\n",
    "* Data can be a dictionary, an array, a spark DataFrame, a spark RDD, a pandas DataFrame, an XArray or an XFrame\n",
    "* There are similar operations for XArray\n",
    "* Column names and types are assigned from the data or guessed if necessary"
   ]
  },
  {
   "cell_type": "code",
   "execution_count": 22,
   "metadata": {
    "collapsed": false
   },
   "outputs": [
    {
     "name": "stdout",
     "output_type": "stream",
     "text": [
      "+----+\n",
      "| X0 |\n",
      "+----+\n",
      "| 1  |\n",
      "| 2  |\n",
      "| 3  |\n",
      "+----+\n",
      "[? rows x 1 columns]\n",
      "Note: Only the head of the XFrame is printed. This XFrame is lazily \n",
      "evaluated.  You can use len(xf) to force materialization.\n",
      "+----+\n",
      "| X0 |\n",
      "+----+\n",
      "| 1  |\n",
      "| 2  |\n",
      "| 3  |\n",
      "+----+\n",
      "[? rows x 1 columns]\n",
      "Note: Only the head of the XFrame is printed. This XFrame is lazily \n",
      "evaluated.  You can use len(xf) to force materialization.\n",
      "+----+\n",
      "| X0 |\n",
      "+----+\n",
      "| 3  |\n",
      "| 1  |\n",
      "| 4  |\n",
      "| 1  |\n",
      "| 5  |\n",
      "+----+\n",
      "[? rows x 1 columns]\n",
      "Note: Only the head of the XFrame is printed. This XFrame is lazily \n",
      "evaluated.  You can use len(xf) to force materialization.\n"
     ]
    }
   ],
   "source": [
    "xf = XFrame([1, 2, 3])\n",
    "print xf\n",
    "print XFrame(xf)\n",
    "xa = XArray([3, 1, 4, 1, 5])\n",
    "print XFrame(xa)"
   ]
  },
  {
   "cell_type": "markdown",
   "metadata": {},
   "source": [
    "## Saving Data"
   ]
  },
  {
   "cell_type": "markdown",
   "metadata": {},
   "source": [
    "An XFrame can be saved as binary, csv, or parquet\n",
    "* Binary is actually a hadoop SequenceFile, and can be read back efficiently\n",
    "* The order may not be preserved when reading a file saved in binary"
   ]
  },
  {
   "cell_type": "code",
   "execution_count": 23,
   "metadata": {
    "collapsed": false
   },
   "outputs": [],
   "source": [
    "xf = XFrame('example.csv')\n",
    "xf.save('data/some-data')\n",
    "xf.save('data/some-csv-data.csv')"
   ]
  },
  {
   "cell_type": "code",
   "execution_count": 24,
   "metadata": {
    "collapsed": false
   },
   "outputs": [
    {
     "name": "stdout",
     "output_type": "stream",
     "text": [
      "+---------+---------+-------+\n",
      "| user_id |   name  | score |\n",
      "+---------+---------+-------+\n",
      "|    2    |   joe   |   90  |\n",
      "|    3    |  jason  |   95  |\n",
      "|    1    | charlie |   87  |\n",
      "|    1    | charlie |   92  |\n",
      "+---------+---------+-------+\n",
      "[? rows x 3 columns]\n",
      "Note: Only the head of the XFrame is printed. This XFrame is lazily \n",
      "evaluated.  You can use len(xf) to force materialization.\n"
     ]
    }
   ],
   "source": [
    "print XFrame('data/some-data')"
   ]
  },
  {
   "cell_type": "code",
   "execution_count": 25,
   "metadata": {
    "collapsed": false
   },
   "outputs": [
    {
     "name": "stdout",
     "output_type": "stream",
     "text": [
      "+---------+---------+-------+\n",
      "| user_id |   name  | score |\n",
      "+---------+---------+-------+\n",
      "|    1    | charlie |   87  |\n",
      "|    1    | charlie |   92  |\n",
      "|    2    |   joe   |   90  |\n",
      "|    3    |  jason  |   95  |\n",
      "+---------+---------+-------+\n",
      "[? rows x 3 columns]\n",
      "Note: Only the head of the XFrame is printed. This XFrame is lazily \n",
      "evaluated.  You can use len(xf) to force materialization.\n"
     ]
    }
   ],
   "source": [
    "print XFrame('data/some-csv-data.csv')"
   ]
  },
  {
   "cell_type": "markdown",
   "metadata": {},
   "source": [
    "## Exporting Data"
   ]
  },
  {
   "cell_type": "markdown",
   "metadata": {},
   "source": [
    "An XFrame can be used by pandas, xpatterns, or spark."
   ]
  },
  {
   "cell_type": "code",
   "execution_count": 26,
   "metadata": {
    "collapsed": false
   },
   "outputs": [
    {
     "name": "stdout",
     "output_type": "stream",
     "text": [
      "   user_id     name  score\n",
      "0        1  charlie     87\n",
      "1        1  charlie     92\n",
      "2        2      joe     90\n",
      "3        3    jason     95\n"
     ]
    }
   ],
   "source": [
    "print xf.to_pandas_dataframe()"
   ]
  },
  {
   "cell_type": "code",
   "execution_count": 27,
   "metadata": {
    "collapsed": false
   },
   "outputs": [
    {
     "name": "stdout",
     "output_type": "stream",
     "text": [
      "   user_id     name  score\n",
      "0        1  charlie     87\n",
      "1        1  charlie     92\n",
      "2        2      joe     90\n",
      "3        3    jason     95\n"
     ]
    }
   ],
   "source": [
    "print xf.to_dataframeplus()"
   ]
  },
  {
   "cell_type": "code",
   "execution_count": 28,
   "metadata": {
    "collapsed": false
   },
   "outputs": [
    {
     "name": "stdout",
     "output_type": "stream",
     "text": [
      "[Row(user_id=1, name=u'charlie', score=92), Row(user_id=3, name=u'jason', score=95), Row(user_id=1, name=u'charlie', score=87), Row(user_id=2, name=u'joe', score=90)]\n"
     ]
    }
   ],
   "source": [
    "print xf.to_spark_dataframe().collect()"
   ]
  },
  {
   "cell_type": "code",
   "execution_count": 31,
   "metadata": {
    "collapsed": false
   },
   "outputs": [
    {
     "name": "stdout",
     "output_type": "stream",
     "text": [
      "[(1, 'charlie', 87), (1, 'charlie', 92), (2, 'joe', 90), (3, 'jason', 95)]\n"
     ]
    }
   ],
   "source": [
    "print xf.to_rdd().collect()"
   ]
  },
  {
   "cell_type": "markdown",
   "metadata": {},
   "source": [
    "## Using Spark SQL"
   ]
  },
  {
   "cell_type": "markdown",
   "metadata": {},
   "source": [
    "You can use the XFrame operations to do equivalent operations, but you might want to use spark SQL operations instead.  This is easy to do; the result is returned as an XFrame.  Any sql statement in spark SQL is accepted."
   ]
  },
  {
   "cell_type": "code",
   "execution_count": 32,
   "metadata": {
    "collapsed": false,
    "scrolled": true
   },
   "outputs": [
    {
     "name": "stdout",
     "output_type": "stream",
     "text": [
      "+---------+---------+-------+\n",
      "| user_id |   name  | score |\n",
      "+---------+---------+-------+\n",
      "|    2    |   joe   |   90  |\n",
      "|    1    | charlie |   92  |\n",
      "|    3    |  jason  |   95  |\n",
      "+---------+---------+-------+\n",
      "[? rows x 3 columns]\n",
      "Note: Only the head of the XFrame is printed. This XFrame is lazily \n",
      "evaluated.  You can use len(xf) to force materialization.\n"
     ]
    }
   ],
   "source": [
    "print xf.sql('select * from xf where score >= 90', 'xf')"
   ]
  },
  {
   "cell_type": "markdown",
   "metadata": {},
   "source": [
    "## Iteration"
   ]
  },
  {
   "cell_type": "markdown",
   "metadata": {},
   "source": [
    "It is possible to iterate over the rows in an XArray, although it is slow, because the data must be brought in to the master"
   ]
  },
  {
   "cell_type": "code",
   "execution_count": 33,
   "metadata": {
    "collapsed": false
   },
   "outputs": [
    {
     "name": "stdout",
     "output_type": "stream",
     "text": [
      "{'score': 10, 'id': 0}\n",
      "{'score': 11, 'id': 1}\n",
      "{'score': 12, 'id': 2}\n",
      "{'score': 13, 'id': 3}\n",
      "{'score': 14, 'id': 4}\n",
      "{'score': 15, 'id': 5}\n",
      "{'score': 16, 'id': 6}\n",
      "{'score': 17, 'id': 7}\n",
      "{'score': 18, 'id': 8}\n",
      "{'score': 19, 'id': 9}\n"
     ]
    }
   ],
   "source": [
    "xf = XFrame({'id': range(0, 10), 'score': range(10, 20)})\n",
    "for row in xf: print row"
   ]
  },
  {
   "cell_type": "code",
   "execution_count": 34,
   "metadata": {
    "collapsed": false
   },
   "outputs": [
    {
     "name": "stdout",
     "output_type": "stream",
     "text": [
      "{'score': 13, 'id': 3}\n"
     ]
    }
   ],
   "source": [
    "print xf[3]"
   ]
  },
  {
   "cell_type": "code",
   "execution_count": 35,
   "metadata": {
    "collapsed": false
   },
   "outputs": [
    {
     "name": "stdout",
     "output_type": "stream",
     "text": [
      "+----+-------+\n",
      "| id | score |\n",
      "+----+-------+\n",
      "| 3  |   13  |\n",
      "| 4  |   14  |\n",
      "+----+-------+\n",
      "[? rows x 2 columns]\n",
      "Note: Only the head of the XFrame is printed. This XFrame is lazily \n",
      "evaluated.  You can use len(xf) to force materialization.\n"
     ]
    }
   ],
   "source": [
    "print xf[3:5]"
   ]
  },
  {
   "cell_type": "code",
   "execution_count": 36,
   "metadata": {
    "collapsed": false
   },
   "outputs": [
    {
     "name": "stdout",
     "output_type": "stream",
     "text": [
      "+----+-------+\n",
      "| id | score |\n",
      "+----+-------+\n",
      "| 0  |   10  |\n",
      "| 1  |   11  |\n",
      "| 2  |   12  |\n",
      "| 3  |   13  |\n",
      "+----+-------+\n",
      "[? rows x 2 columns]\n",
      "Note: Only the head of the XFrame is printed. This XFrame is lazily \n",
      "evaluated.  You can use len(xf) to force materialization.\n"
     ]
    }
   ],
   "source": [
    "print xf[:4]"
   ]
  },
  {
   "cell_type": "code",
   "execution_count": 37,
   "metadata": {
    "collapsed": false
   },
   "outputs": [
    {
     "name": "stdout",
     "output_type": "stream",
     "text": [
      "3\n"
     ]
    }
   ],
   "source": [
    "print xf['id'][3]"
   ]
  },
  {
   "cell_type": "markdown",
   "metadata": {},
   "source": [
    "## Table Information"
   ]
  },
  {
   "cell_type": "markdown",
   "metadata": {},
   "source": [
    "It is easy to get information about a table, and print some of the rows.\n",
    "* Get colum names and types\n",
    "* Get table length (forces evaluation)\n",
    "* Print first rows of the table"
   ]
  },
  {
   "cell_type": "code",
   "execution_count": 38,
   "metadata": {
    "collapsed": false
   },
   "outputs": [
    {
     "name": "stdout",
     "output_type": "stream",
     "text": [
      "['id', 'score']\n",
      "[<type 'int'>, <type 'int'>]\n"
     ]
    }
   ],
   "source": [
    "print xf.column_names()\n",
    "print xf.column_types()"
   ]
  },
  {
   "cell_type": "code",
   "execution_count": 39,
   "metadata": {
    "collapsed": false
   },
   "outputs": [
    {
     "name": "stdout",
     "output_type": "stream",
     "text": [
      "10\n",
      "\n",
      "+----+-------+\n",
      "| id | score |\n",
      "+----+-------+\n",
      "| 0  |   10  |\n",
      "| 1  |   11  |\n",
      "| 2  |   12  |\n",
      "| 3  |   13  |\n",
      "| 4  |   14  |\n",
      "| 5  |   15  |\n",
      "| 6  |   16  |\n",
      "| 7  |   17  |\n",
      "| 8  |   18  |\n",
      "| 9  |   19  |\n",
      "+----+-------+\n",
      "[10 rows x 2 columns]\n",
      "\n"
     ]
    }
   ],
   "source": [
    "print len(xf)\n",
    "print\n",
    "print xf"
   ]
  },
  {
   "cell_type": "code",
   "execution_count": 40,
   "metadata": {
    "collapsed": false
   },
   "outputs": [
    {
     "name": "stdout",
     "output_type": "stream",
     "text": [
      "+-----+-------+\n",
      "|  id | score |\n",
      "+-----+-------+\n",
      "|  0  |   10  |\n",
      "|  1  |   11  |\n",
      "|  2  |   12  |\n",
      "|  3  |   13  |\n",
      "|  4  |   14  |\n",
      "| ... |  ...  |\n",
      "+-----+-------+\n",
      "[10 rows x 2 columns]\n",
      "\n"
     ]
    }
   ],
   "source": [
    "xf.print_rows(num_rows=5)"
   ]
  },
  {
   "cell_type": "markdown",
   "metadata": {},
   "source": [
    "## Column Arithmetic"
   ]
  },
  {
   "cell_type": "markdown",
   "metadata": {},
   "source": [
    "Selecting a column from an XFrame gives an XArray.  Vector and scalar arithmetic is defined on XArrays."
   ]
  },
  {
   "cell_type": "code",
   "execution_count": 41,
   "metadata": {
    "collapsed": false
   },
   "outputs": [
    {
     "name": "stdout",
     "output_type": "stream",
     "text": [
      "[0, 1, 2, 3, 4, 5, 6, 7, 8, 9]\n",
      "[0, 1, 2, 3, 4, 5, 6, 7, 8, 9]\n"
     ]
    }
   ],
   "source": [
    "print xf['id']\n",
    "print xf.id"
   ]
  },
  {
   "cell_type": "code",
   "execution_count": 42,
   "metadata": {
    "collapsed": false
   },
   "outputs": [
    {
     "name": "stdout",
     "output_type": "stream",
     "text": [
      "[0, 2, 4, 6, 8, 10, 12, 14, 16, 18]\n",
      "[1, 2, 3, 4, 5, 6, 7, 8, 9, 10]\n",
      "[0, 1, 4, 9, 16, 25, 36, 49, 64, 81]\n",
      "[0, 8, 34, 78, 140, 220, 318, 434, 568, 720]\n",
      "4.5\n"
     ]
    }
   ],
   "source": [
    "id = xf['id']\n",
    "print id * 2\n",
    "print id + 1\n",
    "print id * id\n",
    "print (3 * id)  **2 - id\n",
    "print id.mean()"
   ]
  },
  {
   "cell_type": "markdown",
   "metadata": {},
   "source": [
    "Usually, columns are extracted from tables and assigned back into the table after performing some operation."
   ]
  },
  {
   "cell_type": "code",
   "execution_count": 43,
   "metadata": {
    "collapsed": false
   },
   "outputs": [
    {
     "name": "stdout",
     "output_type": "stream",
     "text": [
      "+----+-------+\n",
      "| id | score |\n",
      "+----+-------+\n",
      "| 0  |   20  |\n",
      "| 1  |   22  |\n",
      "| 2  |   24  |\n",
      "| 3  |   26  |\n",
      "| 4  |   28  |\n",
      "| 5  |   30  |\n",
      "| 6  |   32  |\n",
      "| 7  |   34  |\n",
      "| 8  |   36  |\n",
      "| 9  |   38  |\n",
      "+----+-------+\n",
      "[? rows x 2 columns]\n",
      "Note: Only the head of the XFrame is printed. This XFrame is lazily \n",
      "evaluated.  You can use len(xf) to force materialization.\n"
     ]
    }
   ],
   "source": [
    "xf.score = 2*xf.score\n",
    "print xf"
   ]
  },
  {
   "cell_type": "markdown",
   "metadata": {},
   "source": [
    "## Column and Row Filtering"
   ]
  },
  {
   "cell_type": "markdown",
   "metadata": {},
   "source": [
    "Column filtering makes a table from a subset of the columns in another table."
   ]
  },
  {
   "cell_type": "code",
   "execution_count": 44,
   "metadata": {
    "collapsed": false
   },
   "outputs": [
    {
     "name": "stdout",
     "output_type": "stream",
     "text": [
      "+--------+----+-------+\n",
      "| charge | id | score |\n",
      "+--------+----+-------+\n",
      "|  100   | 0  |   10  |\n",
      "|  101   | 1  |   11  |\n",
      "|  102   | 2  |   12  |\n",
      "+--------+----+-------+\n",
      "[10 rows x 3 columns]\n",
      "\n"
     ]
    }
   ],
   "source": [
    "xf = XFrame({'id': range(0, 10), 'score': range(10, 20), 'charge': range(100,110)})\n",
    "xf.print_rows(num_rows=3)"
   ]
  },
  {
   "cell_type": "code",
   "execution_count": 45,
   "metadata": {
    "collapsed": false
   },
   "outputs": [
    {
     "name": "stdout",
     "output_type": "stream",
     "text": [
      "+----+--------+\n",
      "| id | charge |\n",
      "+----+--------+\n",
      "| 0  |  100   |\n",
      "| 1  |  101   |\n",
      "| 2  |  102   |\n",
      "| 3  |  103   |\n",
      "| 4  |  104   |\n",
      "| 5  |  105   |\n",
      "| 6  |  106   |\n",
      "| 7  |  107   |\n",
      "| 8  |  108   |\n",
      "| 9  |  109   |\n",
      "+----+--------+\n",
      "[? rows x 2 columns]\n",
      "Note: Only the head of the XFrame is printed. This XFrame is lazily \n",
      "evaluated.  You can use len(xf) to force materialization.\n"
     ]
    }
   ],
   "source": [
    "print xf[['id', 'charge']]"
   ]
  },
  {
   "cell_type": "markdown",
   "metadata": {},
   "source": [
    "The XFrame can be modified by removing a column."
   ]
  },
  {
   "cell_type": "code",
   "execution_count": 46,
   "metadata": {
    "collapsed": false
   },
   "outputs": [
    {
     "name": "stdout",
     "output_type": "stream",
     "text": [
      "+----+-------+\n",
      "| id | score |\n",
      "+----+-------+\n",
      "| 0  |   10  |\n",
      "| 1  |   11  |\n",
      "| 2  |   12  |\n",
      "+----+-------+\n",
      "[10 rows x 2 columns]\n",
      "\n"
     ]
    }
   ],
   "source": [
    "xf.remove_column('charge')\n",
    "xf.print_rows(num_rows=3)"
   ]
  },
  {
   "cell_type": "markdown",
   "metadata": {},
   "source": [
    "## Row Filters"
   ]
  },
  {
   "cell_type": "markdown",
   "metadata": {},
   "source": [
    "There are several ways to filter rows from an XArray.\n",
    "\n",
    "The table can be indexed by a boolean array, produced through column arithmetic."
   ]
  },
  {
   "cell_type": "code",
   "execution_count": 47,
   "metadata": {
    "collapsed": false
   },
   "outputs": [
    {
     "name": "stdout",
     "output_type": "stream",
     "text": [
      "+--------+----+-------+\n",
      "| charge | id | score |\n",
      "+--------+----+-------+\n",
      "|  100   | 0  |   10  |\n",
      "|  101   | 1  |   11  |\n",
      "|  102   | 2  |   12  |\n",
      "|  103   | 3  |   13  |\n",
      "|  104   | 4  |   14  |\n",
      "|  105   | 5  |   15  |\n",
      "|  106   | 6  |   16  |\n",
      "|  107   | 7  |   17  |\n",
      "|  108   | 8  |   18  |\n",
      "|  109   | 9  |   19  |\n",
      "+--------+----+-------+\n",
      "[? rows x 3 columns]\n",
      "Note: Only the head of the XFrame is printed. This XFrame is lazily \n",
      "evaluated.  You can use len(xf) to force materialization.\n"
     ]
    }
   ],
   "source": [
    "xf = XFrame({'id': range(0, 10), 'score': range(10, 20), 'charge': range(100,110)})\n",
    "print xf"
   ]
  },
  {
   "cell_type": "code",
   "execution_count": 48,
   "metadata": {
    "collapsed": false
   },
   "outputs": [
    {
     "name": "stdout",
     "output_type": "stream",
     "text": [
      "+--------+----+-------+\n",
      "| charge | id | score |\n",
      "+--------+----+-------+\n",
      "|  105   | 5  |   15  |\n",
      "|  106   | 6  |   16  |\n",
      "|  107   | 7  |   17  |\n",
      "|  108   | 8  |   18  |\n",
      "|  109   | 9  |   19  |\n",
      "+--------+----+-------+\n",
      "[? rows x 3 columns]\n",
      "Note: Only the head of the XFrame is printed. This XFrame is lazily \n",
      "evaluated.  You can use len(xf) to force materialization.\n"
     ]
    }
   ],
   "source": [
    "print xf[xf['id'] > 4]"
   ]
  },
  {
   "cell_type": "code",
   "execution_count": 49,
   "metadata": {
    "collapsed": false
   },
   "outputs": [
    {
     "name": "stdout",
     "output_type": "stream",
     "text": [
      "+--------+----+-------+\n",
      "| charge | id | score |\n",
      "+--------+----+-------+\n",
      "|  105   | 5  |   15  |\n",
      "|  106   | 6  |   16  |\n",
      "|  107   | 7  |   17  |\n",
      "+--------+----+-------+\n",
      "[? rows x 3 columns]\n",
      "Note: Only the head of the XFrame is printed. This XFrame is lazily \n",
      "evaluated.  You can use len(xf) to force materialization.\n"
     ]
    }
   ],
   "source": [
    "print xf[(xf.id > 4) & (xf.score <= 17)]"
   ]
  },
  {
   "cell_type": "markdown",
   "metadata": {},
   "source": [
    "Alternatively, rows can be filtered by a set of values in a given column.\n",
    "\n",
    "This works, even for very large numbers of matching values, given in an XArray.\n",
    "\n",
    "The filter can exclude as well as match."
   ]
  },
  {
   "cell_type": "code",
   "execution_count": 50,
   "metadata": {
    "collapsed": false
   },
   "outputs": [
    {
     "name": "stdout",
     "output_type": "stream",
     "text": [
      "+--------+----+-------+\n",
      "| charge | id | score |\n",
      "+--------+----+-------+\n",
      "|  103   | 3  |   13  |\n",
      "+--------+----+-------+\n",
      "[? rows x 3 columns]\n",
      "Note: Only the head of the XFrame is printed. This XFrame is lazily \n",
      "evaluated.  You can use len(xf) to force materialization.\n",
      "+--------+----+-------+\n",
      "| charge | id | score |\n",
      "+--------+----+-------+\n",
      "|  104   | 4  |   14  |\n",
      "|  105   | 5  |   15  |\n",
      "|  102   | 2  |   12  |\n",
      "+--------+----+-------+\n",
      "[? rows x 3 columns]\n",
      "Note: Only the head of the XFrame is printed. This XFrame is lazily \n",
      "evaluated.  You can use len(xf) to force materialization.\n"
     ]
    }
   ],
   "source": [
    "print xf.filterby(3, 'id')\n",
    "print xf.filterby([2, 4, 5], 'id')"
   ]
  },
  {
   "cell_type": "code",
   "execution_count": 51,
   "metadata": {
    "collapsed": false
   },
   "outputs": [
    {
     "name": "stdout",
     "output_type": "stream",
     "text": [
      "+--------+----+-------+\n",
      "| charge | id | score |\n",
      "+--------+----+-------+\n",
      "|  106   | 6  |   16  |\n",
      "|  107   | 7  |   17  |\n",
      "|  104   | 4  |   14  |\n",
      "|  102   | 2  |   12  |\n",
      "+--------+----+-------+\n",
      "[? rows x 3 columns]\n",
      "Note: Only the head of the XFrame is printed. This XFrame is lazily \n",
      "evaluated.  You can use len(xf) to force materialization.\n"
     ]
    }
   ],
   "source": [
    "xa = XArray([2, 4, 6, 7])\n",
    "print xf.filterby(xa, 'id')"
   ]
  },
  {
   "cell_type": "code",
   "execution_count": 52,
   "metadata": {
    "collapsed": false
   },
   "outputs": [
    {
     "name": "stdout",
     "output_type": "stream",
     "text": [
      "+--------+----+-------+\n",
      "| charge | id | score |\n",
      "+--------+----+-------+\n",
      "|  108   | 8  |   18  |\n",
      "|  109   | 9  |   19  |\n",
      "|  105   | 5  |   15  |\n",
      "|  103   | 3  |   13  |\n",
      "|  100   | 0  |   10  |\n",
      "|  101   | 1  |   11  |\n",
      "+--------+----+-------+\n",
      "[? rows x 3 columns]\n",
      "Note: Only the head of the XFrame is printed. This XFrame is lazily \n",
      "evaluated.  You can use len(xf) to force materialization.\n"
     ]
    }
   ],
   "source": [
    "print xf.filterby(xa, 'id', exclude=True)"
   ]
  },
  {
   "cell_type": "markdown",
   "metadata": {},
   "source": [
    "Finally, the beginning or ed of the XFrame can be extracted."
   ]
  },
  {
   "cell_type": "code",
   "execution_count": 53,
   "metadata": {
    "collapsed": false
   },
   "outputs": [
    {
     "name": "stdout",
     "output_type": "stream",
     "text": [
      "+--------+----+-------+\n",
      "| charge | id | score |\n",
      "+--------+----+-------+\n",
      "|  100   | 0  |   10  |\n",
      "|  101   | 1  |   11  |\n",
      "+--------+----+-------+\n",
      "[? rows x 3 columns]\n",
      "Note: Only the head of the XFrame is printed. This XFrame is lazily \n",
      "evaluated.  You can use len(xf) to force materialization.\n",
      "+--------+----+-------+\n",
      "| charge | id | score |\n",
      "+--------+----+-------+\n",
      "|  108   | 8  |   18  |\n",
      "|  109   | 9  |   19  |\n",
      "+--------+----+-------+\n",
      "[? rows x 3 columns]\n",
      "Note: Only the head of the XFrame is printed. This XFrame is lazily \n",
      "evaluated.  You can use len(xf) to force materialization.\n"
     ]
    }
   ],
   "source": [
    "print xf.head(2)\n",
    "print xf.tail(2)"
   ]
  },
  {
   "cell_type": "markdown",
   "metadata": {},
   "source": [
    "## XArray Transformation"
   ]
  },
  {
   "cell_type": "markdown",
   "metadata": {},
   "source": [
    "A transformation function can be applied to a column or to the table row.  \n",
    "\n",
    "In either case, the function returns a single value, which is collected into an XArray.  This is usually stored in a new column, or used to overwrite an existing column.\n",
    "\n",
    "When transforming a row, the function receives the row as a dictionary of column name/value pairs."
   ]
  },
  {
   "cell_type": "code",
   "execution_count": 54,
   "metadata": {
    "collapsed": false
   },
   "outputs": [],
   "source": [
    "xf = XFrame({'id': range(0, 10), 'score': range(10, 20), 'charge': range(100,110)})"
   ]
  },
  {
   "cell_type": "code",
   "execution_count": 55,
   "metadata": {
    "collapsed": false
   },
   "outputs": [
    {
     "name": "stdout",
     "output_type": "stream",
     "text": [
      "+--------+----+-------+---------------+\n",
      "| charge | id | score |      sqrt     |\n",
      "+--------+----+-------+---------------+\n",
      "|  100   | 0  |   10  | 3.16227766017 |\n",
      "|  101   | 1  |   11  | 3.31662479036 |\n",
      "|  102   | 2  |   12  | 3.46410161514 |\n",
      "|  103   | 3  |   13  | 3.60555127546 |\n",
      "|  104   | 4  |   14  | 3.74165738677 |\n",
      "|  105   | 5  |   15  | 3.87298334621 |\n",
      "|  106   | 6  |   16  |      4.0      |\n",
      "|  107   | 7  |   17  | 4.12310562562 |\n",
      "|  108   | 8  |   18  | 4.24264068712 |\n",
      "|  109   | 9  |   19  | 4.35889894354 |\n",
      "+--------+----+-------+---------------+\n",
      "[? rows x 4 columns]\n",
      "Note: Only the head of the XFrame is printed. This XFrame is lazily \n",
      "evaluated.  You can use len(xf) to force materialization.\n"
     ]
    }
   ],
   "source": [
    "from math import sqrt\n",
    "xf.sqrt = xf.score.apply(lambda x: sqrt(x))\n",
    "print xf"
   ]
  },
  {
   "cell_type": "code",
   "execution_count": 56,
   "metadata": {
    "collapsed": false
   },
   "outputs": [
    {
     "name": "stdout",
     "output_type": "stream",
     "text": [
      "[100, 100, 100, 100, 100, 100, 100, 100, 100, 100]\n"
     ]
    }
   ],
   "source": [
    "print xf.apply(lambda row: row['charge'] - row['id'])"
   ]
  },
  {
   "cell_type": "markdown",
   "metadata": {},
   "source": [
    "## Other Useful Transformations -- Pack and Stack"
   ]
  },
  {
   "cell_type": "markdown",
   "metadata": {},
   "source": [
    "Packing is transforming multiple columns into a single column by combining them into a dictionary or list.\n",
    "\n",
    "Unpacking transforms a list or dictionary in a column into multiple columns.\n",
    "\n",
    "Stacking takes values in a list or dictionary and puts them in multiple rows.\n",
    "\n",
    "Unstacking takes multiple rows into a dictiary or list in one row.\n",
    "\n",
    "These are rarely used but when they are needed they are vital.  They are useful when operating on aggregated data produced by groupby.  For instance, these were used in detecting fuzzy duplicates and hospital readmissions."
   ]
  },
  {
   "cell_type": "markdown",
   "metadata": {},
   "source": [
    "## Missing Values"
   ]
  },
  {
   "cell_type": "code",
   "execution_count": 57,
   "metadata": {
    "collapsed": false
   },
   "outputs": [
    {
     "name": "stdout",
     "output_type": "stream",
     "text": [
      "+----+---------+----------+\n",
      "| id |   name  |  scores  |\n",
      "+----+---------+----------+\n",
      "| 1  | charlie | [90, 80] |\n",
      "| 2  |   joe   |   None   |\n",
      "| 3  |  jason  | [95, 99] |\n",
      "+----+---------+----------+\n",
      "[? rows x 3 columns]\n",
      "Note: Only the head of the XFrame is printed. This XFrame is lazily \n",
      "evaluated.  You can use len(xf) to force materialization.\n"
     ]
    }
   ],
   "source": [
    "xf = XFrame({'id': [1, 2, 3], 'name': ['charlie', 'joe', 'jason'], 'scores': [[90, 80], None, [95, 99]]})\n",
    "print xf"
   ]
  },
  {
   "cell_type": "code",
   "execution_count": 58,
   "metadata": {
    "collapsed": false
   },
   "outputs": [
    {
     "name": "stdout",
     "output_type": "stream",
     "text": [
      "+----+---------+----------+\n",
      "| id |   name  |  scores  |\n",
      "+----+---------+----------+\n",
      "| 1  | charlie | [90, 80] |\n",
      "| 3  |  jason  | [95, 99] |\n",
      "+----+---------+----------+\n",
      "[? rows x 3 columns]\n",
      "Note: Only the head of the XFrame is printed. This XFrame is lazily \n",
      "evaluated.  You can use len(xf) to force materialization.\n"
     ]
    }
   ],
   "source": [
    "print xf.dropna()"
   ]
  },
  {
   "cell_type": "code",
   "execution_count": 59,
   "metadata": {
    "collapsed": false
   },
   "outputs": [
    {
     "name": "stdout",
     "output_type": "stream",
     "text": [
      "+----+---------+----------+\n",
      "| id |   name  |  scores  |\n",
      "+----+---------+----------+\n",
      "| 1  | charlie | [90, 80] |\n",
      "| 2  |   joe   |    []    |\n",
      "| 3  |  jason  | [95, 99] |\n",
      "+----+---------+----------+\n",
      "[? rows x 3 columns]\n",
      "Note: Only the head of the XFrame is printed. This XFrame is lazily \n",
      "evaluated.  You can use len(xf) to force materialization.\n"
     ]
    }
   ],
   "source": [
    "print xf.fillna('scores', [])"
   ]
  },
  {
   "cell_type": "code",
   "execution_count": 60,
   "metadata": {
    "collapsed": false
   },
   "outputs": [
    {
     "name": "stdout",
     "output_type": "stream",
     "text": [
      "+----+---------+----------+\n",
      "| id |   name  |  scores  |\n",
      "+----+---------+----------+\n",
      "| 1  | charlie | [90, 80] |\n",
      "| 3  |  jason  | [95, 99] |\n",
      "+----+---------+----------+\n",
      "[? rows x 3 columns]\n",
      "Note: Only the head of the XFrame is printed. This XFrame is lazily \n",
      "evaluated.  You can use len(xf) to force materialization.\n",
      "+----+------+--------+\n",
      "| id | name | scores |\n",
      "+----+------+--------+\n",
      "| 2  | joe  |  None  |\n",
      "+----+------+--------+\n",
      "[? rows x 3 columns]\n",
      "Note: Only the head of the XFrame is printed. This XFrame is lazily \n",
      "evaluated.  You can use len(xf) to force materialization.\n"
     ]
    }
   ],
   "source": [
    "ok, missing = xf.dropna_split()\n",
    "print ok\n",
    "print missing"
   ]
  },
  {
   "cell_type": "markdown",
   "metadata": {},
   "source": [
    "## Other Transformations"
   ]
  },
  {
   "cell_type": "markdown",
   "metadata": {},
   "source": [
    "Add a row number to an XArray, optionally giving the column name."
   ]
  },
  {
   "cell_type": "code",
   "execution_count": 61,
   "metadata": {
    "collapsed": false
   },
   "outputs": [
    {
     "name": "stdout",
     "output_type": "stream",
     "text": [
      "+---------+----------+\n",
      "|   name  |  scores  |\n",
      "+---------+----------+\n",
      "| charlie | [90, 80] |\n",
      "|   joe   |   None   |\n",
      "|  jason  | [95, 99] |\n",
      "+---------+----------+\n",
      "[? rows x 2 columns]\n",
      "Note: Only the head of the XFrame is printed. This XFrame is lazily \n",
      "evaluated.  You can use len(xf) to force materialization.\n"
     ]
    }
   ],
   "source": [
    "xf = XFrame({'name': ['charlie', 'joe', 'jason'], 'scores': [[90, 80], None, [95, 99]]})\n",
    "print xf"
   ]
  },
  {
   "cell_type": "code",
   "execution_count": 62,
   "metadata": {
    "collapsed": false
   },
   "outputs": [
    {
     "name": "stdout",
     "output_type": "stream",
     "text": [
      "+----+---------+----------+\n",
      "| id |   name  |  scores  |\n",
      "+----+---------+----------+\n",
      "| 0  | charlie | [90, 80] |\n",
      "| 1  |   joe   |   None   |\n",
      "| 2  |  jason  | [95, 99] |\n",
      "+----+---------+----------+\n",
      "[? rows x 3 columns]\n",
      "Note: Only the head of the XFrame is printed. This XFrame is lazily \n",
      "evaluated.  You can use len(xf) to force materialization.\n"
     ]
    }
   ],
   "source": [
    "print xf.add_row_number()"
   ]
  },
  {
   "cell_type": "code",
   "execution_count": 63,
   "metadata": {
    "collapsed": false
   },
   "outputs": [
    {
     "name": "stdout",
     "output_type": "stream",
     "text": [
      "+---------+----------+\n",
      "|   name  |  scores  |\n",
      "+---------+----------+\n",
      "| charlie | [90, 80] |\n",
      "|   joe   |   None   |\n",
      "+---------+----------+\n",
      "[? rows x 2 columns]\n",
      "Note: Only the head of the XFrame is printed. This XFrame is lazily \n",
      "evaluated.  You can use len(xf) to force materialization.\n",
      "+-------+----------+\n",
      "|  name |  scores  |\n",
      "+-------+----------+\n",
      "| jason | [95, 99] |\n",
      "+-------+----------+\n",
      "[? rows x 2 columns]\n",
      "Note: Only the head of the XFrame is printed. This XFrame is lazily \n",
      "evaluated.  You can use len(xf) to force materialization.\n"
     ]
    }
   ],
   "source": [
    "xf1 = XFrame({'name': ['charlie', 'joe'], 'scores': [[90, 80], None]})\n",
    "xf2 = XFrame({'name': ['jason'], 'scores': [[95, 99]]})\n",
    "print xf1\n",
    "print xf2"
   ]
  },
  {
   "cell_type": "code",
   "execution_count": 64,
   "metadata": {
    "collapsed": false
   },
   "outputs": [
    {
     "name": "stdout",
     "output_type": "stream",
     "text": [
      "+---------+----------+\n",
      "|   name  |  scores  |\n",
      "+---------+----------+\n",
      "| charlie | [90, 80] |\n",
      "|   joe   |   None   |\n",
      "|  jason  | [95, 99] |\n",
      "+---------+----------+\n",
      "[? rows x 2 columns]\n",
      "Note: Only the head of the XFrame is printed. This XFrame is lazily \n",
      "evaluated.  You can use len(xf) to force materialization.\n"
     ]
    }
   ],
   "source": [
    "print xf1.append(xf2)"
   ]
  },
  {
   "cell_type": "markdown",
   "metadata": {},
   "source": [
    "## Sort and Unique"
   ]
  },
  {
   "cell_type": "code",
   "execution_count": 65,
   "metadata": {
    "collapsed": false
   },
   "outputs": [
    {
     "name": "stdout",
     "output_type": "stream",
     "text": [
      "+----+-----+\n",
      "| id | val |\n",
      "+----+-----+\n",
      "| 0  |  0  |\n",
      "| 1  |  0  |\n",
      "| 2  |  1  |\n",
      "| 3  |  1  |\n",
      "| 4  |  2  |\n",
      "| 5  |  2  |\n",
      "| 6  |  3  |\n",
      "| 7  |  3  |\n",
      "| 8  |  4  |\n",
      "| 9  |  4  |\n",
      "+----+-----+\n",
      "[? rows x 2 columns]\n",
      "Note: Only the head of the XFrame is printed. This XFrame is lazily \n",
      "evaluated.  You can use len(xf) to force materialization.\n"
     ]
    }
   ],
   "source": [
    "xf = XFrame({'id': range(10)})\n",
    "xf.val = xf.id/2\n",
    "print xf"
   ]
  },
  {
   "cell_type": "code",
   "execution_count": 66,
   "metadata": {
    "collapsed": false
   },
   "outputs": [
    {
     "name": "stdout",
     "output_type": "stream",
     "text": [
      "+----+-----+\n",
      "| id | val |\n",
      "+----+-----+\n",
      "| 0  |  0  |\n",
      "| 1  |  0  |\n",
      "| 2  |  1  |\n",
      "| 3  |  1  |\n",
      "| 4  |  2  |\n",
      "| 5  |  2  |\n",
      "| 6  |  3  |\n",
      "| 7  |  3  |\n",
      "| 8  |  4  |\n",
      "| 9  |  4  |\n",
      "+----+-----+\n",
      "[? rows x 2 columns]\n",
      "Note: Only the head of the XFrame is printed. This XFrame is lazily \n",
      "evaluated.  You can use len(xf) to force materialization.\n",
      "+----+-----+\n",
      "| id | val |\n",
      "+----+-----+\n",
      "| 8  |  4  |\n",
      "| 9  |  4  |\n",
      "| 6  |  3  |\n",
      "| 7  |  3  |\n",
      "| 4  |  2  |\n",
      "| 5  |  2  |\n",
      "| 2  |  1  |\n",
      "| 3  |  1  |\n",
      "| 0  |  0  |\n",
      "| 1  |  0  |\n",
      "+----+-----+\n",
      "[? rows x 2 columns]\n",
      "Note: Only the head of the XFrame is printed. This XFrame is lazily \n",
      "evaluated.  You can use len(xf) to force materialization.\n",
      "+----+-----+\n",
      "| id | val |\n",
      "+----+-----+\n",
      "| 9  |  4  |\n",
      "| 8  |  4  |\n",
      "| 7  |  3  |\n",
      "| 6  |  3  |\n",
      "| 5  |  2  |\n",
      "| 4  |  2  |\n",
      "| 3  |  1  |\n",
      "| 2  |  1  |\n",
      "| 1  |  0  |\n",
      "| 0  |  0  |\n",
      "+----+-----+\n",
      "[? rows x 2 columns]\n",
      "Note: Only the head of the XFrame is printed. This XFrame is lazily \n",
      "evaluated.  You can use len(xf) to force materialization.\n"
     ]
    }
   ],
   "source": [
    "print xf.sort('val')\n",
    "print xf.sort('val', ascending=False)\n",
    "print xf.sort(['val', 'id'], ascending=False)"
   ]
  },
  {
   "cell_type": "markdown",
   "metadata": {},
   "source": [
    "Sometimes all we need is a list of the largest (or smallest) values in a column."
   ]
  },
  {
   "cell_type": "code",
   "execution_count": 67,
   "metadata": {
    "collapsed": false
   },
   "outputs": [
    {
     "name": "stdout",
     "output_type": "stream",
     "text": [
      "topk k 3\n",
      "topk self +----+-----+\n",
      "| id | val |\n",
      "+----+-----+\n",
      "| 0  |  0  |\n",
      "| 1  |  0  |\n",
      "| 2  |  1  |\n",
      "| 3  |  1  |\n",
      "| 4  |  2  |\n",
      "| 5  |  2  |\n",
      "| 6  |  3  |\n",
      "| 7  |  3  |\n",
      "| 8  |  4  |\n",
      "| 9  |  4  |\n",
      "+----+-----+\n",
      "[? rows x 2 columns]\n",
      "Note: Only the head of the XFrame is printed. This XFrame is lazily \n",
      "evaluated.  You can use len(xf) to force materialization.\n",
      "[0, 1, 2, 3, 4, 5, 6, 7, 8, 9]\n",
      "+----+-----+\n",
      "| id | val |\n",
      "+----+-----+\n",
      "| 9  |  4  |\n",
      "| 8  |  4  |\n",
      "| 7  |  3  |\n",
      "+----+-----+\n",
      "[? rows x 2 columns]\n",
      "Note: Only the head of the XFrame is printed. This XFrame is lazily \n",
      "evaluated.  You can use len(xf) to force materialization.\n",
      "topk k 3\n",
      "topk self +----+-----+\n",
      "| id | val |\n",
      "+----+-----+\n",
      "| 0  |  0  |\n",
      "| 1  |  0  |\n",
      "| 2  |  1  |\n",
      "| 3  |  1  |\n",
      "| 4  |  2  |\n",
      "| 5  |  2  |\n",
      "| 6  |  3  |\n",
      "| 7  |  3  |\n",
      "| 8  |  4  |\n",
      "| 9  |  4  |\n",
      "+----+-----+\n",
      "[? rows x 2 columns]\n",
      "Note: Only the head of the XFrame is printed. This XFrame is lazily \n",
      "evaluated.  You can use len(xf) to force materialization.\n",
      "[0, 1, 2, 3, 4, 5, 6, 7, 8, 9]\n",
      "+----+-----+\n",
      "| id | val |\n",
      "+----+-----+\n",
      "| 0  |  0  |\n",
      "| 1  |  0  |\n",
      "| 2  |  1  |\n",
      "+----+-----+\n",
      "[? rows x 2 columns]\n",
      "Note: Only the head of the XFrame is printed. This XFrame is lazily \n",
      "evaluated.  You can use len(xf) to force materialization.\n"
     ]
    }
   ],
   "source": [
    "print xf.topk('id', k=3)\n",
    "print xf.topk('id', reverse=True, k=3)"
   ]
  },
  {
   "cell_type": "markdown",
   "metadata": {},
   "source": [
    "To get an XArray of the unique values in a given column, use 'unique'."
   ]
  },
  {
   "cell_type": "code",
   "execution_count": 68,
   "metadata": {
    "collapsed": false
   },
   "outputs": [
    {
     "name": "stdout",
     "output_type": "stream",
     "text": [
      "[0, 1, 2, 3, 4]\n"
     ]
    }
   ],
   "source": [
    "print xf.val.unique()"
   ]
  },
  {
   "cell_type": "markdown",
   "metadata": {},
   "source": [
    "## Aggregation"
   ]
  },
  {
   "cell_type": "markdown",
   "metadata": {},
   "source": [
    "Building on the unique example above, we might want to find how many rows were associated with each unique value.  Furthermore, we might need to collect, or average, or do some other operation on all the elements in the group of rows associated with each unique value."
   ]
  },
  {
   "cell_type": "code",
   "execution_count": 69,
   "metadata": {
    "collapsed": false
   },
   "outputs": [
    {
     "name": "stdout",
     "output_type": "stream",
     "text": [
      "+----+-----+\n",
      "| id | val |\n",
      "+----+-----+\n",
      "| 0  |  0  |\n",
      "| 1  |  0  |\n",
      "| 2  |  1  |\n",
      "| 3  |  1  |\n",
      "| 4  |  2  |\n",
      "| 5  |  2  |\n",
      "| 6  |  3  |\n",
      "| 7  |  3  |\n",
      "| 8  |  4  |\n",
      "| 9  |  4  |\n",
      "+----+-----+\n",
      "[? rows x 2 columns]\n",
      "Note: Only the head of the XFrame is printed. This XFrame is lazily \n",
      "evaluated.  You can use len(xf) to force materialization.\n"
     ]
    }
   ],
   "source": [
    "xf = XFrame({'id': range(10)})\n",
    "xf.val = xf.id/2\n",
    "print xf"
   ]
  },
  {
   "cell_type": "code",
   "execution_count": 70,
   "metadata": {
    "collapsed": false
   },
   "outputs": [
    {
     "name": "stdout",
     "output_type": "stream",
     "text": [
      "+-----+-------+\n",
      "| val | count |\n",
      "+-----+-------+\n",
      "|  3  |   2   |\n",
      "|  4  |   2   |\n",
      "|  0  |   2   |\n",
      "|  1  |   2   |\n",
      "|  2  |   2   |\n",
      "+-----+-------+\n",
      "[? rows x 2 columns]\n",
      "Note: Only the head of the XFrame is printed. This XFrame is lazily \n",
      "evaluated.  You can use len(xf) to force materialization.\n"
     ]
    }
   ],
   "source": [
    "print xf.groupby('val', COUNT)"
   ]
  },
  {
   "cell_type": "markdown",
   "metadata": {},
   "source": [
    "You can name the aggregate column.  If you don't, a reasonable name is supplied, as above."
   ]
  },
  {
   "cell_type": "code",
   "execution_count": 71,
   "metadata": {
    "collapsed": false
   },
   "outputs": [
    {
     "name": "stdout",
     "output_type": "stream",
     "text": [
      "+-----+--------+\n",
      "| val | number |\n",
      "+-----+--------+\n",
      "|  3  |   2    |\n",
      "|  4  |   2    |\n",
      "|  0  |   2    |\n",
      "|  1  |   2    |\n",
      "|  2  |   2    |\n",
      "+-----+--------+\n",
      "[? rows x 2 columns]\n",
      "Note: Only the head of the XFrame is printed. This XFrame is lazily \n",
      "evaluated.  You can use len(xf) to force materialization.\n"
     ]
    }
   ],
   "source": [
    "print xf.groupby('val', {'number': COUNT})"
   ]
  },
  {
   "cell_type": "markdown",
   "metadata": {},
   "source": [
    "You can create multiple aggregates in one call to groupby.  Some aggregate functions have column name arguments."
   ]
  },
  {
   "cell_type": "code",
   "execution_count": 72,
   "metadata": {
    "collapsed": false
   },
   "outputs": [
    {
     "name": "stdout",
     "output_type": "stream",
     "text": [
      "+-----+-----+--------+\n",
      "| val | avg | number |\n",
      "+-----+-----+--------+\n",
      "|  3  | 6.5 |   2    |\n",
      "|  4  | 8.5 |   2    |\n",
      "|  0  | 0.5 |   2    |\n",
      "|  1  | 2.5 |   2    |\n",
      "|  2  | 4.5 |   2    |\n",
      "+-----+-----+--------+\n",
      "[? rows x 3 columns]\n",
      "Note: Only the head of the XFrame is printed. This XFrame is lazily \n",
      "evaluated.  You can use len(xf) to force materialization.\n"
     ]
    }
   ],
   "source": [
    "print xf.groupby('val', {'number': COUNT, 'avg': AVG('id')})"
   ]
  },
  {
   "cell_type": "markdown",
   "metadata": {},
   "source": [
    "Concatenation is very useful, because you can  do further processing on the new value.  Hospital readmissions starts this way, grouping on the readmission criteria and concatenating the discharge and admission dates.  The concatenated field is often expanded into multiple rows after processing using 'stack'."
   ]
  },
  {
   "cell_type": "code",
   "execution_count": 73,
   "metadata": {
    "collapsed": false
   },
   "outputs": [
    {
     "name": "stdout",
     "output_type": "stream",
     "text": [
      "+-----+-----+--------+--------+\n",
      "| val | avg | number |  ids   |\n",
      "+-----+-----+--------+--------+\n",
      "|  3  | 6.5 |   2    | [6, 7] |\n",
      "|  4  | 8.5 |   2    | [8, 9] |\n",
      "|  0  | 0.5 |   2    | [0, 1] |\n",
      "|  1  | 2.5 |   2    | [2, 3] |\n",
      "|  2  | 4.5 |   2    | [4, 5] |\n",
      "+-----+-----+--------+--------+\n",
      "[? rows x 4 columns]\n",
      "Note: Only the head of the XFrame is printed. This XFrame is lazily \n",
      "evaluated.  You can use len(xf) to force materialization.\n"
     ]
    }
   ],
   "source": [
    "print xf.groupby('val', {'number': COUNT, 'ids': CONCAT('id'), 'avg': AVG('id')})"
   ]
  },
  {
   "cell_type": "markdown",
   "metadata": {},
   "source": [
    "## Joining Tables"
   ]
  },
  {
   "cell_type": "markdown",
   "metadata": {},
   "source": [
    "Join builds on groupby by combining rows of different tables that share a common value."
   ]
  },
  {
   "cell_type": "code",
   "execution_count": 74,
   "metadata": {
    "collapsed": false
   },
   "outputs": [
    {
     "name": "stdout",
     "output_type": "stream",
     "text": [
      "+---------+---------+\n",
      "|   name  | user_id |\n",
      "+---------+---------+\n",
      "| charlie |    1    |\n",
      "|   joe   |    2    |\n",
      "|  jason  |    3    |\n",
      "+---------+---------+\n",
      "[? rows x 2 columns]\n",
      "Note: Only the head of the XFrame is printed. This XFrame is lazily \n",
      "evaluated.  You can use len(xf) to force materialization.\n",
      "+-------+---------+\n",
      "| score | user_id |\n",
      "+-------+---------+\n",
      "|   90  |    1    |\n",
      "|   80  |    1    |\n",
      "|   95  |    3    |\n",
      "+-------+---------+\n",
      "[? rows x 2 columns]\n",
      "Note: Only the head of the XFrame is printed. This XFrame is lazily \n",
      "evaluated.  You can use len(xf) to force materialization.\n"
     ]
    }
   ],
   "source": [
    "users = XFrame({'user_id':  [1, 2, 3], 'name': ['charlie', 'joe', 'jason']})\n",
    "scores = XFrame({'user_id': [1, 1, 3], 'score': [90, 80, 95]})\n",
    "print users\n",
    "print scores"
   ]
  },
  {
   "cell_type": "code",
   "execution_count": 75,
   "metadata": {
    "collapsed": false
   },
   "outputs": [
    {
     "name": "stdout",
     "output_type": "stream",
     "text": [
      "+---------+---------+-------+\n",
      "|   name  | user_id | score |\n",
      "+---------+---------+-------+\n",
      "|  jason  |    3    |   95  |\n",
      "| charlie |    1    |   90  |\n",
      "| charlie |    1    |   80  |\n",
      "+---------+---------+-------+\n",
      "[? rows x 3 columns]\n",
      "Note: Only the head of the XFrame is printed. This XFrame is lazily \n",
      "evaluated.  You can use len(xf) to force materialization.\n"
     ]
    }
   ],
   "source": [
    "print users.join(scores)"
   ]
  },
  {
   "cell_type": "markdown",
   "metadata": {},
   "source": [
    "If the column names in the tables differ, then they can be supplied explicitly.  Otherwise, the join takes place on all common columns."
   ]
  },
  {
   "cell_type": "code",
   "execution_count": 76,
   "metadata": {
    "collapsed": false
   },
   "outputs": [
    {
     "name": "stdout",
     "output_type": "stream",
     "text": [
      "+---------+------+-------+\n",
      "|   name  | user | score |\n",
      "+---------+------+-------+\n",
      "|  jason  |  3   |   95  |\n",
      "| charlie |  1   |   90  |\n",
      "| charlie |  1   |   80  |\n",
      "+---------+------+-------+\n",
      "[? rows x 3 columns]\n",
      "Note: Only the head of the XFrame is printed. This XFrame is lazily \n",
      "evaluated.  You can use len(xf) to force materialization.\n"
     ]
    }
   ],
   "source": [
    "users = XFrame({'user':  [1, 2, 3], 'name': ['charlie', 'joe', 'jason']})\n",
    "scores = XFrame({'user_id': [1, 1, 3], 'score': [90, 80, 95]})\n",
    "print users.join(scores, on={'user': 'user_id'})"
   ]
  },
  {
   "cell_type": "markdown",
   "metadata": {},
   "source": [
    "Other join options:\n",
    "* Multiple column join keys: users.join(socres, [user_id', 'semester'])\n",
    "* Other join types: users.join(scores, how='right')"
   ]
  },
  {
   "cell_type": "markdown",
   "metadata": {},
   "source": [
    "## Column Summary Information -- Sketch"
   ]
  },
  {
   "cell_type": "markdown",
   "metadata": {},
   "source": [
    "A *Sketch* contains summary information about a column.  This includes statistics like the number of items, the min and the max.\n",
    "For numerical columns, the sketch also include statistics such as the sum, mean and standard deviation.\n",
    "\n",
    "The sketch also includes information that is computed approximately.  This includes quantile information and occurrence counts for the most frequently occurring items.  These approximations are created in bounded space efficiently on a distributed cluster."
   ]
  },
  {
   "cell_type": "code",
   "execution_count": 77,
   "metadata": {
    "collapsed": false
   },
   "outputs": [],
   "source": [
    "xa = XArray([2, 2, 3, 4, 4, 4, 5])"
   ]
  },
  {
   "cell_type": "code",
   "execution_count": 78,
   "metadata": {
    "collapsed": false
   },
   "outputs": [
    {
     "name": "stdout",
     "output_type": "stream",
     "text": [
      "7\n",
      "2.0 5.0\n",
      "1.04978131834\n"
     ]
    }
   ],
   "source": [
    "ss = xa.sketch_summary()\n",
    "print ss.size()\n",
    "print ss.min(),  ss.max()\n",
    "print ss.std()"
   ]
  },
  {
   "cell_type": "code",
   "execution_count": 79,
   "metadata": {
    "collapsed": false
   },
   "outputs": [
    {
     "name": "stdout",
     "output_type": "stream",
     "text": [
      "3.99969482422\n"
     ]
    }
   ],
   "source": [
    "print ss.quantile(0.5)"
   ]
  },
  {
   "cell_type": "code",
   "execution_count": 80,
   "metadata": {
    "collapsed": false
   },
   "outputs": [
    {
     "name": "stdout",
     "output_type": "stream",
     "text": [
      "{2: 2, 3: 1, 4: 3, 5: 1}\n",
      "2\n"
     ]
    }
   ],
   "source": [
    "print ss.frequent_items()\n",
    "print ss.frequency_count(2)"
   ]
  },
  {
   "cell_type": "markdown",
   "metadata": {},
   "source": [
    "## Plotting"
   ]
  },
  {
   "cell_type": "markdown",
   "metadata": {},
   "source": [
    "In general, plotting is best left to the application.  Matplotlib provides a wealth of plot types and options, and the data has to be brought into python on the master to plot anyway.  \n",
    "\n",
    "With this in mind, XFrames plotting is limited to plots that help to understand the general characteristics of the data.  This includes plotting a histogram of values in a numerical column, and a frequent-values plot for categorical data."
   ]
  },
  {
   "cell_type": "code",
   "execution_count": 81,
   "metadata": {
    "collapsed": false
   },
   "outputs": [],
   "source": [
    "xf = XFrame('scores.csv')"
   ]
  },
  {
   "cell_type": "code",
   "execution_count": 82,
   "metadata": {
    "collapsed": false
   },
   "outputs": [
    {
     "data": {
      "image/png": "[encoded data removed]",
      "text/plain": [
       "<matplotlib.figure.Figure at 0x5a779d0>"
      ]
     },
     "metadata": {},
     "output_type": "display_data"
    }
   ],
   "source": [
    "xf.show().histogram('score')"
   ]
  },
  {
   "cell_type": "markdown",
   "metadata": {},
   "source": [
    "There are many plotting and labeling options that you can use to customize the plot.  Here we change the number of bins and label the y axis."
   ]
  },
  {
   "cell_type": "code",
   "execution_count": 83,
   "metadata": {
    "collapsed": false
   },
   "outputs": [
    {
     "data": {
      "image/png": "[encoded data removed]",
      "text/plain": [
       "<matplotlib.figure.Figure at 0x5e050d0>"
      ]
     },
     "metadata": {},
     "output_type": "display_data"
    }
   ],
   "source": [
    "xf.show().histogram('score', bins=3, ylabel='number of occurrances', title='Score Histogram')"
   ]
  },
  {
   "cell_type": "markdown",
   "metadata": {},
   "source": [
    "The next plot illustrates showing the most frequent items in a column."
   ]
  },
  {
   "cell_type": "code",
   "execution_count": 84,
   "metadata": {
    "collapsed": false
   },
   "outputs": [
    {
     "name": "stdout",
     "output_type": "stream",
     "text": [
      "topk k 15\n",
      "topk self +---------+-------+\n",
      "|   name  | Count |\n",
      "+---------+-------+\n",
      "|  jason  |   4   |\n",
      "| charlie |   6   |\n",
      "|   joe   |   4   |\n",
      "+---------+-------+\n",
      "[? rows x 2 columns]\n",
      "Note: Only the head of the XFrame is printed. This XFrame is lazily \n",
      "evaluated.  You can use len(xf) to force materialization.\n",
      "[4, 6, 4]\n"
     ]
    },
    {
     "data": {
      "image/png": "[encoded data removed]",
      "text/plain": [
       "<matplotlib.figure.Figure at 0x88cc1d0>"
      ]
     },
     "metadata": {},
     "output_type": "display_data"
    }
   ],
   "source": [
    "xf.show().frequent_values('name')"
   ]
  },
  {
   "cell_type": "markdown",
   "metadata": {},
   "source": [
    "## MLlib"
   ]
  },
  {
   "cell_type": "markdown",
   "metadata": {},
   "source": [
    "MLlib is a machine learning library for spark.  It does not aim to be comprehensive, but does include a number of modeling algorithms that are designed to run well in a distributed computing cluster.  \n",
    "\n",
    "For a more extensive machine learning library you can create a pandas DataFrame or an xPatterns DataFramePlus, and use machine learning algorithms from SciKitLearn, or from the xPatterns machine learning library.  You might need to take a sample of the data, using XFrame.sample.\n",
    "\n",
    "To use the spark MLlib functions you could use XFrame.to_spark_dataframe and call MLlib directly.  The xFrames library includes convenience functions that allow you to conveniently operate on XFrame objects directly.  \n"
   ]
  },
  {
   "cell_type": "code",
   "execution_count": 85,
   "metadata": {
    "collapsed": false
   },
   "outputs": [
    {
     "name": "stdout",
     "output_type": "stream",
     "text": [
      "+---------+---------+--------+-----------+\n",
      "| user_id | item_id | rating | timestamp |\n",
      "+---------+---------+--------+-----------+\n",
      "|    42   |   523   |   5    | 881107375 |\n",
      "|   286   |   741   |   4    | 876521887 |\n",
      "|   436   |   1058  |   4    | 887770547 |\n",
      "+---------+---------+--------+-----------+\n",
      "[100000 rows x 4 columns]\n",
      "\n"
     ]
    }
   ],
   "source": [
    "ratings = XFrame('models/recommender-model/ratings')\n",
    "ratings.print_rows(num_rows=3)"
   ]
  },
  {
   "cell_type": "markdown",
   "metadata": {},
   "source": [
    "We can create a model from the existing ratings by giving a XFrame, and the column names containing the user, item, and rating data."
   ]
  },
  {
   "cell_type": "code",
   "execution_count": 86,
   "metadata": {
    "collapsed": false
   },
   "outputs": [],
   "source": [
    "model = recommender.create(ratings, 'user_id', 'item_id', 'rating')"
   ]
  },
  {
   "cell_type": "markdown",
   "metadata": {},
   "source": [
    "Using a trained model, we can then predict how a given user would rate movies.  The recommend_top_k function finds the highest predictions for a given user among the items that user has not already rated."
   ]
  },
  {
   "cell_type": "code",
   "execution_count": 87,
   "metadata": {
    "collapsed": false
   },
   "outputs": [
    {
     "name": "stdout",
     "output_type": "stream",
     "text": [
      "topk k 10\n",
      "topk self +---------+---------+----------------+\n",
      "| user_id | item_id |     rating     |\n",
      "+---------+---------+----------------+\n",
      "|    42   |   337   | 2.57375515709  |\n",
      "|    42   |   1265  | 2.26432890518  |\n",
      "|    42   |   609   |  3.4375194189  |\n",
      "|    42   |   377   | 1.58276107809  |\n",
      "|    42   |    26   | 3.04564625147  |\n",
      "|    42   |   1209  | 2.49903841935  |\n",
      "|    42   |   261   | 2.28975739944  |\n",
      "|    42   |   205   | 4.27750969821  |\n",
      "|    42   |   870   | 0.517561835956 |\n",
      "|    42   |    59   | 2.39983900199  |\n",
      "+---------+---------+----------------+\n",
      "[? rows x 3 columns]\n",
      "Note: Only the head of the XFrame is printed. This XFrame is lazily \n",
      "evaluated.  You can use len(xf) to force materialization.\n",
      "[2.5737551570859507, 2.2643289051815274, 3.4375194189037965, 1.5827610780887493, 3.045646251466468, 2.4990384193528428, 2.289757399436575, 4.277509698212692, 0.5175618359557093, 2.3998390019919986, 1.8099533916949953, 0.7342820947114648, 1.857428423649626, 1.7735156842517468, 2.674832025878144, 0.5028897679922912, 2.737448617946565, 1.6773516006794678, 2.3934092300519927, 1.3118344709253176, 0.6269230658475817, 1.1282314019059014, 1.3609082193675586, 3.121938827630478, 0.34243577782260604, 0.7607189068482922, 2.0937135805890525, 0.511979027049982, 1.2152156324064904, 2.2086848486316373, 0.06919910686675322, 1.0261030918905045, 2.701546806505941, 0.16524684550396457, 1.6851665914391638, 1.3250339973840466, 1.4546730036757285, 1.347207364214347, 1.5204821454925206, 1.6069283820151092, 2.62690790611713, 2.021587791462267, 1.3137309034600035, 1.0185140099290735, 5.852269052930079, 3.467348574750842, 1.2913469225151997, -0.11460776323783706, 1.3731799377481133, 2.772142770632372, 0.8497656640654228, 1.4007462917610107, 0.3779625830037478, 1.8792868026572083, 1.0591290575632497, 2.3223253569865765, 1.3551089799964926, 0.5128916941786121, 0.7491585925051176, 0.5136536568786295, 0.5136536568786295, 1.4175742758699372, 2.065476934999281, 0.7476784824210607, 0.5807116696495251, 4.145783717116126, 0.3168751478684022, 0.2569714290019611, 3.5088819384853207, 2.654615651343085, 2.8790302373284535, 0.5498378753887603, 2.6251260777717578, 2.535983674510262, 3.720901417188467, 0.007975388580422627, 4.369705204458847, 0.10126314540912495, 2.5650972969050616, 2.33791775708359, 3.384007379813655, 1.5020593701413225, 2.6426091870552257, -0.000548899275481407, 3.3371554443587863, 3.976942593784203, 0.6808709929081074, 3.3106710078587653, 3.6688230601869924, 2.278704704865433, 1.0598186287456266, 2.332783562824731, 0.004891176519442458, 3.3093363829815385, 1.3606140421783566, 0.16524684550396457, 2.646816732780759, -0.06300766864535728, 2.6391850859755746, 2.7874223003575747, 1.1340496098126092, 3.6886943183577063, 0.972364371966858, 2.090421419125448, 0.34692208902901567, 0.11236907777921773, 1.5643147849685095, 1.3995767923155347, 2.056469506077987, 0.06919910686675322, 2.1649233562452626, 3.0873994751181613, 4.746123110595164, 0.5541168226746112, 1.9701517725484288, 3.25667893601081, 2.9966074737608825, 3.4993244617761188, 1.366112386716681, 0.4680448482206932, 2.5409492482792357, 2.727845545792085, 1.6996267134457856, 2.2413427343035597, 2.84246441209209, 0.35818899029851714, 1.570734424945782, 1.3236600126928801, 1.0898660547295744, 2.5612453525064134, 2.514000434609177, 2.7851640917299516, 0.4137312787144653, 1.8387820619765711, 2.5077439240735075, 1.789229173864582, 3.5925870838976555, 3.048433371919729, 3.1435024725830454, 1.7326902652641247, 1.279587269571235, -0.23205883927742021, 3.6301294858417625, 2.6268091664473765, 1.6446845747811325, 0.10921395741891099, -0.008755183491906793, 2.485091417380518, 0.30795552850794966, 4.632203543334559, -0.4151539694319317, 1.5025968817701816, 2.0039811641170195, 4.491361182047267, 1.4682557352331376, 2.8309698399026018, 1.4573799325022392, 1.3241671956003938, 0.3108827352477018, 3.299340633135449, 0.7443693645731853, 3.4705091801486416, 0.9787967396940307, 1.502027010033441, 1.424633916607316, 3.2232201749072784, 5.151365992358791, 0.5136536568786295, 4.5264386229693265, 2.643849565732645, 3.0693110949588505, 1.8196670123392484, 2.2268282217996287, 4.834043164169647, 1.4891152544997786, 3.058436503656158, 3.4847603616644642, -0.008755183491906793, 0.6270754802162306, 1.6301380482827206, 2.657981745283431, 1.8253525282761778, 3.6243044342578075, 2.373263157240205, 1.5827501331350609, 0.5417231153262894, 1.5475064674401584, 1.0157007715514386, 2.250449870103389, 2.962104765711818, 1.159434519676483, 1.50647458882547, 2.196816566487451, 0.1572049018228044, 1.6727010040949324, 2.3168435235532536, 5.143796474172296, 1.641340514963282, 2.7729618572542316, 4.232910728779719, 2.1531861386648212, 1.325255757925801, 2.9892157382958313, 4.615141499076273, 2.796440481747211, 2.0110974605669205, 1.4765222596111178, 0.5238785293176907, 4.768595019371699, 0.48405799220834134, 1.5353991712213284, 0.07934435543089181, 3.4877009420692597, 2.608621514374804, 1.8322278174938662, -0.1464976826750854, 3.769311503674423, 0.30994791053322623, 1.588572085920045, 3.9152932803157983, 0.6848715556452121, 4.05033331711489, 0.03552939931213028, 2.410686023553541, 1.6528463871171872, 0.6257833298078069, 1.2888810869187377, 2.101259561159537, 2.694679355370395, 3.2524162594458064, 1.7060230329655086, 2.6783824666168448, 2.9399582490483436, 4.194924518868006, 2.521745416368912, 1.8515040249824595, 2.1311725665020647, 0.08046319503640703, 0.9175296459548627, 2.0929555459719946, 1.6827147289814168, 3.599991498236367, 3.1346022359055117, 1.0812557324892216, 3.610600526776736, 2.8184618311732335, 2.487817001105716, 3.086695057487694, 1.3521517782168015, 3.3302071089336223, 3.1526889941157488, 1.5976125018943923, 0.8825790142712873, 2.2324177548431807, 1.0012964342793043, 5.137511406408702, 1.4574605674626713, 1.269586045262451, 0.5243996574865752, 2.98025982413513, 2.1356338725882877, 2.415722653279722, 2.0214958348145298, 1.8040983284286831, 3.103275440176878, 2.4299430968336466, 1.9697648248869384, 0.8500924825594891, 2.1062883108354638, 0.4232689513985498, 0.9602477497905226, 0.7743770129921541, 1.6330973272574099, 0.24455101377903943, 0.2445235016640832, 1.1059197438524142, 0.7022706350403798, 1.8892016687114628, 0.674399199454857, 1.936613647552403, 3.6491967213599787, 3.9159267500646164, 2.2495404140426714, 1.1402486453650373, 1.4359886224415443, 1.8834165887938334, 4.327844132699807, 2.820820690457908, -0.5378598435688311, 0.23801024389613984, 3.481014180228995, 3.865859652610804, 1.8028027793510324, 3.3285640341911447, 1.6974504912068888, 3.0394098659853848, 1.770948401265892, 3.1382527551963424, 4.479561289658646, 2.2406827519419945, 0.5911623155555901, 0.9747401641094635, -0.12707299461948196, 1.921405205064808, 2.5454341735345407, 4.204728743574233, 2.841705915394574, 4.602818346212329, 2.9680317814250605, 0.5981710330047348, 3.254207248642353, 2.115192354131714, 4.100671562505381, 3.642560142877491, 0.07728490435111443, 1.7958410201215815, 5.181502126255504, 2.1540043034193124, 3.1486336243609703, 0.06919910686675322, 0.21713729129171166, 4.4016270960424935, 3.9857545154516787, 1.7560780545974208, 0.11714045631945635, 0.16524684550396457, 1.9817600599067609, 2.9096780492787637, 3.135120670444706, 0.4828085323634714, 4.271296553645238, 1.8754518609705242, 1.8535088400742084, 1.8472300106648554, 3.355704085128723, 4.208893885101727, 1.8778540163086372, 3.1155071754294195, 1.3191812924798112, 1.094025593332328, 5.301846495584266, 0.33934474372984264, 0.11271308681251789, 0.6240597651529833, 2.727685662348851, 2.1544564122158065, 1.4868441181925076, 0.16524684550396457, 0.06818110884371814, 1.5516926774097706, 0.04783454861904829, 2.992258344343319, 2.1472026594873723, 2.358212949704231, 2.503817201445781, 1.4074339006644228, 1.3288509353168614, 2.5491050172421983, 0.8930673548969452, 2.3735516044626572, 0.4677756204134295, 1.2769141216872089, 0.46864034266235, 1.9812819786471652, 2.74000573961011, 3.876657225340791, 1.5956074805989555, 0.6371791635831193, 3.5821091621562737, 3.6350114959615336, 4.504755022283315, 3.2999566397787072, 2.995808385469166, 0.16524684550396457, 3.8733265754762973, 2.6596934709455815, 2.4470800264385524, 0.5136536568786295, 2.168976997679359, 1.5914783415079343, 2.721788691084741, 1.9084626872356822, 0.23118847535383735, 1.449273762355796, 0.32285111400475497, 1.087051404511322, 4.210637935482846, 1.0624234534269923, 0.19413687695892978, 4.740673436111221, 1.1179249797087953, 0.586413909666249, 3.398568953778129, 4.811315232542595, 0.06919910686675322, 1.5462190221181817, 4.19209495991822, 1.7456897819401536, 2.784657561489879, 2.5471753956478205, 0.9123638284137613, 0.5882862793793943, 3.362170014412839, 3.202358824133424, 0.44821101477758024, 3.1624597376057375, 3.6647320400106533, 0.8903858565547658, 2.6747625062196576, 1.920441872802726, 0.6291516653246316, 4.587083285329252, 0.801833353050561, 4.751479601831205, 0.6106911953501146, 0.6848715556452121, 2.8028384089717195, 2.6467958744392073, 1.8539326103711584, 1.0026325226255226, 1.9090974736607202, 1.963402644173615, 0.7079763048637144, 0.1062621229815082, 0.976343405581585, 0.6848715556452121, 2.4667609703708884, 2.4974216669355713, 1.6974287446105447, 0.16524684550396457, 1.265439868551796, 0.6928391982802112, 1.062537963366603, 0.04992548400357548, 0.6329971366575375, 3.262898350732396, 3.551213163708047, 0.20682866862955843, 2.572110430933788, 0.13055923805368008, 1.276597077471429, 3.4404147839451498, 1.3385856477882776, 1.2937025494532162, 0.6531770531851061, 2.904268580420718, 2.3812758969412773, 1.861627507586827, 0.7472252657137742, 1.8036085755887112, 1.1303465398823929, 1.6255079879920684, 4.168646672631269, 2.671373567269407, 4.41850133319742, 0.6040275407376716, 1.9511152345780105, 2.4262608728514943, 2.3748370526642253, 2.1827744911186544, 2.919926188726379, 3.774600237650138, 0.11271308681251789, 2.1684050027037114, 1.200911154461863, 2.8938015463576754, 2.3736026625514106, 0.9466464838447916, 3.6743747976002705, 2.7501984358432585, -0.7261423785416865, 3.254329787472851, 1.9944407726824784, 3.080472777342742, 3.6288133508346325, 3.8950847257466803, 2.8019073641846926, 1.673421543142763, 1.7097668556503467, 2.7693849635818593, 2.596613131260319, 3.2349270822713314, 0.9577496623378707, 1.9290411462068446, 3.938413830556002, 2.824577944766099, 3.313140153926067, 3.2278424897588764, 1.8067292240683916, 1.4035496249396442, 4.4114475480101145, 1.3640222226951728, 0.8006368986264605, 1.2704731113052241, 1.8905898450597538, 2.9893788618604966, 2.297626379976067, 0.5118176247880266, 2.904615809923013, 2.5599085054929365, 3.1712821247215883, 0.572800093190828, 0.17458035698558416, 3.3886589285458975, 4.115141527661809, 0.5778691783803752, 4.62230487392674, 1.8789969240121853, 0.06080088255407896, 1.7285090023236518, 0.6235265464752735, 3.8750373612193982, 0.5136536568786295, 2.7214442917168373, 0.6972887995530356, 2.5539808279086076, 3.060902931308591, 2.0422728903720633, 0.4680448482206932, 0.7437018093298154, 0.30001271036423816, 1.8108095778437827, 0.9105176599782319, 1.730524324002694, 1.294431180193245, 1.8881254220033001, 1.431548356204271, 1.6679539679701612, 2.1965300436216406, 2.9423597416390264, 0.26992536632053443, 0.16524684550396457, 2.6154819620630176, 1.4584197427855983, 0.6005534856199012, 1.8636837457011115, 2.0322540891243372, 1.291217716266505, -0.3674609261609878, 2.34128784049398, 4.75432624819229, 1.966325706466891, 0.06919910686675322, 2.1390695166542337, 0.997347035312727, 4.381025896593831, 0.16524684550396457, 1.6681114784982474, 1.0628063886591654, 1.9597533056312069, 3.9498270234620647, 0.9753684073693141, 1.6229327895251988, 2.065382282180227, 0.6244335086147025, 0.06919910686675322, 3.356049895421361, 2.0529189132556236, 0.09120131777571078, 0.9658352070657537, 2.7308134019342143, 2.7400868251183765, 0.4755943774312277, 1.4677138925597424, 1.4766203219714327, 3.433992534797534, 2.503465302124911, 1.2489003750733931, 0.5590758838298747, 1.878715163049554, 2.664909745333092, 2.238349381178926, 2.253450470314233, 2.0533422892259448, 2.2133509563211575, 3.414220287538171, 0.6639224053795676, 0.16524684550396457, 0.2692109683217371, 0.29593349084760245, 0.06287313948292424, 0.870031418457477, 0.7647056597825437, 1.6210603543017867, -0.09774715771787756, 2.3551994037885535, 3.33821309730085, 1.331548545220953, 1.2931996159265573, 0.7407317724865641, 0.4397411320120701, 1.2851821633713647, 0.23773807146915515, 2.4767611043682534, 3.4991757821469633, 0.18179760640233222, 3.5677142923523144, 4.27969235329614, 2.8940819548188212, 2.6835042200315433, 1.9024872230090097, 2.9576200349283637, 2.3108800632320845, 1.583303404489968, 2.1728165002690734, 1.230472683000432, 2.595184902435307, 1.0894090967982673, 1.701702056622636, 0.26801475882623915, 1.5475112416722538, 0.08087261636843689, 2.2045855205544758, 1.3686074551539356, 2.5568317162369505, 2.685577469513742, 2.604732831850181, 0.06919910686675322, 0.4680448482206932, 2.6986670948444003, 5.40558417426866, 0.06919910686675322, 0.06919910686675322, 2.5111537767270256, 2.6403295400429223, 0.8801869834509923, 1.7192963253829556, 1.3515117237996617, 2.819986197831044, 0.824822046589598, 2.9630258461907966, 4.461442466227718, 1.363997648942461, 0.04992548400357548, 3.0154122227566678, 4.195506043451093, 0.8025430240326865, -0.20757698471596586, 0.3828016877882399, 1.8015827518094696, 1.2973083117532789, 2.5185269143569955, 1.4181587852778021, 1.8611377023680085, 3.6200890211222108, 2.8235785286308475, 1.9677626015475793, 1.2507296474989795, 1.4997171032393368, 2.9467255362806193, 1.2312193315626816, 1.3772387677492466, 1.8976811814794807, 0.4897577026769915, 3.122636357257478, 2.976040282497369, 0.9320237673885953, 1.9260971857524192, 0.7545268533640092, -0.0643842868462387, 0.06919910686675322, 0.8089461151848432, 1.3737146909483642, 1.9917996163221157, 1.3026309868308328, 1.5172451692703846, 1.2134661657958488, 1.5324712140461054, 4.217816934753874, 1.889050184331006, 4.199113868403633, 3.7003118183955923, 1.4046431631008793, 2.397675472762341, 0.6047181470312433, 2.8163571172329247, 3.340990092664889, 2.561021183052896, 4.138466958511415, 1.9791845585254473, 2.8306041647623976, 2.482643699789947, 3.1894568976753837, 2.1621566596364894, 5.570087691838389, 1.5141463653104428, 1.5159577986286947, -0.050287102979318044, 4.256588048394697, 0.7417679896401247, 2.543785213903457, 3.8535261296763483, 1.8066653711094007, 1.8964597438358064, 1.059098139798865, 1.400954829908954, 0.7071908190613202, 0.06919910686675322, 0.19970193601430192, 3.4386370742001566, 0.9730383379001883, 0.3502498388406803, 2.299712447792168, 3.414968160502826, 0.09120131777571078, 0.6748177053912925, 0.4147767963982275, 2.2390377108333555, -0.024226564705433495, 0.20728416172013686, 2.2758065086156014, 2.1573539466514102, 3.657534541431531, 2.301951999560613, 4.054418205735187, 1.7605559992307946, 2.01108432154128, 1.2966241837561747, 2.0190972319632814, 3.150428287386202, 2.7151427866567106, 2.534379882609811, 1.9758606046434566, 3.494291838739917, 2.486128725313188, 1.6179174891947996, 1.0173452080331784, 0.9722384742530659, 1.0353611109329977, 4.372898132578735, 2.7387757354864157, 2.704472754090493, 0.9375575774337981, 1.3006383454092603, 2.278591954078319, 3.9955344475089785, 0.04232303450918762, 0.06919910686675322, 3.846458606757539, 2.500975517103708, 0.7409672220015664, 0.4159777327977843, 0.06404871696516001, 0.6901268814785559, 0.15304071456509527, 0.06919910686675322, 1.1878150617047476, 0.9547897036223886, 2.6055329067949855, 2.611070596208745, 3.86155587157836, 2.9459045192845803, 1.8319733170599046, 1.8593413233185054, 2.1334220055609636, 3.458741254592865, 1.4243703743353344, 0.7379485856904902, 0.771467014455312, 2.733874829657342, 0.8418199832993776, 2.3535958875168426, 3.589079441014298, 0.7867797407957232, 2.150991883294814, 2.1116327474738945, 2.6526345392429374, 0.3612979116127677, 2.6044559205302744, 0.7192003000914658, 3.3139987462260447, 1.2315470643813802, 0.8205457589621032, 3.8959488034966405, 2.863588488089574, 3.175272320016759, 1.2756290719719763, 3.3055722300635497, 2.420663870145293, 1.7616249186592297, 1.4696852033551548, 4.7577857937631105, 0.47510770978384864, 3.6110323078248223, 0.34243577782260604, 0.2897400097350775, 1.1417473557745454, 0.7957603900580301, 0.09854275571006146, 1.4873130784506166, 1.415553581454579, 2.9608007208105223, 0.7343769584281494, 0.362250896472892, 2.4065836422855487, 0.9331297780241044, 2.761337443783482, 2.1980323677465474, 1.6099228676684845, 2.5947615508637316, 0.23118847535383735, 2.3504798523358255, 3.1257200702312447, 1.5920862695454692, 2.4817768906521662, 0.24940340384798398, 1.9159541625630716, 1.6046499013484004, 1.6944533788241403, 4.492311520470034, 3.0733580848414164, 1.8267097045395972, 2.4646771677761654, 1.0869901525200465, 1.5260212054324538, 2.150398645196227, 2.6903862016000133, 1.7673976765929016, 1.7837312967103909, 1.8994293641503455, 3.2803020747321194, 1.5695173355224674, 0.20007494444124074, 0.03998964759712567, 0.7944738319533302, 3.841126786758202, 3.402411292291807, 0.16524684550396457, 0.1227895341228194, 0.09120131777571078, 0.3574940499917323, 0.5425361675814317, 1.8752159611938564, 0.22484504372766717, 1.2690146889311043, 2.6403314592995613, 0.8707531279275491, 4.39462695722871, 2.797302992541406, 1.0869118930864419, 0.8664846763303634, 0.2111640715701233, 3.0557699819291573, 1.5355754333026048, 3.1371154065249165, 2.558212208779988, 0.5536753364968687, 3.5222757741802178, 1.9615346125733173, 0.10645504736700703, 0.04992548400357548, 2.3166123406651375, 2.039007859359545, 1.3437911380811574, 1.2022745427728174, 1.118873007955647, 0.5136536568786295, 2.036648760051226, 3.529599070832478, 4.256668053196888, 1.4749059244167948, 1.628529413742724, 0.040050527811201275, 2.7505590910923523, 5.025528791978358, 2.600750313249505, 4.490513478827525, 0.14694499758988785, 3.2417206021360414, 1.541555134835067, 0.5176839061904246, 0.9568830413194063, 0.5313105980200482, 1.1660462792610584, 0.6255286349913496, 1.931228373091274, 0.9792674343273796, 0.36651946208246866, 1.836013135068704, -0.12072006434730859, 1.7507672770886122, 0.35343878592103173, 0.9765011723223191, 2.3038535981359507, 3.1190238485111608, 2.7400755011598164, 4.5276247900329665, 1.677413870189945, 2.52415513608896, 2.0498015294234198, 2.6300480931241887, 2.3347283078845225, 1.432050752808061, 0.41632544492998513, 0.06919910686675322, 0.4122200904129707, 2.2887898678994043, 1.3438085712641865, 3.0624000720071, 1.3780048147098711, 3.51155284475868, 2.9490344225282215, 3.8787200034835703, 3.95190426479009, 2.636977572564845, 0.3822721031481029, 1.53269353017352, 0.6408942468948479, 0.12043822600359166, 2.917887310368249, 2.623745547686831, 3.143589485562349, 0.5674256684303476, 1.3163819976224955, 3.0117722235622137, 1.4405398865931485, 2.0630679143771604, 0.06919910686675322, 0.6849660958264707, 2.485199558060168, 2.5885319594468847, 2.2199476195831935, 1.6058482123213342, 2.3565209690716853, 1.466203928611796, 2.5991651074824382, 3.8276670246688504, 3.6190838693235996, 0.36326093133167936, 2.3263698140431175, 1.5028962894845703, 2.146783898151181, 0.8379309050876154, 2.7275944231650633, 2.7221723907180415, 2.820089848229315, 3.4943633561660388, 1.8177014537580727, 0.222875852803188, 2.982410959935993, 1.671843819701946, 1.5906190201823311, 3.5336828158913343, 2.6505628131096644, 1.9196645540480461, 4.067831574463591, 2.5828693917204033, 2.1431334974122653, 0.7549227773956173, 1.7726129134191462, 2.471531741261055, 3.9850767887136627, 0.276208788043546, 3.216916845700764, 3.8714728951607356, 2.196478382984211, 1.7981980179996766, 1.7686612849774241, 2.7008890211457053, 2.463522945948955, 1.6653060254811614, 1.3069251692691197, 3.8521522971863376, 1.618984331400636, 3.6144836296727494, 1.020151307410333, 2.307716315030951, -0.32675158968664575, 1.193639649687602, 0.10500970291652173, 1.841372044015676, 2.7714085321708635, 0.16524684550396457, 1.7956638235256634, 0.7259071478853834, 3.2232497233609743, 2.2517751311317333, 2.914315158587202, 2.2250663185161135, 2.439737856794049, 2.667731867848384, 1.5754636033581193, 3.9616084497392707, 0.5897740906813413, 2.359658742972986, 1.8472319009587839, 2.4587385512003057, 0.06919910686675322, 1.677362108910688, 0.6786577684393151, 0.09094799143859772, 2.2012416849140632, 1.8197673273987265, 4.335215816041497, 0.12803838255754574, 3.119146753016525, 3.628674241670466, 0.09726700390739498, 2.388578901823304, 3.429599184921167, 3.7274346217957977, 2.750994259324347, 1.5020050670035623, 1.9182453701146718, 2.810776595677356, 1.362169039881536, 0.8013393833877858, 3.491041785470311, 1.8735238873089584, 2.1563100209919472, 3.810919728949144, 1.042917546683293, 1.8198273482756104, 1.049973024226932, 0.7432095714929301, 3.950993632000934, 2.1856903087477533, 1.717279738370864, 4.9973944027161545, 2.592370357002403, 2.785991979710456, 2.6034342345507406, 4.368662882947582, 2.307682681707482, 0.23834754006323539, 2.7010835968779117, 0.4856571053529705, 3.081504965591723, 0.5260068182780377, 2.0731409204438127, 3.092684031166543, 4.341428960621586, 2.3844043390000738, -0.06942541774944164, 0.8332669746136744, 1.3317311899579398, 2.9310745555798663, 2.1539451073043896, 1.5857816447362314, 1.8157558780815672, 3.2696193089864085, -0.04440421817961387, 2.8877243785165128, 1.763235347048302, 0.45589645244188637, 3.765406700439465, 1.8033507967005504, 1.5558809464502295, 0.24387640762490592, 2.9020761550729404, 2.118531922679346, 0.9638540651565943, 2.6401687634559665, 5.22592047034226, 0.06919910686675322, 3.2091767929640262, 1.0334440006116625, 4.66816268450409, 3.4627043849270924, 0.1062621229815082, 3.6660237516023475, 0.7601244740557322, 1.1647106347166936, 2.915222453168486, 2.1040703685310067, 3.4538283266980474, 3.11002546273734, 1.915005674711486, 2.7239678637534332, 2.5755903914376708, 3.496611840793704, -0.5413985105553836, 1.4397713649715942, 2.3486348682178417, 1.7639814706221488, 0.8486517315626168, 2.8145418173467522, 2.7807905535017716, 2.0350571433048326, 0.6481951519086108, 1.9731663951575404, 0.8095212695083056, 6.23400667363656, 1.772267994436427, 0.06919910686675322, -0.0048979451388954515, 0.16524684550396457, 0.019543572340405213, 0.06919910686675322, 4.817662356247385, 0.7881143012645588, 0.8286246103345912, 0.362236602764325, 1.606064944082606, 2.1291489732570854, 2.367691095539327, 3.8086672774983628, 0.7527832255838018, 1.1207160736012107, 0.9656399168403016, 4.476480449882074, 1.539554630769731, 3.7983644453311793, 1.7106379775537963, 1.0276010477997015, 2.7037031718094813, 3.0442392346151586, 0.7211105128173605, 0.31101957909817196, 0.9333750490247144, 0.5136536568786295, 0.9503953664214566, 0.5136536568786295, 3.365309812020257, 3.0615839818955584, 1.7241349655370168, 1.6929538805479611, 0.06919910686675322, 1.8058500168953415, 1.1092629355899133, 2.933366978645759, 3.3285406443690273, 0.2608266510322152, 2.7836764386501205, 3.336345192004073, 1.2454875737907192, 2.2353391217979977, 3.6845263774022268, 2.6281462239343027, 1.6382566141344046, 1.8749351204451294, 0.15347516774942316, 0.06919910686675322, 1.7249997938546777, 1.5835914712764771, 1.7798428842330238, 3.279284344630002, 1.6086585694543099, 1.7544462643474334, 2.5650332127521405, 3.26571757976082, 1.1599131657472634, 0.26699542130920906, 2.1242004804762575, 0.08338829730034991, 0.5095255160637784, 0.5333159320053766, 0.5136536568786295, 0.7271679662103745, 0.19873588745216506, 1.8834639380782356, 1.0428671877390472, 0.19387236012741976, 1.2793279773000101, 1.0996465778559172, 0.5077760427748106, 2.109650621519625, 0.4147396084052847, 1.5457859070175668, 3.2603133940442914, 2.406040774291937, 0.9746459741981457, 3.5807429213819617, 1.5252939568926562, 0.8845234631539489, 2.7499497268466033, 0.8458533514130853, -0.14468746652011055, 2.8300112679690326, 0.5299554595411654, 3.8662413109409077, 1.2223832075331427, 0.84032081678233, 1.5446388643191842, 2.7856771684153316, 0.5876900238127417, 0.8759243157702079, 2.061299499357881, 1.0774602611660131, 3.960113496804225, 2.0969918702344517, 0.17774460784142493, 2.8270652141114243, 1.6372959307047135, 2.0705907660813994, 0.8189614560054616, 2.153615553667567, 0.13974566573386393, 1.9360774995492092, 0.6537444492228381, -0.7634991181264041, 3.028859609573699, 0.7803817267955449, 0.7523119945750444, 2.1670207620627564, 2.4996903452723047, 0.7531529765520745, 1.5588952692741713, 0.8789181589318293, 2.1094398156837793, 3.0270078351124337, 0.4026298877557834, 2.796338420535401, 1.9327902006775846, 0.6797418722483739, 2.440695372144478, 0.6722643580380154, 0.31202988257649167, 1.7893459748625788, 3.7519094439690406, -0.11019182241330411, -0.07838879028593315, 3.6057287484265856, 3.2333489580748958, 2.1868194892268393, 0.8541431452852063, 1.0086532614527337, 2.328923664891951, 3.101202304490861, 5.274498989036392, 2.9701639243152784, 2.286603456552789, 2.9561354828117428, 0.5136536568786295, 4.173540505216318, 1.4516139862326503, 0.19970193601430192, 0.8336834103711239, 1.5294706621244234, 3.950239783404267, 2.762927824408385, 3.3991117523965664, 1.214153889328518, 1.925790786415382, 1.0364703232806545, 2.7952834900881594, 1.5365446708433257, 1.855005665436194, 0.16524684550396457, 0.3966541825865314, 0.5090849633742114, 2.588248894586715, 0.3559378483095188, 1.5714187067653218, 0.7320570334482691, 4.827658019034494, 2.7441592741921106, 1.7809322340061633, 1.456229323685323, 3.45150780946085, 0.6708659987242909, 0.441719807241839, 1.0704446343517837, 0.6296308946352731, 0.7273378298166738, 0.17393969077418805, 0.06080088255407896, 0.06919910686675322, 3.1624549661118184, 2.683259258379809, 2.9366958908541365, 3.3423733209268205, 1.4719329097626535, 2.2428348063800394, 3.748069894262619, 1.8826759472020418, 2.1526504555289354, 1.2574357986667595, 2.053155094627691, 0.31878637107523705, 1.1668194686279851, 0.8260882005138828, 4.5264646039203456, 1.3324713623813107, 1.863840661894226, 1.0426051114363757, 1.558464824200987, 0.5701763530627015, 1.076440002411536, 0.37650703162661325, 0.06919910686675322, 1.2174918504543284, 3.095308378054713, 0.4042339906278741, 2.1051106945360996, 1.5938707690636038, 1.780669909078666, 0.34528907883944715, 3.313284048077523, 0.034133877180858585, 3.8530579467224255, 2.038640348924845, 2.9015028369085156, 3.0122010416117266, 0.06919910686675322, 2.0495288684350568, 2.8509637828134506, 2.2566737661942247, 1.1783913712173757, 0.6684279424869134, 0.3649249154000399, 1.562048861927764, 1.2284593684559728, 1.2343612911327297, 0.5757378774310522, 1.9519079209853896, 1.6282163388942732, 2.9286059550891883, 4.658342719081377, 2.364343330538704, 2.9023043889190685, 4.052845546380759, 1.4030781277558284, 2.4483541664985777, -0.016262699499914934, 0.014673524117372327, 0.06080088255407896, 3.856266256903181, 3.522051421796578, 0.9066556710387095, 2.6899761195231986, 0.16524684550396457, -0.38788273557056296, 1.9743220466821012, 0.2802795588297184, 0.894636466659818, 0.6013456113596904, 3.5688170008029108, 0.9582354484846902, 1.5310798435573867, 0.4042339906278741, 1.5050660798081088, 1.3809803650666366, 0.6848715556452121, 0.8014251737124451, 1.8047225624691403, 2.146000191993372, 2.4021845539273117, 2.474680465031479, 4.641493576755411, 0.7754108670978169, 2.507360020349223, 1.6092193908705035, 2.4254061438309433, -0.7691101819682317, 2.020261793118652, 1.2606293049937707, 1.3247363595362267, 1.374038435340167, 0.46048560466375316, 1.640453064904078, 1.6068455161022226, 1.014706055479669, 1.3588233771201677, 0.9998746168251468, 1.0944165627209133, 2.087913557142953, 0.9727820423078969, 2.8765767108475133, 1.5362996128567645, 4.631127514177539, 2.1817890209501445, 4.07524605422046, 0.034346802407160204, 1.8677585877128975, 0.06080088255407896, 2.277286516713305, 3.048343272327989, 1.2775416116198668, 1.6189662551889747, 0.6240597651529833, 0.21001940583304346, 1.824423096481298, 2.5724804892025426, 1.8941186016298603, 1.5280405570130187, 3.002859633325896, 2.6709596435410803, 3.0872640148887025, 2.2065982684064904, 0.46258544947237445, 2.327296655287687, 0.1224023202316622, 0.5584569165735287, 1.460593183045564, 0.3020067777572099, 3.3442738996132304, 4.4959118934988265, 0.8088843232623524, 1.5219520410416343, 3.9137575667008133, 1.5885713936183972, 4.469417247347899, 0.019994823798562836, 1.4645451914021939, 0.06919910686675322, 3.9696419834640206, 1.242062302529236, 2.5858618795617203, 4.621540972461013, 1.6086409267564519, 0.8564715973481414, 0.06919910686675322, 2.7225187837961657, 0.7620377822975171, 2.227442587246044, 0.0022637592349590355, 1.076242263815046, 2.9127563230102727, 1.5467561771839062, 0.9544078411951533, 1.557743441198586, 1.2220254364915355, 0.06919910686675322, 2.850323077597657, 1.1815976708498115, 1.2442626811611994, 0.4463843231017979, 0.12166899835036549, 0.9687318390164859, 2.4587591308886942, 0.7228215305537933, 2.278306601753903, 1.2663152298413705, 1.4441632589275066, 0.4287715671874387, 2.1275008688413024, 0.5947788682447285, 0.3887501843203487, 0.45005207762068133, 2.5114670741169602, 2.327047518983722, 1.7819153070051756, 0.31202988257649167, 1.0966770041464646, 1.6066343049277336, 1.572767474851895, 1.7526493564654446, 3.876637791537223, 3.0018840116629204, 0.6276088978672612, 1.0463294202946833, 0.06919910686675322, 0.05998447615942329, 0.6999861760573629, 1.6421182504192857, 2.1548950318511437, 1.1865372308228157, 0.49024720574606206, 4.202889332208532, 1.797836600841301, 2.8630782791208067, 0.8930967311714744, 3.234814711256244, 2.0374731539913644, 1.3884235655249941, 2.460606460655516, 2.8416526115198093, 3.595266591210522, 0.7178336175854769, 1.914971657420259, 0.14350364518753364, 1.2882799277106987, 2.8234133853612655, 1.102661352504944, 2.3808386624654454, 0.1911958175356398, 0.5495766515141547, 2.375521733843561, 2.58725937900071, 3.1096471093944427, 0.6776741728227871, 0.15889784763810444, 2.273177979064423, 0.7382121666545282, 2.9117673684126917, 1.5669585219824864, 2.629306983983294, 3.9472455213592177, 2.01219682312688, 1.2713897198165267, 3.1015440848361013, 2.9740162963682133, 1.0619644696880937, 4.172729796052445, 3.9013910437813286, 2.2437806976055907, 2.9500591230043605, 3.3303418684803283, 0.7197014640251884, 4.373840779627546, 1.8170095992519193, 2.496828615539804, 1.835898649441893, 2.7309697375071944, 2.994704455803988, 4.367058879214282, 1.47767764854565, 2.496130181820038]\n",
      "+---------+---------+---------------+\n",
      "| user_id | item_id |     rating    |\n",
      "+---------+---------+---------------+\n",
      "|    42   |   520   | 6.23400667364 |\n",
      "|    42   |    22   | 5.85226905293 |\n",
      "|    42   |   553   | 5.57008769184 |\n",
      "|    42   |   422   | 5.40558417427 |\n",
      "|    42   |   524   | 5.30184649558 |\n",
      "|    42   |   393   | 5.27449898904 |\n",
      "|    42   |   254   | 5.22592047034 |\n",
      "|    42   |   1035  | 5.18150212626 |\n",
      "|    42   |   257   | 5.15136599236 |\n",
      "|    42   |   485   | 5.14379647417 |\n",
      "+---------+---------+---------------+\n",
      "[? rows x 3 columns]\n",
      "Note: Only the head of the XFrame is printed. This XFrame is lazily \n",
      "evaluated.  You can use len(xf) to force materialization.\n"
     ]
    }
   ],
   "source": [
    "print model.recommend_top_k(42)"
   ]
  },
  {
   "cell_type": "markdown",
   "metadata": {},
   "source": [
    "Normally you need to store a model and to read it back later."
   ]
  },
  {
   "cell_type": "code",
   "execution_count": 88,
   "metadata": {
    "collapsed": false
   },
   "outputs": [],
   "source": [
    "model.save('models/my_model')"
   ]
  },
  {
   "cell_type": "markdown",
   "metadata": {},
   "source": [
    "### Other MLlib Models"
   ]
  },
  {
   "cell_type": "markdown",
   "metadata": {},
   "source": [
    "MLlib includes models for classification and regression.  These are included in xFrames, but the implementation is incomplete because the python interface to this part of MLlib is incomplete. For instance, the current version of the classifier and regression model objects are missing load and save methods."
   ]
  },
  {
   "cell_type": "markdown",
   "metadata": {},
   "source": [
    "## Getting Started"
   ]
  },
  {
   "cell_type": "markdown",
   "metadata": {},
   "source": [
    "The easiest way to get started is to install a Docker container, which contains a spark installation running in local mode.\n",
    "\n",
    "Check out the xFrame project from gitlab: \n",
    "\n",
    "    git clone http://git.life.atigeo.com/xpatterns/xframe\n",
    "    cd xframe/docker\n",
    "    ./build-xframes-docker\n",
    "    ./run-xframes-docker\n",
    "\n",
    "Then browse to:\n",
    "\n",
    "    http://localhost:7777/tree\n",
    "\n",
    "You can navigate to intro/Presentation.ipynb to see this presentation notebook.\n",
    "\n",
    "Note: this has been tested on Ubunto and Mac, but not on Windows."
   ]
  },
  {
   "cell_type": "markdown",
   "metadata": {},
   "source": [
    "## How To Install xFrames"
   ]
  },
  {
   "cell_type": "markdown",
   "metadata": {},
   "source": [
    "xFrames can be used in two modes: local and cluster.  In local mode, your program, the spark master, and the spark workers all run on your computer.  In this mode you can process data sets of modest size in reasonable time.  It is easiest to get started with local mode, because you can install everything you need.\n"
   ]
  },
  {
   "cell_type": "markdown",
   "metadata": {},
   "source": [
    "xFrames itself is simply a python library that be installed anywhere on the PYTHONAPTH.  If you already have IPython Notebook, spark, pandas, matplotlab, and the other dependencies installed and working, this might be the best option.  For most people it is easiest to use a Docker container, which supplies everything in one package."
   ]
  },
  {
   "cell_type": "markdown",
   "metadata": {},
   "source": [
    "# Under The Hood"
   ]
  },
  {
   "cell_type": "markdown",
   "metadata": {},
   "source": [
    "## xFrame Design Principles"
   ]
  },
  {
   "cell_type": "markdown",
   "metadata": {},
   "source": [
    "The most important design principle was to hide the spark implementation behind an interface.  The data scientist should not have to understand RDDs and how they work: everything that they need should be explainable in terms of arrays and frames.\n",
    "\n",
    "The next principle was to delegate the data manipulation itself to spark.  All XArray and XFrame operations result in calls to spark operations: the data never comes back to the master or to the application except as requested (to print or to return to the application).  This ensures that any improvements in spark's speed or memory performance will flow directly to xFrames.\n",
    "\n",
    "A related considerations was to make sure that xFrames does not subvert the spark laze evaluator.  For the most part, spark avoids performing any real work until the answer is actually required.  However, there are some operations (such as zipWithIndex) that force the lazy evaluator into action.  xFrames does everything it can to avoid invoking these operations.  When it must, xFrames caches the results so that subsequent operations reuse the intermediate results.\n",
    "\n",
    "Another principle was to build on python's operator overloading facility to make the syntax for vector arithmetic and column and row filtering simple and compact.  This approach was proven out by pandas, and gives xFrames the same flavor.\n",
    "\n",
    "The last principle was to provide high level operations that are tuned to the needs of the data scientist.  This includes explicit support for dealing with missing data, flexible support for grouping, joining, and filtering, and support for data reshaping operations such as pack/unpack/stack/unstack."
   ]
  },
  {
   "cell_type": "markdown",
   "metadata": {},
   "source": [
    "## xFrames Challenges"
   ]
  },
  {
   "cell_type": "markdown",
   "metadata": {},
   "source": [
    "xFrames development is at an early stage.  It has been used internally for several projects and has been extensively unit tested, but it still has a number of limitations.\n",
    "\n",
    "The goal with xFrames is to achieve the same or better performance as hand-crafted spark code.  Currently the XFrame methods takes the simplest and most straightforward strategy to implement each of its operations.  As time goes on we can discover where performance could be improved by better strategies, and supply them in the library.  In this way, we insulate the data scientist from having to become expert in spark optimization and have a place to encode our spark expertise for all to use.\n",
    "\n",
    "Spark's lazy evaluation improves the interactive experience and the overall execution time, but it does so at the expense of usable error messages.  The problem is that many things that can go wrong in a computation do not surface until the very last step, where the answer is being evaluated (often in a save, count, or collect operation).  The error was actually made long before this point, and the spark error output is often of little help in identifying what went wrong.\n",
    "\n",
    "xFrames addresses this by doing extensive checking before calling the spark operations.  It keeps track of column name and type as the operations are being interpreted (not in a lazy way) so that type errors are reported as they occur.  That does not completely solve the problem, so we need to find a way to analyze the kinds of failures people see in practice and relate them to the real source of the error.\n",
    "\n",
    "Finally, there are a number of spark API functions that are not used by xFrames.  We need to understand why these were included in spark: what they are for and when they would be appropriate to use.  In some cases, they are provided for performance improvement.  In these cases, the xFrames library needs to detect when it is in a situation appropriate to these specialized operations, and to make use of them.  If there are operations that are there because they are essential to some use case, then we need to evaluate whether xFrames needs a corresponding API.\n"
   ]
  },
  {
   "cell_type": "markdown",
   "metadata": {},
   "source": [
    "## Possible Improvements"
   ]
  },
  {
   "cell_type": "markdown",
   "metadata": {},
   "source": [
    "### Core Improvements"
   ]
  },
  {
   "cell_type": "markdown",
   "metadata": {},
   "source": [
    "* Better caching strategy\n",
    "  * If there is too little caching data is recomputed\n",
    "  * IOf there is too much caching data written to disk needlessly\n",
    "* Better algorithms\n",
    "  * Make better use if paritition-aware methods such as mapPartition\n",
    "  * Use different strategies fior different cases (for instance, implement filterby with filter for small sets, join for larger ones)\n",
    "  * Need better zip that does not require aligned partitions, but that does not do shuffle if they are aligned\n",
    "* Better partitioning strategy\n",
    "  * Maintain enough partitions to make use of cluster nodes/cores\n",
    "  * Balance with shuffle overhead"
   ]
  },
  {
   "cell_type": "markdown",
   "metadata": {},
   "source": [
    "### Machine Learning Improvements"
   ]
  },
  {
   "cell_type": "markdown",
   "metadata": {},
   "source": [
    "* MLlib (pySpark) is incomplete, inconsistent, and buggy (not ready for serious use)\n",
    "  * Model save/load is missing for most models\n",
    "  * Limited selection of algorithms\n",
    "* MLlib is being phased out in favor of ML\n",
    "* Can we wrap in xpatterns so the differences can be hidden?"
   ]
  },
  {
   "cell_type": "markdown",
   "metadata": {},
   "source": [
    "## Implementation Details"
   ]
  },
  {
   "cell_type": "markdown",
   "metadata": {},
   "source": [
    "### Storge Format"
   ]
  },
  {
   "cell_type": "markdown",
   "metadata": {},
   "source": [
    "For an XFrame, there are two ways that the data could have been stored: each row of the XFrame could be stored in an RDD row, or else each column could be stored separately.  Each makes sense: each choice makes some operations faster and others slower.\n",
    "\n",
    "Columnar storage makes vector arithmetic, column operations, and groupby efficient, but sort, filter, and join inefficient.\n",
    "\n",
    "Row storage makes sort, filter, and join efficient and vector arithmetic inefficient.  \n",
    "\n",
    "Either choice required RDD functions in the zip family (zip, zipWithIndex, etc).  These operations are problematic for the following reasons:\n",
    "  * ZipWithIndex does not work well with lazy evluation: it evaluates the RDD\n",
    "  * Operands of zip must have the same number of partitions, and the same number of elements in each partition.  There is no way to determine, at runtime, of these conditions are met.\n",
    "  * Before spark 1.3, pySpark zip operations were buggy\n",
    "  \n",
    "For simplicity, we decided to use row order for storing XFrames in RDDs.  It should be noted that internally the DataFrame (a subclass of RDD) stores data in columnar order, so it might be possible to use that to switch back and forth, depending on the nature of the operations being performed."
   ]
  },
  {
   "cell_type": "markdown",
   "metadata": {},
   "source": [
    "Each XArray and XFrame instance stores exactly one RDD.  All data is in the RDD.  In addition, type information as well as column name information (for XFrames) is stored outside the RDD.  \n",
    "\n",
    "When an XArray or XFrame is stored, the additional information is also stored.  The load functions use this to restore the additional data.\n"
   ]
  },
  {
   "cell_type": "markdown",
   "metadata": {},
   "source": [
    "### Operations"
   ]
  },
  {
   "cell_type": "markdown",
   "metadata": {},
   "source": [
    "Operator overloading is done using pythons *special function names*.  For instance, `a + b` is implemented as as `a.__add__(b)`, a method of class a.  This is used for the unary and binary scalar and vector arithmetic functions on XArray.\n",
    "\n",
    "In addition, the square bracket operation is implemented by `__getitem__` and `__setitem__`.  The XFrame method tests the type of the operand (at runtime) and implements either row selection (if the operand is an XArray) or column selection (if the operand is a string or a list of strings).  \n",
    "\n",
    "Many other XArray and XFrame make use of operand type overloading, performing different operations if their arguments are strings, lists, dictionaries, or XArrays.  This reduces the number if different operations that are defined, and also reduces the use of optional arguments."
   ]
  },
  {
   "cell_type": "markdown",
   "metadata": {},
   "source": [
    "Most operations delegate to a similarly-named RDD operation in spark.  Let's look at one example: the join operation.\n",
    "\n",
    "The RDD join operation required *pair RDDs*, that is a list of key/value pairs.  The key forld of each of the joined RDDs is used to do the matching.  The resulting row contains a triple: the key and the rows from each table.\n",
    "\n",
    "The XFrame join operation takes normal RDDs, creates pair RDDS, calls the RDD join operation, and then sorts out the result to produce another normal RDD.  \n",
    "\n",
    "The XFrame join operation determins the join key by considering the following cases:\n",
    "  * No join columns are given.  All common columns are used as join keys.  If there are no such columns, an error is thrown.\n",
    "  * A join column or list of columns is given.  These are used as the join columns.  As before, these must be present in both tables.\n",
    "  * A dictionary of name pairs is given.  These are interpreted as left/right table column names.  As before, the corresponding columns musrt exist in each table.\n",
    "\n",
    "Using the list of names, the corresponding column numbers are determined.  A RDD map operation on each of the tables generates pair RDDs.  The map operation concatenates columns (when there are more than one) using a json\n",
    "formatter, so there are no inadvertent matches due to unexpected column values.\n",
    "\n",
    "After the underlying join operation is complete, the key must be removed, and the two result fields must be merged.  There will be two copies of the key fields: one of them must be eliminated.  The same merging takes place on the column name and type information.  \n",
    "\n",
    "This example is meant to show that although the XFrame join is delegated to the RDD join, considerable work, including five map operations, is done as well to generate the kind of join operation that is useful to the data scientist."
   ]
  },
  {
   "cell_type": "markdown",
   "metadata": {},
   "source": [
    "## Nontrivial Operations"
   ]
  },
  {
   "cell_type": "markdown",
   "metadata": {},
   "source": [
    "### CSV Reading"
   ]
  },
  {
   "cell_type": "markdown",
   "metadata": {},
   "source": [
    "CSV files are read as lines of text, from any of the text file readers supported by spark.  Then a map job parses the lines with a CSV reader, converting them into spark arrays, which become rows in the RDD.  The python CSV reader looks at the first part of the file to determine column names and types, if there are no hints provided."
   ]
  },
  {
   "cell_type": "markdown",
   "metadata": {},
   "source": [
    "### Stack"
   ]
  },
  {
   "cell_type": "markdown",
   "metadata": {},
   "source": [
    "Stack has separate variants for list and dictionary.  Both rely on the RDD.flatMap operation to create multiple rows."
   ]
  },
  {
   "cell_type": "markdown",
   "metadata": {},
   "source": [
    "### Pack"
   ]
  },
  {
   "cell_type": "markdown",
   "metadata": {},
   "source": [
    "Pack also has variants for lists and dictionaries, and uses map internally."
   ]
  },
  {
   "cell_type": "markdown",
   "metadata": {},
   "source": [
    "### Apply "
   ]
  },
  {
   "cell_type": "markdown",
   "metadata": {},
   "source": [
    "Apply relies on RDD.map."
   ]
  },
  {
   "cell_type": "markdown",
   "metadata": {},
   "source": [
    "### Groupby"
   ]
  },
  {
   "cell_type": "markdown",
   "metadata": {},
   "source": [
    "Groupby, like join, starts by creating a key/value RDD, using the column or columns to group by using map.  It uses RDD.groupByKey to do the grouping, then another to unpack the grouped columns.  There are a built-in collection of predefined aggregators, which are processed by another map operation."
   ]
  },
  {
   "cell_type": "markdown",
   "metadata": {},
   "source": [
    "### Join"
   ]
  },
  {
   "cell_type": "markdown",
   "metadata": {},
   "source": [
    "Join was described earlier.  Map is used to build a key, then one of the variants of RDD.join does the join step, followed by another map step to create the result RDD."
   ]
  },
  {
   "cell_type": "markdown",
   "metadata": {},
   "source": [
    "### Filterby"
   ]
  },
  {
   "cell_type": "markdown",
   "metadata": {},
   "source": [
    "Filterby can take one or a list of values, or an XArray of many values.  If there are only a few filter values, then RDD.filter is used.  If an XArray is given, then filtering is done using join."
   ]
  },
  {
   "cell_type": "markdown",
   "metadata": {},
   "source": [
    "### Unstack"
   ]
  },
  {
   "cell_type": "markdown",
   "metadata": {},
   "source": [
    "Unstack uses groupby to coalesce columns."
   ]
  },
  {
   "cell_type": "markdown",
   "metadata": {},
   "source": [
    "### Unpack"
   ]
  },
  {
   "cell_type": "markdown",
   "metadata": {},
   "source": [
    "Unpack creates multiple columns using several passes of map.  In practice these are combined by the spark evaluator."
   ]
  },
  {
   "cell_type": "markdown",
   "metadata": {},
   "source": [
    "### Sketch"
   ]
  },
  {
   "cell_type": "markdown",
   "metadata": {},
   "source": [
    "Sketch uses the RDD stats command to compute most of the numerical quantities.  The frequent items and the quantile sketch is computed by spSpark code, only if these values are requested.  These two algorithms are the only complex operations involving data sets that are not delegated to spark.  Both are based on the min-count sketch data structure."
   ]
  },
  {
   "cell_type": "markdown",
   "metadata": {},
   "source": [
    "### Print"
   ]
  },
  {
   "cell_type": "markdown",
   "metadata": {},
   "source": [
    "Print is the most complex function in XFrames.  It extracts the subset of rows that are to be printed, then formats them to fit on the page."
   ]
  },
  {
   "cell_type": "markdown",
   "metadata": {},
   "source": [
    "## Trivial Operations"
   ]
  },
  {
   "cell_type": "markdown",
   "metadata": {},
   "source": [
    "The following operations consist of little else than a single call to an RDD primitive:\n",
    "* num_columns, column_names, column_types, set_column_name\n",
    "* num_rows (count)\n",
    "* head (take)\n",
    "* select_column, select_columns, remove_columns, swao_columns, replace_columns(map)\n",
    "* add_column (zip and map)\n",
    "* iteration (zipWithIndex, filter, collect)\n",
    "* logical_filter (zip, filter)\n",
    "* drop_missing_values (filter)\n",
    "* add_row_number (zipWithIndex)\n",
    "* sort (sort)\n",
    "* unique (distinct)\n",
    "* sample (sample)\n",
    "* random_split (map, zip, and filter)\n",
    "* append (union)"
   ]
  },
  {
   "cell_type": "code",
   "execution_count": null,
   "metadata": {
    "collapsed": false
   },
   "outputs": [],
   "source": []
  }
 ],
 "metadata": {
  "kernelspec": {
   "display_name": "Python 2",
   "language": "python",
   "name": "python2"
  },
  "language_info": {
   "codemirror_mode": {
    "name": "ipython",
    "version": 2
   },
   "file_extension": ".py",
   "mimetype": "text/x-python",
   "name": "python",
   "nbconvert_exporter": "python",
   "pygments_lexer": "ipython2",
   "version": "2.7.3"
  }
 },
 "nbformat": 4,
 "nbformat_minor": 0
}
